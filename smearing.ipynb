{
 "cells": [
  {
   "cell_type": "code",
   "execution_count": 50,
   "metadata": {},
   "outputs": [],
   "source": [
    "## Produce the smearing matrices & efficiencies using the intrinsic nue samples"
   ]
  },
  {
   "cell_type": "markdown",
   "metadata": {},
   "source": [
    "## Setup"
   ]
  },
  {
   "cell_type": "code",
   "execution_count": 51,
   "metadata": {},
   "outputs": [],
   "source": [
    "import sys\n",
    "sys.path.insert(0, 'backend_functions')\n",
    "from scipy.stats import norm\n",
    "from matplotlib.colors import LogNorm\n",
    "import xsec_functions\n",
    "\n",
    "import importlib\n",
    "import uproot\n",
    "import numpy as np\n",
    "import math\n",
    "import matplotlib.pyplot as plt\n",
    "import pandas as pd\n",
    "\n",
    "importlib.reload(xsec_functions)\n",
    "from xsec_functions import *\n",
    "\n",
    "import selection_functions\n",
    "import awkward\n",
    "\n",
    "import ROOT\n",
    "\n",
    "from ROOT import TH2D, TH1D, TH1F\n",
    "\n",
    "import top \n",
    "from top import *\n",
    "\n",
    "# This is our configuration file, cfg.py, which contains the variable names and related info.\n",
    "import cfg\n",
    "from cfg import *"
   ]
  },
  {
   "cell_type": "code",
   "execution_count": 52,
   "metadata": {},
   "outputs": [],
   "source": [
    "importlib.reload(selection_functions)\n",
    "from selection_functions import *"
   ]
  },
  {
   "cell_type": "code",
   "execution_count": 53,
   "metadata": {},
   "outputs": [],
   "source": [
    "importlib.reload(xsec_functions)\n",
    "from xsec_functions import *"
   ]
  },
  {
   "cell_type": "code",
   "execution_count": null,
   "metadata": {},
   "outputs": [],
   "source": [
    "# Choose your run! \n",
    "ISRUN3 = False # True for Run 3 | False for Run 1\n",
    "\n",
    "cut_level = \"\""
   ]
  },
  {
   "cell_type": "code",
   "execution_count": null,
   "metadata": {
    "scrolled": true
   },
   "outputs": [
    {
     "name": "stdout",
     "output_type": "stream",
     "text": [
      "From cfg.py...\n",
      "Variable definition: Proton Multiplicity\n",
      "Reconstructed variable = n_tracks_contained\n",
      "True variable = nproton\n",
      "Bins = [1, 2, 3, 12]\n",
      "Lowest x-value on plot = 1\n",
      "Highest x-value on plot = 5\n",
      "x-axis title = Proton Multiplicity\n",
      "x-axis labels = [1, 2, 3]\n"
     ]
    }
   ],
   "source": [
    "# Choose your variable!\n",
    "# Variables = \"Opening Angle\", \"Proton Multiplicity\", \"Electron Energy\", \"Visible Energy\"\n",
    "name_of_variable = \"Electron Energy\" \n",
    "xvar, true_var, bins, xlow, xhigh, x_label, x_ticks = get_variable_info(name_of_variable, ISRUN3, cut_level)"
   ]
  },
  {
   "cell_type": "code",
   "execution_count": null,
   "metadata": {},
   "outputs": [],
   "source": [
    "fold = \"nuselection\"\n",
    "tree = \"NeutrinoSelectionFilter\"\n",
    "\n",
    "# slimmed with opening angle \n",
    "path = parameters(ISRUN3)['cv_ntuple_path']\n",
    "#path = parameters(ISRUN3)['full_ntuple_path'] # This is what Katrina initially used!\n",
    "print('path = ', path)\n",
    "\n",
    "NUE = parameters(ISRUN3)['NUE']\n",
    "\n",
    "if not ISRUN3: \n",
    "    \n",
    "    NUE = 'neutrinoselection_filt_run1_overlay_intrinsic_v7'\n",
    "\n",
    "else: \n",
    "    \n",
    "    NUE = 'neutrinoselection_filt_run3b_overlay_intrinsic_v7'"
   ]
  },
  {
   "cell_type": "code",
   "execution_count": null,
   "metadata": {},
   "outputs": [],
   "source": [
    "if ISRUN3:\n",
    "    nue = uproot.open(\"/Users/abarnard/phd/pelee_ntuples/run3b/slimmed/numi_nue_run3_slimmed.root\")[fold][tree]\n",
    "\n",
    "else:\n",
    "    nue = uproot.open(\"/Users/abarnard/phd/pelee_ntuples/run1/slimmed/numi_nue_run1_slimmed.root\")[fold][tree]\n",
    "\n",
    "uproot_nue = nue"
   ]
  },
  {
   "cell_type": "markdown",
   "metadata": {},
   "source": [
    "## Create pandas dataframes"
   ]
  },
  {
   "cell_type": "code",
   "execution_count": 58,
   "metadata": {},
   "outputs": [],
   "source": [
    "\n",
    "variables = [\n",
    "    \"selected\", \"nu_pdg\", \n",
    "    \"trk_score_v\", \n",
    "    \"shr_tkfit_dedx_Y\",\n",
    "    \"ccnc\", \n",
    "    \"n_tracks_contained\", \n",
    "    \"NeutrinoEnergy2\",\n",
    "    \"reco_nu_vtx_sce_x\",\"reco_nu_vtx_sce_y\",\"reco_nu_vtx_sce_z\",\n",
    "    \"true_nu_vtx_x\", \"true_nu_vtx_y\" , \"true_nu_vtx_z\", \n",
    "    \"nproton\", \"nu_e\", \"n_showers_contained\",\n",
    "    \"shr_score\", \n",
    "    \"trk_energy\", \"tksh_distance\", \"tksh_angle\",\n",
    "    \"npi0\", \n",
    "    \"shr_energy_tot_cali\", \"shr_energy_cali\", \n",
    "    \"nslice\",\n",
    "    \"contained_fraction\",\n",
    "    \"npion\", \n",
    "    \"shrmoliereavg\", \n",
    "    \"shrsubclusters0\",\"shrsubclusters1\",\"shrsubclusters2\", \n",
    "    \"shr_tkfit_npointsvalid\",\"shr_tkfit_npoints\", \"true_e_visible\", \"trkshrhitdist2\", \n",
    "    \"weightSplineTimesTune\", \"weightTune\", \"true_nu_px\", \"true_nu_py\", \"true_nu_pz\", \n",
    "    \"elec_e\", \"proton_e\", \"mc_px\", \"mc_py\", \"mc_pz\", \"elec_px\", \"elec_py\", \"elec_pz\", \n",
    "    \"swtrig_pre\", \"ppfx_cv\", \"mc_pdg\", 'opening_angle', 'interaction', 'run', 'nelec']\n"
   ]
  },
  {
   "cell_type": "code",
   "execution_count": 59,
   "metadata": {},
   "outputs": [],
   "source": [
    "nue = nue.pandas.df(variables, flatten=False)"
   ]
  },
  {
   "cell_type": "code",
   "execution_count": null,
   "metadata": {},
   "outputs": [],
   "source": [
    "# corrected visible energy variable - account for electrons below 30 MeV \n",
    "# use this variable for the visible energy unfolding \n",
    "\n",
    "visible_energy_nothres(nue)"
   ]
  },
  {
   "cell_type": "code",
   "execution_count": null,
   "metadata": {},
   "outputs": [],
   "source": [
    "# Not adding the angles as now using slimmed files\n",
    "#nue = addAngles(nue)\n",
    "\n",
    "trk_llr_pid_v = uproot_nue.array('trk_llr_pid_score_v')\n",
    "trk_id = uproot_nue.array('trk_id')-1 # I think we need this -1 to get the right result\n",
    "trk_llr_pid_v_sel = awkward.fromiter([pidv[tid] if tid<len(pidv) else 9999. for pidv,tid in zip(trk_llr_pid_v,trk_id)])\n",
    "\n",
    "nue['trkpid'] = trk_llr_pid_v_sel\n",
    "nue['subcluster'] = nue['shrsubclusters0'] + nue['shrsubclusters1'] + nue['shrsubclusters2']\n",
    "nue['trkfit'] = nue['shr_tkfit_npointsvalid'] / nue['shr_tkfit_npoints']\n",
    "    \n",
    "nue['NeutrinoEnergy2_GeV'] = nue['NeutrinoEnergy2']/1000\n",
    "\n",
    "# Correction for reconstructed electron energy \n",
    "nue['shr_energy_cali'] = nue['shr_energy_cali']/0.83\n",
    "\n",
    "\n",
    "nue['is_signal'] = np.where((nue.swtrig_pre == 1) &\n",
    "                               (nue.nu_pdg==12) & (nue.ccnc==0) & (nue.nproton>0) & (nue.npion==0) & (nue.npi0==0)\n",
    "                             & (10 <= nue.true_nu_vtx_x) & (nue.true_nu_vtx_x <= 246)\n",
    "                             & (-106 <= nue.true_nu_vtx_y) & (nue.true_nu_vtx_y <= 106)\n",
    "                             & (10 <= nue.true_nu_vtx_z) & (nue.true_nu_vtx_z <= 1026), True, False)"
   ]
  },
  {
   "cell_type": "code",
   "execution_count": 62,
   "metadata": {},
   "outputs": [],
   "source": [
    "nue = nue.query('swtrig_pre==1')"
   ]
  },
  {
   "cell_type": "markdown",
   "metadata": {},
   "source": [
    "## Weights"
   ]
  },
  {
   "cell_type": "code",
   "execution_count": null,
   "metadata": {},
   "outputs": [],
   "source": [
    "# cuts applied for bad weights \n",
    "\n",
    "nue.loc[ nue['weightSplineTimesTune'] <= 0, 'weightSplineTimesTune' ] = 1.\n",
    "nue.loc[ nue['weightSplineTimesTune'] == np.inf, 'weightSplineTimesTune' ] = 1.\n",
    "nue.loc[ nue['weightSplineTimesTune'] > 100, 'weightSplineTimesTune' ] = 1.\n",
    "nue.loc[ np.isnan(nue['weightSplineTimesTune']) == True, 'weightSplineTimesTune' ] = 1.\n",
    "    \n",
    "nue.loc[ nue['weightTune'] <= 0, 'weightTune' ] = 1.\n",
    "nue.loc[ nue['weightTune'] == np.inf, 'weightTune' ] = 1.\n",
    "nue.loc[ nue['weightTune'] > 100, 'weightTune' ] = 1.\n",
    "nue.loc[ np.isnan(nue['weightTune']) == True, 'weightTune' ] = 1.  "
   ]
  },
  {
   "cell_type": "code",
   "execution_count": 64,
   "metadata": {},
   "outputs": [
    {
     "name": "stdout",
     "output_type": "stream",
     "text": [
      "Adding pot_scale column using dirt & EXT tune....\n"
     ]
    }
   ],
   "source": [
    "nue = pot_scale(nue, 'intrinsic', ISRUN3)"
   ]
  },
  {
   "cell_type": "code",
   "execution_count": null,
   "metadata": {},
   "outputs": [],
   "source": [
    "# WEIGHTS TO POTENTIALLY CHANGE\n",
    "# total weight - combined genie * flux weight (POT scale to intrinsic overlay)\n",
    "nue['totweight_intrinsic'] = nue['ppfx_cv']*nue['weightSplineTimesTune']\n",
    "nue['totweight_data'] = nue['ppfx_cv']*nue['weightSplineTimesTune']*nue['pot_scale']"
   ]
  },
  {
   "cell_type": "code",
   "execution_count": 66,
   "metadata": {},
   "outputs": [
    {
     "data": {
      "image/png": "[encoded data removed]",
      "text/plain": [
       "<Figure size 640x480 with 1 Axes>"
      ]
     },
     "metadata": {},
     "output_type": "display_data"
    },
    {
     "name": "stdout",
     "output_type": "stream",
     "text": [
      "Signal passing SW trigger =  29556.65234375\n",
      "Signal failing SW trigger =  0.0\n"
     ]
    }
   ],
   "source": [
    "# software trigger distribution \n",
    "\n",
    "n = plt.hist(nue.query('is_signal==True').swtrig_pre, bins=[-0.5, 0.5, 1.5], color='orange', \n",
    "         weights=nue.query('is_signal==True')['totweight_intrinsic'])[0]\n",
    "\n",
    "plt.xlabel(\"Software Trigger\", fontsize=13)\n",
    "plt.xticks([0,1])\n",
    "plt.yscale(\"log\")\n",
    "plt.show()\n",
    "\n",
    "print('Signal passing SW trigger = ', n[1])\n",
    "print('Signal failing SW trigger = ', n[0])\n"
   ]
  },
  {
   "cell_type": "code",
   "execution_count": 67,
   "metadata": {},
   "outputs": [],
   "source": [
    "# all we care about is signal \n",
    "signal_df = nue.query('is_signal==True')"
   ]
  },
  {
   "cell_type": "code",
   "execution_count": 68,
   "metadata": {},
   "outputs": [
    {
     "data": {
      "text/plain": [
       "False"
      ]
     },
     "execution_count": 68,
     "metadata": {},
     "output_type": "execute_result"
    }
   ],
   "source": [
    "ISRUN3"
   ]
  },
  {
   "cell_type": "markdown",
   "metadata": {},
   "source": [
    "## Interaction Breakdown"
   ]
  },
  {
   "cell_type": "code",
   "execution_count": 70,
   "metadata": {},
   "outputs": [
    {
     "data": {
      "image/png": "[encoded data removed]",
      "text/plain": [
       "<Figure size 800x500 with 1 Axes>"
      ]
     },
     "metadata": {},
     "output_type": "display_data"
    }
   ],
   "source": [
    "int_labels = {\n",
    "    '0': 'CCQE', \n",
    "    '1': 'CC Res', \n",
    "    '2': 'CC DIS', \n",
    "    '3': 'CC Coh', \n",
    "    '10': 'CC MEC' \n",
    "}\n",
    "\n",
    "fig = plt.figure(figsize=(8, 5))\n",
    "\n",
    "xvar = 'nu_e'\n",
    "\n",
    "ccqe = signal_df.query('interaction==0')\n",
    "ccres = signal_df.query('interaction==1')\n",
    "ccdis = signal_df.query('interaction==2')\n",
    "cccoh = signal_df.query('interaction==3')\n",
    "ccmec = signal_df.query('interaction==10')\n",
    "\n",
    "int_weights = [ccqe['totweight_data'], \n",
    "                 ccres['totweight_data'], \n",
    "                 ccdis['totweight_data'], \n",
    "                 cccoh['totweight_data'], \n",
    "                 ccmec['totweight_data']]\n",
    "\n",
    "int_counts = []\n",
    "for l in int_weights: \n",
    "    int_counts.append( np.nansum(l) )\n",
    "    \n",
    "tot_count = sum(int_counts)\n",
    "int_counts = [str(round((x/tot_count)*100, 1)) for x in int_counts]\n",
    "\n",
    "# signal broken down by interactions after the selection \n",
    "n, b, p = plt.hist([ccqe[xvar], ccres[xvar], ccdis[xvar], cccoh[xvar], ccmec[xvar]],\n",
    "          [x*0.25 for x in range(25)], \n",
    "          weights=int_weights,\n",
    "          label=[int_labels['0']+' ('+int_counts[0]+'%)', \n",
    "                 int_labels['1']+' ('+int_counts[1]+'%)', \n",
    "                 int_labels['2']+' ('+int_counts[2]+'%)', \n",
    "                 int_labels['3']+' ('+int_counts[3]+'%)', \n",
    "                 int_labels['10']+' ('+int_counts[4]+'%)'],\n",
    "          color=[ 'indianred','yellowgreen','moccasin',  'cornflowerblue', 'sandybrown'], \n",
    "          stacked=True)\n",
    "\n",
    "bincenters = 0.5*(b[1:]+b[:-1])\n",
    "\n",
    "y_err = mc_error(xvar, b, b[0], b[-1], [signal_df])\n",
    "#y_err = [x*y for x, y in zip(n[-1], signal_percent_err)]\n",
    "\n",
    "plt.hist(bincenters, b, color='black', linewidth=0.75, weights=n[-1], histtype='step')\n",
    "plt.errorbar(bincenters, n[-1], yerr=y_err,\n",
    "             color='black', linewidth=.75, fmt='none')#, alpha=.7)\n",
    "\n",
    "plt.xticks(fontsize=13)\n",
    "plt.yticks(fontsize=13)\n",
    "\n",
    "plt.xlabel(\"True Neutrino Energy [GeV]\", fontsize=15)\n",
    "plt.ylabel('$\\\\nu$ / $5\\\\times10^{20}$ POT', fontsize=15)\n",
    "#plt.title('RHC RUN 3 Event Rate', fontsize=16)\n",
    "\n",
    "plt.legend(frameon=False, fontsize=14)\n",
    "\n",
    "plt.xlim(0, 6)\n",
    "\n",
    "#plt.savefig(parameters(ISRUN3)['plots_path']+\"RHCInteractions.pdf\", transparent=True, bbox_inches='tight') \n",
    "\n",
    "plt.show()"
   ]
  },
  {
   "cell_type": "markdown",
   "metadata": {},
   "source": [
    "## Apply BDT selection"
   ]
  },
  {
   "cell_type": "code",
   "execution_count": 71,
   "metadata": {},
   "outputs": [
    {
     "name": "stdout",
     "output_type": "stream",
     "text": [
      "BDT SCORE THRESHOLD = 0.55\n"
     ]
    }
   ],
   "source": [
    "bdt_score_cut = parameters(ISRUN3)['bdt_score_cut']\n",
    "print(\"BDT SCORE THRESHOLD = \"+str(bdt_score_cut))"
   ]
  },
  {
   "cell_type": "code",
   "execution_count": 72,
   "metadata": {},
   "outputs": [],
   "source": [
    "selected_signal_query = 'is_signal==True and '+BDT_LOOSE_CUTS+' and BDT_score>'+str(bdt_score_cut)"
   ]
  },
  {
   "cell_type": "code",
   "execution_count": 73,
   "metadata": {},
   "outputs": [
    {
     "name": "stderr",
     "output_type": "stream",
     "text": [
      "/exp/uboone/app/users/abarnard/katrina_analysis/env/lib/python3.9/site-packages/xgboost/core.py:160: UserWarning: [09:17:06] WARNING: /workspace/src/learner.cc:1071: Loading model from XGBoost < 1.0.0, consider saving it again for improved compatibility\n",
      "  warnings.warn(smsg, UserWarning)\n"
     ]
    }
   ],
   "source": [
    "bdt_model = xgb.Booster({'nthread': 4})\n",
    "bdt_model.load_model(parameters(ISRUN3)['bdt_model'])\n"
   ]
  },
  {
   "cell_type": "code",
   "execution_count": 74,
   "metadata": {},
   "outputs": [
    {
     "name": "stdout",
     "output_type": "stream",
     "text": [
      "Number of selected signal events = 6604.782167281409\n"
     ]
    }
   ],
   "source": [
    "# pandas data frame which contains the data after the main cuts are applied.\n",
    "signal_df = signal_df.query(BDT_LOOSE_CUTS+' and is_signal==True')\n",
    "\n",
    "# clean datasets \n",
    "for column in training_parameters:\n",
    "    signal_df.loc[(signal_df[column] < -1.0e37) | (signal_df[column] > 1.0e37), column] = np.nan\n",
    "    \n",
    "# create testing dmatrix \n",
    "signal_test = xgb.DMatrix(data=signal_df[training_parameters])\n",
    "    \n",
    "# apply the bdt selection\n",
    "preds = bdt_model.predict(signal_test)\n",
    "\n",
    "# add columns for plotting \n",
    "signal_df['BDT_score'] = preds\n",
    "\n",
    "print('Number of selected signal events = ' + str(sum(signal_df.query(selected_signal_query).totweight_intrinsic)))"
   ]
  },
  {
   "cell_type": "code",
   "execution_count": 75,
   "metadata": {},
   "outputs": [
    {
     "data": {
      "text/plain": [
       "False"
      ]
     },
     "execution_count": 75,
     "metadata": {},
     "output_type": "execute_result"
    }
   ],
   "source": [
    "ISRUN3"
   ]
  },
  {
   "cell_type": "code",
   "execution_count": 76,
   "metadata": {
    "scrolled": true
   },
   "outputs": [
    {
     "data": {
      "text/plain": [
       "'/exp/uboone/app/users/abarnard/katrina_analysis/code/uBNuMI_CC1eNp/plots/rhc'"
      ]
     },
     "execution_count": 76,
     "metadata": {},
     "output_type": "execute_result"
    }
   ],
   "source": [
    "parameters(ISRUN3)['plots_path']"
   ]
  },
  {
   "cell_type": "markdown",
   "metadata": {},
   "source": [
    "## Electron energy correction probing"
   ]
  },
  {
   "cell_type": "markdown",
   "metadata": {},
   "source": [
    "### Double plot of true vs. reconstructed electron energy "
   ]
  },
  {
   "cell_type": "code",
   "execution_count": 77,
   "metadata": {},
   "outputs": [
    {
     "data": {
      "image/png": "[encoded data removed]",
      "text/plain": [
       "<Figure size 1200x400 with 3 Axes>"
      ]
     },
     "metadata": {},
     "output_type": "display_data"
    }
   ],
   "source": [
    "# Extra requirements for the log graph and such \n",
    "from matplotlib.colors import LogNorm\n",
    "from matplotlib.ticker import ScalarFormatter, StrMethodFormatter\n",
    "\n",
    "# Define the range for the x and y-axes\n",
    "x_min = 0\n",
    "x_max = 2.5\n",
    "y_min = 0\n",
    "y_max = 2.5\n",
    "\n",
    "# Define the number of bins for the histogram\n",
    "x_bins = 100  \n",
    "y_bins = 100\n",
    "\n",
    "# Create subplots with 1 row and 2 columns\n",
    "fig, axs = plt.subplots(1, 2, figsize=(12, 4))\n",
    "\n",
    "# Plotting the 2D histograms with a logarithmic scale\n",
    "axs[0].hist2d(signal_df['elec_e'], signal_df['shr_energy_cali'], bins=(x_bins, y_bins), cmap='plasma', norm=LogNorm()) # No correction\n",
    "axs[1].hist2d(signal_df['elec_e'], signal_df['shr_energy_cali']/0.83, bins=(x_bins, y_bins), cmap='plasma', norm=LogNorm()) # Correction\n",
    "\n",
    "# Colorbar\n",
    "cbar = fig.colorbar(axs[1].collections[0], ax=axs, label='Log Counts', format=StrMethodFormatter('{x:.0f}'))\n",
    "cbar.ax.tick_params(labelsize=16)\n",
    "cbar.set_label('Log Counts', fontsize=16) \n",
    "\n",
    "# Set x and y axis labels and limits\n",
    "for ax in axs:\n",
    "    ax.set_xlabel(r'$E^{electron}_{true}$ [GeV]', fontsize=16)\n",
    "    ax.set_xlim(x_min, x_max)\n",
    "    ax.set_ylim(y_min, y_max)\n",
    "    ax.minorticks_on()\n",
    "    ax.tick_params(direction='in', which='both')\n",
    "    ax.tick_params(axis='both', which='major', length=8)\n",
    "    ax.tick_params(axis='both', which='minor', length=4)\n",
    "    ax.tick_params(axis='both', labelsize=12)\n",
    "    # Plotting the line of y = x for both plots. \n",
    "    ax.plot([x_min, x_max], [y_min, y_max], color='black', linestyle='--', linewidth=2)\n",
    "\n",
    "# Add y-label only to the first subplot\n",
    "axs[0].set_ylabel(r'$E^{electron}_{calorimetry}$ [GeV]', fontsize=16)\n",
    "\n",
    "# Add text labels\n",
    "axs[0].text(0.05, 0.95, 'No Correction Applied', fontsize=11, ha='left', va='top', transform=axs[0].transAxes)\n",
    "axs[1].text(0.05, 0.95, 'Correction Applied', fontsize=11, ha='left', va='top', transform=axs[1].transAxes)\n",
    "\n",
    "# Save the figure to my area\n",
    "# plt.savefig('/exp/uboone/app/users/abarnard/Reco_vs_True_Elec_Energy.pdf', bbox_inches='tight')\n",
    "\n",
    "plt.show()"
   ]
  },
  {
   "cell_type": "markdown",
   "metadata": {},
   "source": [
    "### Double plot relative energy resolution"
   ]
  },
  {
   "cell_type": "code",
   "execution_count": 78,
   "metadata": {
    "scrolled": true
   },
   "outputs": [
    {
     "data": {
      "image/png": "[encoded data removed]",
      "text/plain": [
       "<Figure size 1200x400 with 2 Axes>"
      ]
     },
     "metadata": {},
     "output_type": "display_data"
    }
   ],
   "source": [
    "# Create figure and subplots\n",
    "fig, axs = plt.subplots(1, 2, figsize=(12, 4))\n",
    "\n",
    "# Calculate the difference between reconstructed energy and true energy (accuracy in resolution) \n",
    "energy_difference_uncorrected = signal_df['shr_energy_cali'] - signal_df['elec_e'] # Without correction\n",
    "energy_difference_corrected = signal_df['shr_energy_cali'] / 0.83 - signal_df['elec_e'] # With correction\n",
    "\n",
    "# Calculate (reconstructed energy - true energy) / true energy\n",
    "relative_energy_difference_uncorrected = energy_difference_uncorrected / signal_df['elec_e']\n",
    "relative_energy_difference_corrected = energy_difference_corrected / signal_df['elec_e']\n",
    "\n",
    "# Plot the 1D histograms - more bins = lower frequency! BIN WIDTH NORMALISE!!!!!!!!!!! \n",
    "plotBins=np.arange(-1.0, 1.0, 0.05)\n",
    "axs[0].hist(relative_energy_difference_uncorrected, bins=plotBins, color='deeppink', edgecolor='deeppink', alpha=0.7)\n",
    "axs[1].hist(relative_energy_difference_corrected, bins=plotBins, color='deeppink', edgecolor='deeppink', alpha=0.7)\n",
    "\n",
    "# Change the minimum and maximum x and y-axis values depending on how to plot comes out/what you want to see  \n",
    "x_min = -1.2\n",
    "x_max = 1.2\n",
    "y_min = 0\n",
    "y_max = 1200\n",
    "\n",
    "# Set x and y axis labels and limits\n",
    "for ax in axs:\n",
    "    ax.set_xlabel((r'$(E^{electron}_{calorimetry} - E^{electron}_{true}) / E^{electron}_{true}$'), fontsize=16)\n",
    "    ax.set_xlim(x_min, x_max)\n",
    "    ax.minorticks_on()\n",
    "    ax.tick_params(direction='in', which='both')\n",
    "    ax.tick_params(axis='both', which='major', length=8)\n",
    "    ax.tick_params(axis='both', which='minor', length=4)\n",
    "    ax.tick_params(axis='both', labelsize=12)\n",
    "    ax.axvline(x=0, color='blueviolet', linestyle='--')\n",
    "\n",
    "    # ax.set_ylim(y_min, y_max)\n",
    "\n",
    "axs[0].set_ylabel('Number of Events', fontsize=16)\n",
    "                  \n",
    "axs[0].text(0.95, 0.95, 'No Correction Applied', fontsize=11, ha='right', va='top', transform=axs[0].transAxes)\n",
    "axs[1].text(0.95, 0.95, 'Correction Applied', fontsize=11, ha='right', va='top', transform=axs[1].transAxes)\n",
    "                  \n",
    "# Save the figure to my area\n",
    "# plt.savefig('/uboone/app/users/abarnard/Relative_Energy_Resolution.png', bbox_inches='tight')\n",
    "                  \n",
    "plt.show()"
   ]
  },
  {
   "cell_type": "code",
   "execution_count": 79,
   "metadata": {
    "scrolled": true
   },
   "outputs": [
    {
     "name": "stdout",
     "output_type": "stream",
     "text": [
      "Total number of events (no correction): 8407\n",
      "Total number of events (with correction): 8394\n"
     ]
    },
    {
     "data": {
      "text/plain": [
       "<matplotlib.legend.Legend at 0x7fa879139400>"
      ]
     },
     "execution_count": 79,
     "metadata": {},
     "output_type": "execute_result"
    },
    {
     "data": {
      "image/png": "[encoded data removed]",
      "text/plain": [
       "<Figure size 800x600 with 1 Axes>"
      ]
     },
     "metadata": {},
     "output_type": "display_data"
    }
   ],
   "source": [
    "from matplotlib import rcParams, rcdefaults\n",
    "\n",
    "# Restore default settings\n",
    "rcdefaults()\n",
    "\n",
    "# Calculate the difference between reconstructed energy and true energy (accuracy in resolution) \n",
    "energy_difference_uncorrected = signal_df['shr_energy_cali'] - signal_df['elec_e'] # Without correction\n",
    "energy_difference_corrected = signal_df['shr_energy_cali'] / 0.83 - signal_df['elec_e'] # With correction\n",
    "\n",
    "# Calculate (reconstructed energy - true energy) / true energy\n",
    "relative_energy_difference_uncorrected = energy_difference_uncorrected / signal_df['elec_e']\n",
    "relative_energy_difference_corrected = energy_difference_corrected / signal_df['elec_e']\n",
    "\n",
    "# Calculate the histograms to get the counts\n",
    "plotBins = np.arange(-1.0, 1.0, 0.05)\n",
    "counts_uncorrected, _ = np.histogram(relative_energy_difference_uncorrected, bins=plotBins)\n",
    "counts_corrected, _ = np.histogram(relative_energy_difference_corrected, bins=plotBins)\n",
    "\n",
    "# Find the total number of events in each histogram\n",
    "total_events_uncorrected = np.sum(counts_uncorrected)\n",
    "total_events_corrected = np.sum(counts_corrected)\n",
    "\n",
    "# Print the total number of events\n",
    "print(f'Total number of events (no correction): {total_events_uncorrected}')\n",
    "print(f'Total number of events (with correction): {total_events_corrected}')\n",
    "\n",
    "# Create the plot\n",
    "plt.figure(figsize=(8, 6))\n",
    "\n",
    "# Plot the histograms\n",
    "plt.hist(relative_energy_difference_uncorrected, bins=plotBins, edgecolor='deepskyblue', histtype='step', linewidth=1.8, label='Uncorrected')\n",
    "plt.hist(relative_energy_difference_corrected, bins=plotBins, edgecolor='blueviolet', histtype='step', linewidth=1.8, label='Corrected')\n",
    "\n",
    "# Set x and y axis labels and limits\n",
    "plt.xlabel((r'$(E^{electron}_{calorimetry} - E^{electron}_{true}) / E^{electron}_{true}$'), fontsize=20, labelpad=10)\n",
    "plt.ylabel('Number of Events', fontsize=20, labelpad=10)\n",
    "plt.xlim(-1.2, 1.2)\n",
    "#plt.ylim(0, 900)\n",
    "plt.axvline(x=0, color='deeppink', linestyle='--', linewidth=1.8)\n",
    "plt.minorticks_on()\n",
    "plt.tick_params(direction='in', which='both')\n",
    "plt.tick_params(axis='both', which='major', length=8)\n",
    "plt.tick_params(axis='both', which='minor', length=4)\n",
    "plt.tick_params(axis='both', labelsize=18, pad=8)\n",
    "\n",
    "# Add a legend with custom positioning\n",
    "plt.legend(fontsize=16, loc='upper right', bbox_to_anchor=(0.98, 0.98))\n",
    "\n",
    "# Save the figure to my area\n",
    "# plt.savefig('/exp/uboone/app/users/abarnard/Relative_Energy_Resolution.pdf', bbox_inches='tight')\n",
    "\n",
    "# Show the plot\n",
    "# plt.show()"
   ]
  },
  {
   "cell_type": "markdown",
   "metadata": {},
   "source": [
    "## Choose a variable! "
   ]
  },
  {
   "cell_type": "code",
   "execution_count": null,
   "metadata": {},
   "outputs": [
    {
     "name": "stdout",
     "output_type": "stream",
     "text": [
      "From cfg.py...\n",
      "Variable definition: Proton Multiplicity\n",
      "Reconstructed variable = n_tracks_contained\n",
      "True variable = nproton\n",
      "Bins = [1, 2, 3, 12]\n",
      "Lowest x-value on plot = 1\n",
      "Highest x-value on plot = 5\n",
      "x-axis title = Proton Multiplicity\n",
      "x-axis labels = [1, 2, 3]\n"
     ]
    }
   ],
   "source": [
    "# xvar is defined earlier up in the code as something else (nu_e). To overwrite this change, you need to re-define it\n",
    "# here, despite it being defined first in cfg.py! \n",
    "# Variables = \"Opening Angle\", \"Proton Multiplicity\", \"Electron Energy\", \"Visible Energy\"\n",
    "name_of_variable = \"Electron Energy\" \n",
    "xvar, true_var, bins, xlow, xhigh, x_label, x_ticks = get_variable_info(name_of_variable, ISRUN3, cut_level) # Order dependent! "
   ]
  },
  {
   "cell_type": "code",
   "execution_count": 81,
   "metadata": {},
   "outputs": [],
   "source": [
    "beamon_pot = parameters(ISRUN3)['beamon_pot']"
   ]
  },
  {
   "cell_type": "code",
   "execution_count": 82,
   "metadata": {
    "scrolled": true
   },
   "outputs": [
    {
     "data": {
      "text/plain": [
       "'is_signal==True and swtrig_pre==1 and nslice==1 and 10<=reco_nu_vtx_sce_x<=246 and -106<=reco_nu_vtx_sce_y<=106 and 10<=reco_nu_vtx_sce_z<=1026 and contained_fraction>0.9 and n_showers_contained==1 and n_tracks_contained>0 and trk_energy>0.04 and shr_score<0.3 and shrmoliereavg<15 and shr_tkfit_dedx_Y<7 and trkpid<0.35 and tksh_distance<12 and BDT_score>0.55'"
      ]
     },
     "execution_count": 82,
     "metadata": {},
     "output_type": "execute_result"
    }
   ],
   "source": [
    "selected_signal_query"
   ]
  },
  {
   "cell_type": "markdown",
   "metadata": {},
   "source": [
    "## Reco vs. True Distribution"
   ]
  },
  {
   "cell_type": "code",
   "execution_count": 83,
   "metadata": {},
   "outputs": [],
   "source": [
    "bincenters = 0.5*(np.array(bins[:-1]+[xhigh])[1:]+np.array(bins[:-1]+[xhigh])[:-1])"
   ]
  },
  {
   "cell_type": "code",
   "execution_count": null,
   "metadata": {},
   "outputs": [
    {
     "data": {
      "image/png": "[encoded data removed]",
      "text/plain": [
       "<Figure size 1000x700 with 1 Axes>"
      ]
     },
     "metadata": {},
     "output_type": "display_data"
    }
   ],
   "source": [
    "###### TRUE ######\n",
    "\n",
    "fig = plt.figure(figsize=(10, 7))\n",
    "\n",
    "plt.hist(signal_df.query(selected_signal_query)[true_var], bins, \n",
    "                weights=signal_df.query(selected_signal_query).totweight_intrinsic, \n",
    "                alpha=0.7, label='True', color='orange')\n",
    "\n",
    "\n",
    "plt.xlabel(x_label, fontsize=15)\n",
    "#plt.ylabel('$\\\\nu$ / '+str(intrinsic_pot) + ' POT', fontsize=15)\n",
    "plt.legend(fontsize=15)\n",
    "plt.ylim(0, 4000)\n",
    "plt.title('Selected Signal - True Distribution - Intrinsic POT', fontsize=15)\n",
    "plt.grid()\n",
    "plt.close()\n",
    "\n",
    "###### RECO ######\n",
    "\n",
    "fig = plt.figure(figsize=(10, 7))\n",
    "\n",
    "plt.hist(signal_df.query(selected_signal_query)[xvar], bins, \n",
    "                weights=signal_df.query(selected_signal_query).totweight_intrinsic, \n",
    "                alpha=0.4, label='Reco', color='blue')\n",
    "\n",
    "plt.xlabel(x_label, fontsize=15)\n",
    "#plt.ylabel('$\\\\nu$  / '+str(intrinsic_pot) + ' POT', fontsize=15)\n",
    "plt.legend(fontsize=15)\n",
    "plt.ylim(0, 4000)\n",
    "plt.title('Selected Signal - Reco Distribution - Intrinsic POT', fontsize=15)\n",
    "plt.grid()\n",
    "plt.close()\n",
    "\n",
    "\n",
    "###### TRUE VS. RECO ######\n",
    "\n",
    "fig = plt.figure(figsize=(10, 7))\n",
    "\n",
    "plt.hist(signal_df.query(selected_signal_query)[true_var], bins, \n",
    "                weights=signal_df.query(selected_signal_query).totweight_intrinsic, alpha=0.7, \n",
    "         label='True', color='orange')\n",
    "\n",
    "plt.hist(signal_df.query(selected_signal_query)[xvar], bins, \n",
    "                weights=signal_df.query(selected_signal_query).totweight_intrinsic, alpha=0.4, \n",
    "         label='Reco', color='blue')\n",
    "\n",
    "plt.xlabel(x_label, fontsize=15)\n",
    "#plt.ylabel('$\\\\nu$  / '+str(intrinsic_pot) + ' POT', fontsize=15)\n",
    "plt.legend(fontsize=15)\n",
    "plt.xlim(xlow,xhigh)\n",
    "plt.ylim(0, 4000)\n",
    "plt.title('Selected Signal - True vs. Reco Distribution - Intrinsic POT', fontsize=15)\n",
    "plt.grid()\n",
    "plt.close()\n",
    "\n",
    "###### TRUE VS. RECO - DATA NORMALIZED ######\n",
    "\n",
    "fig = plt.figure(figsize=(10, 7))\n",
    "\n",
    "true_selected = plt.hist(signal_df.query(selected_signal_query)[true_var], bins, \n",
    "                weights=signal_df.query(selected_signal_query).totweight_data, alpha=0.7, \n",
    "         label='True', color='orange')\n",
    "\n",
    "reco_selected = plt.hist(signal_df.query(selected_signal_query)[xvar], bins, \n",
    "                weights=signal_df.query(selected_signal_query).totweight_data, alpha=0.4, \n",
    "         label='Reco', color='blue')\n",
    "\n",
    "plt.xlabel(x_label, fontsize=15)\n",
    "plt.xticks(x_ticks)\n",
    "#plt.ylabel('$\\\\nu$  / '+str(data_pot), fontsize=15)\n",
    "plt.legend(fontsize=15)\n",
    "plt.title('Selected Signal - True vs. Reco Distribution - DATA POT', fontsize=15)\n",
    "plt.grid()\n",
    "plt.xlim(xlow,xhigh)\n",
    "plt.show()\n"
   ]
  },
  {
   "cell_type": "code",
   "execution_count": 85,
   "metadata": {},
   "outputs": [
    {
     "name": "stdout",
     "output_type": "stream",
     "text": [
      "Adding pot_scale column using dirt & EXT tune....\n",
      "Adding pot_scale column using dirt & EXT tune....\n",
      "Adding pot_scale column using dirt & EXT tune....\n"
     ]
    }
   ],
   "source": [
    "###### TRUE VS. RECO GENERATED - DATA NORMALIZED ######\n",
    "\n",
    "true_generated = generated_signal(ISRUN3, true_var, bins, xlow, bins[-1])[0]\n",
    "true_generated_sumw2 = generated_signal(ISRUN3, true_var, bins, xlow, bins[-1])[2]\n",
    "\n",
    "reco_generated = generated_signal(ISRUN3, xvar, bins, xlow, bins[-1])[0]\n"
   ]
  },
  {
   "cell_type": "code",
   "execution_count": 86,
   "metadata": {},
   "outputs": [
    {
     "data": {
      "image/png": "[encoded data removed]",
      "text/plain": [
       "<Figure size 1000x700 with 1 Axes>"
      ]
     },
     "metadata": {},
     "output_type": "display_data"
    }
   ],
   "source": [
    "fig = plt.figure(figsize=(10, 7))\n",
    "\n",
    "plt.hist(bincenters, bins, weights=true_generated, alpha=0.7, label='True', color='orange')\n",
    "plt.hist(bincenters, bins, weights=reco_generated, alpha=0.4, label='Reco', color='blue')\n",
    "\n",
    "plt.xticks(x_ticks)\n",
    "plt.xlabel(x_label, fontsize=15)\n",
    "plt.xlim(xlow,xhigh)\n",
    "#plt.ylabel('$\\\\nu$  / '+str(data_pot), fontsize=15)\n",
    "plt.legend(fontsize=15)\n",
    "plt.title('Generated Signal - True vs. Reco Distribution - DATA POT', fontsize=15)\n",
    "plt.grid()\n",
    "plt.show()"
   ]
  },
  {
   "cell_type": "markdown",
   "metadata": {},
   "source": [
    "## Construct response matrix"
   ]
  },
  {
   "cell_type": "code",
   "execution_count": 87,
   "metadata": {},
   "outputs": [
    {
     "name": "stdout",
     "output_type": "stream",
     "text": [
      "true selected:\n",
      "[38.51610678 12.78915112  4.23491791]\n",
      "55.54017581111022\n",
      "reco selected: \n",
      "[39.52543466 12.5278409   3.48690025]\n",
      "55.54017581111019\n"
     ]
    },
    {
     "data": {
      "image/png": "[encoded data removed]",
      "text/plain": [
       "<Figure size 1100x800 with 2 Axes>"
      ]
     },
     "metadata": {},
     "output_type": "display_data"
    },
    {
     "name": "stdout",
     "output_type": "stream",
     "text": [
      "Adding pot_scale column using dirt & EXT tune....\n"
     ]
    },
    {
     "data": {
      "image/png": "[encoded data removed]",
      "text/plain": [
       "<Figure size 1300x900 with 2 Axes>"
      ]
     },
     "metadata": {},
     "output_type": "display_data"
    }
   ],
   "source": [
    "smear_dict = smear_matrix(true_var, xvar, bins, xlow, xhigh, ISRUN3, signal_df.query(selected_signal_query),\n",
    "                          zmax=10, lbl=x_label, plot=True, eff=True, x_ticks=x_ticks)"
   ]
  },
  {
   "cell_type": "code",
   "execution_count": 88,
   "metadata": {},
   "outputs": [
    {
     "data": {
      "text/plain": [
       "array([ True,  True,  True])"
      ]
     },
     "execution_count": 88,
     "metadata": {},
     "output_type": "execute_result"
    }
   ],
   "source": [
    "###### check that R * true_generated = reco_selected\n",
    "\n",
    "# clear away NaNs\n",
    "smear_eff_array = np.array(smear_dict['smear_eff_array'])\n",
    "smear_eff_array[np.isnan(smear_eff_array)] = 0\n",
    "\n",
    "# matmul does row multiplication, so need to transpose\n",
    "np.round( np.matmul(smear_eff_array.T, smear_dict['true_generated_counts']), 8) == np.round(reco_selected[0],8)"
   ]
  },
  {
   "cell_type": "code",
   "execution_count": 89,
   "metadata": {},
   "outputs": [
    {
     "data": {
      "text/plain": [
       "array([ True,  True,  True])"
      ]
     },
     "execution_count": 89,
     "metadata": {},
     "output_type": "execute_result"
    }
   ],
   "source": [
    "###### check that the sum of the rows == reco selected counts\n",
    "\n",
    "smear_array = np.array(smear_dict['smear_array'])\n",
    "smear_array[np.isnan(smear_array)] = 0\n",
    "\n",
    "np.round( [np.nansum(x) for x in smear_array.T] , 8) == np.round(reco_selected[0],8)"
   ]
  },
  {
   "cell_type": "code",
   "execution_count": 90,
   "metadata": {},
   "outputs": [
    {
     "data": {
      "text/plain": [
       "array([ True,  True,  True])"
      ]
     },
     "execution_count": 90,
     "metadata": {},
     "output_type": "execute_result"
    }
   ],
   "source": [
    "###### check that the sum of the columns == true selected counts\n",
    "\n",
    "smear_array = np.array(smear_dict['smear_array'])\n",
    "smear_array[np.isnan(smear_array)] = 0\n",
    "\n",
    "np.round( [np.nansum(x) for x in smear_array] , 8) == np.round(true_selected[0],8)"
   ]
  },
  {
   "cell_type": "markdown",
   "metadata": {},
   "source": [
    "## efficiency - true neutrino energy [GeV]"
   ]
  },
  {
   "cell_type": "code",
   "execution_count": 91,
   "metadata": {},
   "outputs": [
    {
     "data": {
      "image/png": "[encoded data removed]",
      "text/plain": [
       "<Figure size 640x480 with 1 Axes>"
      ]
     },
     "metadata": {},
     "output_type": "display_data"
    }
   ],
   "source": [
    "eff_true_selected, eff_bins, p = plt.hist(signal_df.query(selected_signal_query)['nu_e'], 10, range=[0, 5],\n",
    "                weights=signal_df.query(selected_signal_query).totweight_data, \n",
    "                alpha=0.7,  color='orange')\n",
    "plt.title('selected')\n",
    "plt.xlabel('nu_e', fontsize=15)\n",
    "#plt.ylim(0, 25)\n",
    "plt.grid()\n",
    "plt.show()"
   ]
  },
  {
   "cell_type": "code",
   "execution_count": null,
   "metadata": {},
   "outputs": [
    {
     "name": "stdout",
     "output_type": "stream",
     "text": [
      "Adding pot_scale column using dirt & EXT tune....\n"
     ]
    }
   ],
   "source": [
    "eff_true_generated = generated_signal(ISRUN3, 'nu_e', eff_bins, eff_bins[0], eff_bins[-1], weight='totweight_data')[0]\n",
    "eff_true_generated_intrinsic = generated_signal(ISRUN3, 'nu_e', eff_bins, eff_bins[0], eff_bins[-1], weight='totweight_intrinsic')[0]\n"
   ]
  },
  {
   "cell_type": "code",
   "execution_count": null,
   "metadata": {},
   "outputs": [],
   "source": [
    "eff_bincenters  = 0.5*(eff_bins[1:]+eff_bins[:-1])"
   ]
  },
  {
   "cell_type": "code",
   "execution_count": null,
   "metadata": {},
   "outputs": [],
   "source": [
    "eff = [a/b for a,b in zip(eff_true_selected, eff_true_generated)]\n",
    "eff_err = [ np.sqrt( (x*(1-x)) / y ) for x,y in zip(eff,eff_true_generated_intrinsic) ]\n",
    "\n",
    "fig = plt.figure(figsize=(11, 7))  \n",
    "\n",
    "plt.errorbar(eff_bincenters, eff, yerr=eff_err, \n",
    "             xerr=[0.25 for x in range(len(eff))],  \n",
    "             fmt='.', color='seagreen')\n",
    "\n",
    "#plt.yticks([0, .05, .1, .15, .2],fontsize=13)\n",
    "#plt.ylim(0, .2)\n",
    "\n",
    "plt.xlim(eff_bins[0], eff_bins[-1])\n",
    "\n",
    "plt.xlabel(\"True Opening Angle\", fontsize=14)\n",
    "plt.ylabel(\"Selected / Generated\", fontsize=14)\n",
    "\n",
    "\n",
    "plt.grid(linestyle=':')\n",
    "if ISRUN3==False: \n",
    "    plt.title(\"FHC Run 1 Selection Efficiency\", fontsize=17)\n",
    "    #plt.savefig(parameters(ISRUN3)['plots_path']+\"fhc_eff_nue.pdf\", transparent=True, bbox_inches='tight') \n",
    "    \n",
    "elif ISRUN3==True: \n",
    "    plt.title(\"RHC Run 3 Selection Efficiency\", fontsize=17)\n",
    "    #plt.savefig(parameters(ISRUN3)['plots_path']+\"rhc_eff_nue.pdf\", transparent=True, bbox_inches='tight') \n",
    "\n",
    "plt.show()"
   ]
  },
  {
   "cell_type": "markdown",
   "metadata": {},
   "source": [
    "## Save to new unfolding file "
   ]
  },
  {
   "cell_type": "code",
   "execution_count": null,
   "metadata": {},
   "outputs": [],
   "source": [
    "smearing_dict = {\n",
    "        'true_generated' :  true_generated, # true generated \n",
    "        'true_selected' : true_selected[0].tolist(), \n",
    "        'reco_generated' : reco_generated, \n",
    "        'reco_selected' : reco_selected[0].tolist(), # reco selected\n",
    "        'smearing_matrix' : smear_array.tolist() # not normalized \n",
    "    }"
   ]
  },
  {
   "cell_type": "code",
   "execution_count": null,
   "metadata": {},
   "outputs": [],
   "source": [
    "import os\n",
    "import json\n",
    "from datetime import date"
   ]
  },
  {
   "cell_type": "code",
   "execution_count": null,
   "metadata": {},
   "outputs": [],
   "source": [
    "save = False  # Set to False if you don't want to save files\n",
    "\n",
    "if not ISRUN3:\n",
    "    file_path = 'unfolding/smearing/FHC_' + xvar + \"_\" + date.today().strftime(\"%m%d%y\") + \".json\"\n",
    "else:\n",
    "    file_path = 'unfolding/smearing/RHC_' + xvar + \"_\" + date.today().strftime(\"%m%d%y\") + \".json\"\n",
    "\n",
    "if save:\n",
    "    # Check if the file already exists\n",
    "    if os.path.exists(file_path):\n",
    "        print(\"File exists and is readable, need to update file name to save!\")\n",
    "    else:\n",
    "        # Save the smearing_dict to the specified path and filename\n",
    "        with open(file_path, 'w') as f:\n",
    "            json.dump(smearing_dict, f)\n",
    "else:\n",
    "    print(\"Save is disabled. Skipping file write.\")"
   ]
  },
  {
   "cell_type": "markdown",
   "metadata": {},
   "source": [
    "# EXTRA/OUTDATED"
   ]
  },
  {
   "cell_type": "code",
   "execution_count": null,
   "metadata": {},
   "outputs": [],
   "source": [
    "# generated true signal distribution \n",
    "\n",
    "htrue_signal = TH1F(\"htrue_signal\", \"Generated MC Signal vs. True \"+x_label+\" (\"+true_var+\")\", len(bins)-1, np.array(bins))\n",
    "\n",
    "for i in range(len(bincenters)): \n",
    "    htrue_signal.Fill(bincenters[i], true_generated[i])\n"
   ]
  },
  {
   "cell_type": "code",
   "execution_count": null,
   "metadata": {},
   "outputs": [],
   "source": [
    "# selected reco signal distribution \n",
    "hreco = TH1D(\"hmeas\", \"Selected MC Signal vs. Reco \"+x_label+\" (\"+xvar+\")\", len(bins)-1, np.array(bins))\n",
    "\n",
    "for i in range(len(bincenters)): \n",
    "    hreco.Fill(bincenters[i], reco_selected[0][i])"
   ]
  },
  {
   "cell_type": "code",
   "execution_count": null,
   "metadata": {},
   "outputs": [],
   "source": [
    "# response matrix \n",
    "r = TH2D(\"hR\", \"Response Matrix\", len(bins)-1, np.array(bins), len(bins)-1, np.array(bins))"
   ]
  },
  {
   "cell_type": "code",
   "execution_count": null,
   "metadata": {},
   "outputs": [],
   "source": [
    "for i in range(len(bincenters)): # i = column (x)\n",
    "    for j in range(len(bincenters)): # j = row (y)\n",
    "    \n",
    "        w = smear_dict['smear_eff_array'][i][j] # [x][y]\n",
    "        \n",
    "        if np.isnan(w): \n",
    "            r.Fill(bincenters[i], bincenters[j], 0) \n",
    "            \n",
    "        else: \n",
    "            r.Fill(bincenters[i], bincenters[j], w) \n",
    "            \n",
    "        #print('x = '+str(i), 'y = '+str(j), 'counts = '+ str(w))"
   ]
  },
  {
   "cell_type": "code",
   "execution_count": null,
   "metadata": {},
   "outputs": [],
   "source": [
    "f = ROOT.TFile.Open(\"/exp/uboone/data/users/kmiller/uBNuMI_CCNp/unfolding/WSVD_\"+xvar+\"_RHCRUN3_TEST_JUNE22.root\", \"UPDATE\")\n"
   ]
  },
  {
   "cell_type": "code",
   "execution_count": null,
   "metadata": {},
   "outputs": [],
   "source": []
  },
  {
   "cell_type": "code",
   "execution_count": null,
   "metadata": {},
   "outputs": [],
   "source": [
    "htrue_signal.Write()\n",
    "hreco.Write()\n",
    "r.Write()"
   ]
  },
  {
   "cell_type": "code",
   "execution_count": null,
   "metadata": {},
   "outputs": [],
   "source": [
    "f.Close()"
   ]
  },
  {
   "cell_type": "code",
   "execution_count": null,
   "metadata": {},
   "outputs": [],
   "source": []
  },
  {
   "cell_type": "markdown",
   "metadata": {},
   "source": []
  },
  {
   "cell_type": "code",
   "execution_count": null,
   "metadata": {},
   "outputs": [],
   "source": [
    "# distribution of selected signal events across opening angle \n",
    "\n",
    "fig = plt.figure(figsize=(8, 5))\n",
    "\n",
    "sel = plt.hist(fhc_sel.query(signal)['opening_angle'], 20, color='orange', range=[-1, 1])\n",
    "\n",
    "plt.xlabel(\"cos $\\\\theta$\", fontsize=15)\n",
    "plt.ylabel(\"# of selected signal events\", fontsize=15)\n",
    "\n",
    "plt.xticks(fontsize=14)\n",
    "plt.yticks(fontsize=14)\n",
    "\n",
    "plt.title(\"Signal: PDG==12, CC, N>0 protons, 0 pions, Op.Angle < +/-0.8\\nLinear Selection w/o tksh_angle Cut \", fontsize=14)\n",
    "\n",
    "plt.show()"
   ]
  },
  {
   "cell_type": "code",
   "execution_count": null,
   "metadata": {},
   "outputs": [],
   "source": [
    "# efficiency across opening angle (current linear selection)\n",
    "\n",
    "eff = [x/y for x, y in zip(sel[0], gen[0])]\n",
    "eff_err = [ np.sqrt( (eff[i]*(1-eff[i]))/gen[0][i] ) for i in range(len(eff))]\n",
    "\n",
    "bincenters = 0.5*(gen[1][1:]+gen[1][:-1])\n",
    "binwidth = [abs(gen[1][1]-gen[1][0])/2 for x in range(len(bincenters))]\n",
    "\n",
    "fig = plt.figure(figsize=(8, 5))\n",
    "\n",
    "plt.errorbar(bincenters, eff, xerr=binwidth, yerr=eff_err, fmt='o', color='seagreen', ecolor='seagreen', markersize=3) \n",
    "\n",
    "plt.xlabel(\"cos $\\\\theta$\", fontsize=15)\n",
    "plt.ylabel(\"Efficiency\", fontsize=15)\n",
    "\n",
    "plt.xticks(fontsize=14)\n",
    "plt.yticks(fontsize=14)\n",
    "\n",
    "plt.ylim(0, 0.25)\n",
    "\n",
    "plt.title(\"Signal: PDG==12, CC, N>0 protons, 0 pions\\nLinear Selection with tksh_angle Cut \", fontsize=14)\n",
    "plt.grid(linestyle=':')\n",
    "plt.show()\n",
    "\n"
   ]
  },
  {
   "cell_type": "code",
   "execution_count": null,
   "metadata": {},
   "outputs": [],
   "source": []
  },
  {
   "cell_type": "code",
   "execution_count": null,
   "metadata": {},
   "outputs": [],
   "source": [
    "# efficiency across opening angle (lin sel without tksh_angle cut)\n",
    "\n",
    "\n",
    "eff = [x/y for x, y in zip(sel[0], gen[0])]\n",
    "eff_err = [ np.sqrt( (eff[i]*(1-eff[i]))/gen[0][i] ) for i in range(len(eff))]\n",
    "\n",
    "bincenters = 0.5*(gen[1][1:]+gen[1][:-1])\n",
    "binwidth = [abs(gen[1][1]-gen[1][0])/2 for x in range(len(bincenters))]\n",
    "\n",
    "fig = plt.figure(figsize=(8, 5))\n",
    "\n",
    "plt.errorbar(bincenters, eff, xerr=binwidth, yerr=eff_err, fmt='o', color='seagreen', ecolor='seagreen', markersize=3) \n",
    "\n",
    "plt.xlabel(\"cos $\\\\theta$\", fontsize=15)\n",
    "plt.ylabel(\"Efficiency\", fontsize=15)\n",
    "\n",
    "plt.xticks(fontsize=14)\n",
    "plt.yticks(fontsize=14)\n",
    "\n",
    "plt.ylim(0, 0.25)\n",
    "\n",
    "plt.title(\"Signal: PDG==12, CC, N>0 protons, 0 pions, \\nLinear Selection w/o tksh_angle Cut \", fontsize=14)\n",
    "plt.grid(linestyle=':')\n",
    "plt.show()"
   ]
  },
  {
   "cell_type": "code",
   "execution_count": null,
   "metadata": {},
   "outputs": [],
   "source": [
    "# efficiency across opening angle (lin sel without tksh_angle cut & modified signal def )\n",
    "\n",
    "\n",
    "# efficiency across opening angle (lin sel without tksh_angle cut)\n",
    "\n",
    "\n",
    "eff = [x/y for x, y in zip(sel[0], gen[0])]\n",
    "eff_err = [ np.sqrt( (eff[i]*(1-eff[i]))/gen[0][i] ) for i in range(len(eff))]\n",
    "\n",
    "bincenters = 0.5*(gen[1][1:]+gen[1][:-1])\n",
    "binwidth = [abs(gen[1][1]-gen[1][0])/2 for x in range(len(bincenters))]\n",
    "\n",
    "fig = plt.figure(figsize=(8, 5))\n",
    "\n",
    "plt.errorbar(bincenters, eff, xerr=binwidth, yerr=eff_err, fmt='o', color='seagreen', ecolor='seagreen', markersize=3) \n",
    "\n",
    "plt.xlabel(\"cos $\\\\theta$\", fontsize=15)\n",
    "plt.ylabel(\"Efficiency\", fontsize=15)\n",
    "\n",
    "plt.xticks(fontsize=14)\n",
    "plt.yticks(fontsize=14)\n",
    "\n",
    "plt.xlim(-1, 1)\n",
    "plt.ylim(0, 0.25)\n",
    "\n",
    "plt.title(\"Signal: PDG==12, CC, N>0 protons, 0 pions, Op.Angle < +/-0.8\\nLinear Selection w/o tksh_angle Cut \", fontsize=14)\n",
    "plt.grid(linestyle=':')\n",
    "plt.show()"
   ]
  },
  {
   "cell_type": "markdown",
   "metadata": {},
   "source": [
    "### Opening Angle"
   ]
  },
  {
   "cell_type": "code",
   "execution_count": null,
   "metadata": {},
   "outputs": [],
   "source": [
    "# compute the magnitude of all MC Particles\n",
    "def mc_p(df):\n",
    "    \n",
    "    p_all = []\n",
    "    for index, row in df.iterrows():\n",
    "        p_row = []\n",
    "        for i in range(len(row['mc_pdg'])): \n",
    "            p = math.sqrt( row['mc_px'][i]*row['mc_px'][i] + row['mc_py'][i]*row['mc_py'][i] + row['mc_pz'][i]*row['mc_pz'][i] )\n",
    "            p_row.append(p)\n",
    "        \n",
    "        p_all.append( p_row )\n",
    "    \n",
    "    df['mc_p'] = p_all \n",
    "    \n",
    "    return df \n"
   ]
  },
  {
   "cell_type": "code",
   "execution_count": null,
   "metadata": {},
   "outputs": [],
   "source": [
    "# now get the proton with the highest momentum \n",
    "# use this to construct the truth opening angle \n",
    "\n",
    "def tksh_angle_truth(df): \n",
    "    \n",
    "    tksh_angle_truth = []\n",
    "    for index, row in df.iterrows(): \n",
    "\n",
    "        proton_max_p = 0\n",
    "        proton_max_p_idx = 0\n",
    "    \n",
    "        # for each index in the PDG list \n",
    "        for i in range(len(row['mc_pdg'])): \n",
    "        \n",
    "            # check if it is a proton \n",
    "            if row['mc_pdg'][i]==2212: \n",
    "                # check if it is max\n",
    "                if row['mc_p'][i]>proton_max_p: \n",
    "                    # if so, replace\n",
    "                    proton_max_p = row['mc_p'][i] \n",
    "                    proton_max_p_idx = i \n",
    "                \n",
    "        # now use the leading proton index to compute the opening angle \n",
    "        proton_p = [ row['mc_px'][i], row['mc_py'][i], row['mc_pz'][i] ]\n",
    "    \n",
    "        # and construct electron vector (should be norm'd already)\n",
    "        elec_p = [ row['elec_px'], row['elec_py'], row['elec_pz'] ]\n",
    "        elec_p_mag = np.sqrt((elec_p[0]*elec_p[0])+(elec_p[1]*elec_p[1])+(elec_p[2]*elec_p[2]))\n",
    "    \n",
    "        # opening angle \n",
    "        cos = np.dot(proton_p, elec_p) / (proton_max_p*elec_p_mag)\n",
    "        if proton_max_p==0 or elec_p_mag==0: \n",
    "            tksh_angle_truth.append(np.nan)\n",
    "        \n",
    "        else: \n",
    "            tksh_angle_truth.append(cos)\n",
    "            \n",
    "    df['opening_angle'] = tksh_angle_truth \n",
    "    \n",
    "    return df\n",
    " "
   ]
  },
  {
   "cell_type": "code",
   "execution_count": null,
   "metadata": {},
   "outputs": [],
   "source": [
    "fhc_sel = mc_p(fhc_sel)\n",
    "rhc_sel = mc_p(rhc_sel)"
   ]
  },
  {
   "cell_type": "code",
   "execution_count": null,
   "metadata": {},
   "outputs": [],
   "source": [
    "fhc_sel = tksh_angle_truth(fhc_sel)\n",
    "rhc_sel = tksh_angle_truth(rhc_sel)"
   ]
  },
  {
   "cell_type": "code",
   "execution_count": null,
   "metadata": {},
   "outputs": [],
   "source": [
    "fhc_sel.query('opening_angle>1')['opening_angle']"
   ]
  },
  {
   "cell_type": "code",
   "execution_count": null,
   "metadata": {},
   "outputs": [],
   "source": [
    "fhc_sel.query('opening_angle<-1')['opening_angle']"
   ]
  },
  {
   "cell_type": "code",
   "execution_count": null,
   "metadata": {},
   "outputs": [],
   "source": [
    "plt.hist([fhc_sel.query(signal)['opening_angle'], fhc_sel.query(signal)['tksh_angle']], 5,\n",
    "        histtype='step', label=['true', 'reco'], weights=[fhc_sel.query(signal)['totweight_proj'], \n",
    "                                                          fhc_sel.query(signal)['totweight_proj']])\n",
    "plt.title('Opening Angle')\n",
    "plt.xlabel('cos $\\\\theta$')\n",
    "plt.ylabel('$\\\\nu$ \\ 9.23E20 POT')\n",
    "plt.legend()\n",
    "\n",
    "#plt.savefig('/uboone/data/users/kmiller/searchingfornues_v33/v08_00_00_33/plots/fhc/opening_angle_wide.pdf', \n",
    "#         transparent=True, bbox_inches='tight')\n",
    "plt.show()\n",
    "\n"
   ]
  },
  {
   "cell_type": "markdown",
   "metadata": {},
   "source": [
    "### scattering angle "
   ]
  },
  {
   "cell_type": "code",
   "execution_count": null,
   "metadata": {},
   "outputs": [],
   "source": [
    "# construct the true scattering angle \n",
    "\n",
    "def true_scatangle(df): \n",
    "    # length of the neutrino momentum vector\n",
    "    nu_p_length = np.sqrt((df['true_nu_px']*df['true_nu_px'] + df['true_nu_py']*df['true_nu_py'] + df['true_nu_pz']*df['true_nu_pz']))\n",
    "    df['true_nu_pmag'] = nu_p_length\n",
    "\n",
    "    # use the normalized neutrino & electron momentum vectors (both in det coordinates) to construct the angle\n",
    "    df['true_scatangle'] = ((df['true_nu_px']/df['true_nu_pmag'])*df['elec_px'])+((df['true_nu_py']/df['true_nu_pmag'])*df['elec_py'])+((df['true_nu_pz']/df['true_nu_pmag'])*df['elec_pz'])\n",
    "   \n",
    "    return df"
   ]
  },
  {
   "cell_type": "code",
   "execution_count": null,
   "metadata": {},
   "outputs": [],
   "source": [
    "# construct the reco scattering angle \n",
    "\n",
    "def reco_scatangle(df): \n",
    "\n",
    "\n",
    "    # step 1: construct the neutrino direction vector (interaction vertex - beam target) in detector coordinates\n",
    "    NuMITargetPos = fromBeamtoDet(0, 0, 0, False)\n",
    "\n",
    "    # neutrino direction vector - detector coordinates, reconstructed, normalized\n",
    "    \n",
    "    nuX = df['reco_nu_vtx_sce_x'] - NuMITargetPos[0]\n",
    "    nuY = df['reco_nu_vtx_sce_y'] - NuMITargetPos[1]\n",
    "    nuZ = df['reco_nu_vtx_sce_z'] - NuMITargetPos[2]\n",
    "\n",
    "    nu_dir_mag = np.sqrt((nuX*nuX)+(nuY*nuY)+(nuZ*nuZ))\n",
    "\n",
    "\n",
    "    # step 2: normalize the neutrino direction vector and the reco shower momentum vector \n",
    "    nuX = nuX/nu_dir_mag\n",
    "    nuY = nuY/nu_dir_mag\n",
    "    nuZ = nuZ/nu_dir_mag\n",
    "\n",
    "    shr_px = df['shr_px']\n",
    "    shr_py = df['shr_py']\n",
    "    shr_pz = df['shr_pz']\n",
    "\n",
    "    shr_p_mag = np.sqrt((shr_px*shr_px)+(shr_py*shr_py)+(shr_pz*shr_pz))\n",
    "\n",
    "    shr_px = shr_px/shr_p_mag\n",
    "    shr_py = shr_py/shr_p_mag\n",
    "    shr_pz = shr_pz/shr_p_mag\n",
    "\n",
    "    # step 3: take the dot product between them \n",
    "\n",
    "    df['reco_scatangle'] = ( (nuX*shr_px)+(nuY*shr_py)+(nuZ*shr_pz) )\n",
    "    \n",
    "    return df\n",
    "\n"
   ]
  },
  {
   "cell_type": "code",
   "execution_count": null,
   "metadata": {},
   "outputs": [],
   "source": [
    "fhc_sel = true_scatangle(fhc_sel)\n",
    "rhc_sel = true_scatangle(rhc_sel)"
   ]
  },
  {
   "cell_type": "code",
   "execution_count": null,
   "metadata": {},
   "outputs": [],
   "source": [
    "fhc_sel = reco_scatangle(fhc_sel)\n",
    "rhc_sel = reco_scatangle(rhc_sel)"
   ]
  },
  {
   "cell_type": "code",
   "execution_count": null,
   "metadata": {},
   "outputs": [],
   "source": [
    "from matplotlib.colors import LogNorm"
   ]
  },
  {
   "cell_type": "code",
   "execution_count": null,
   "metadata": {},
   "outputs": [],
   "source": [
    "# angle off the beamline - numi coordinates (degrees)\n",
    "\n",
    "plt.figure(figsize=(8, 5))\n",
    "\n",
    "plt.hist([fhc_infv['thbeam'], fhc_infv['phibeam']], \n",
    "          40, histtype='step', weights=[fhc_infv['totweight_proj'], fhc_infv['totweight_proj']], \n",
    "          label=['$\\\\theta$ (off beamline)', '$\\\\phi$ (XY plane)'])\n",
    "plt.xlabel('Angle [deg]', fontsize=14)\n",
    "plt.ylabel('$\\\\nu$ / 9.23E20 POT', fontsize=14)\n",
    "plt.yscale(\"log\")\n",
    "plt.xticks(fontsize=14)\n",
    "plt.yticks(fontsize=14)\n",
    "plt.title('FHC events in FV (overlay only)', fontsize=14)\n",
    "plt.legend(fontsize=13)\n",
    "plt.savefig('/uboone/data/users/kmiller/searchingfornues_v33/v08_00_00_33/plots/fhc/thetavsphi.pdf', \n",
    "         transparent=True, bbox_inches='tight')\n",
    "plt.show()"
   ]
  },
  {
   "cell_type": "code",
   "execution_count": null,
   "metadata": {},
   "outputs": [],
   "source": [
    "\n",
    "plt.figure(figsize=(8, 6))\n",
    "\n",
    "plt.hist2d(fhc_infv['nu_e'], fhc_infv['thbeam'], \n",
    "           40, cmin=0.0000001, range=[[0, 5], [0, 140]], weights=fhc_infv['totweight_proj'])#, norm=LogNorm())\n",
    "plt.xlabel('true neutrino energy [GeV]', fontsize=14)\n",
    "plt.ylabel('true angle off beamline [deg]', fontsize=14)\n",
    "#plt.ylabel('$\\\\nu$ / 9.23E20 POT', fontsize=14)\n",
    "#plt.yscale(\"log\")\n",
    "plt.xticks(fontsize=14)\n",
    "plt.yticks(fontsize=14)\n",
    "cbar = plt.colorbar()\n",
    "#cbar.set_label('$\\\\nu$ / 11.95E20 POT (RHC projected)', fontsize=14)\n",
    "cbar.ax.tick_params(labelsize=14)\n",
    "plt.title(\"FHC events in FV (overlay only)\", fontsize=14)\n",
    "#plt.savefig('/uboone/data/users/kmiller/searchingfornues_v33/v08_00_00_33/plots/rhc/rhc_infv2d.pdf', \n",
    "#           transparent=True, bbox_inches='tight')\n",
    "plt.show()\n",
    "\n",
    "\n",
    "\n",
    "plt.figure(figsize=(8, 6))\n",
    "\n",
    "plt.hist2d(fhc_sel['nu_e'], fhc_sel['thbeam'], \n",
    "           40, cmin=0.0000001, range=[[0, 5], [0, 140]], weights=fhc_sel['totweight_proj'])\n",
    "          #, norm=LogNorm())\n",
    "plt.xlabel('true neutrino energy [GeV]', fontsize=14)\n",
    "plt.ylabel('true angle off beamline [deg]', fontsize=14)\n",
    "#plt.ylabel('$\\\\nu$ / 9.23E20 POT', fontsize=14)\n",
    "#plt.yscale(\"log\")\n",
    "plt.xticks(fontsize=14)\n",
    "plt.yticks(fontsize=14)\n",
    "cbar = plt.colorbar()\n",
    "cbar.ax.tick_params(labelsize=14)\n",
    "plt.title(\"FHC selected events in FV (overlay only)\", fontsize=14)\n",
    "#cbar.set_label('$\\\\nu$ / 11.95E20 POT (RHC projected)', fontsize=14)\n",
    "#plt.savefig('/uboone/data/users/kmiller/searchingfornues_v33/v08_00_00_33/plots/rhc/rhc_sel2d.pdf', \n",
    "#           transparent=True, bbox_inches='tight')\n",
    "plt.show()"
   ]
  },
  {
   "cell_type": "code",
   "execution_count": null,
   "metadata": {},
   "outputs": [],
   "source": [
    "# distribution of selected signal \n",
    "\n",
    "plt.hist(fhc_sel.query(signal)['theta'], 10, range=[0, 3], histtype='step', color='orange')\n",
    "plt.xlabel('cos($\\\\theta$)', fontsize=14)\n",
    "plt.title(\"angle between incoming & outgoing leptons - what is this?\")\n",
    "plt.show()"
   ]
  },
  {
   "cell_type": "code",
   "execution_count": null,
   "metadata": {},
   "outputs": [],
   "source": [
    "# smearing 1D\n",
    "\n",
    "plt.hist([fhc_sel.query(signal)['true_scatangle'], fhc_sel.query(signal)['reco_scatangle']], \n",
    "         20, histtype='step', weights=[fhc_sel.query(signal)['totweight_proj'], \n",
    "                                      fhc_sel.query(signal)['totweight_proj']], \n",
    "        label=['true', 'reco'])\n",
    "plt.xlabel('cos($\\\\theta$)', fontsize=14)\n",
    "plt.legend(loc=2)\n",
    "plt.title(\"angle between incoming & outgoing leptons\")\n",
    "#plt.savefig('/uboone/data/users/kmiller/searchingfornues_v33/v08_00_00_33/plots/fhc/fhc_scatangle.pdf', \n",
    "#           transparent=True, bbox_inches='tight')\n",
    "plt.show()"
   ]
  },
  {
   "cell_type": "code",
   "execution_count": null,
   "metadata": {},
   "outputs": [],
   "source": [
    "# does this assume the neutrino is coming from BNB direction? \n",
    "\n",
    "plt.hist([fhc_sel.query(signal)['theta'], fhc_sel.query(signal)['shr_theta']],\n",
    "         20, range=[0, 3], histtype='step', label=['true', 'reco'])\n",
    "plt.xlabel('cos($\\\\theta$)', fontsize=14)\n",
    "plt.title(\"angle between incoming & outgoing leptons\")\n",
    "plt.legend()\n",
    "#plt.savefig('/uboone/data/users/kmiller/searchingfornues_v33/v08_00_00_33/plots/fhc/fhc_theta.pdf', \n",
    "#           transparent=True, bbox_inches='tight')\n",
    "plt.show()"
   ]
  },
  {
   "cell_type": "markdown",
   "metadata": {},
   "source": [
    "### smearing & binning"
   ]
  },
  {
   "cell_type": "code",
   "execution_count": null,
   "metadata": {},
   "outputs": [],
   "source": [
    "#reco = 'n_tracks_contained'\n",
    "#true = 'nproton'\n",
    "#bins = [1, 2, 3, 7]\n",
    "\n",
    "# total or leading? Uh oh  \n",
    "#true = 'proton_e'\n",
    "#reco = 'trk_energy' #trk_energy_tot ?? \n",
    "#bins = [ 0.04, 0.24, 0.44, 1.26 ]\n",
    "\n",
    "#true = 'true_e_visible'\n",
    "#reco = 'NeutrinoEnergy2'\n",
    "#bins = [0.19, .4, .61, .82, 1.10, 1.45, 4]\n",
    "\n",
    "reco = 'shr_energy_cali'\n",
    "true = 'elec_e'\n",
    "bins = [0.09, 0.35, 0.65, 1.05, 1.5, 3]"
   ]
  },
  {
   "cell_type": "code",
   "execution_count": null,
   "metadata": {},
   "outputs": [],
   "source": [
    "save = True"
   ]
  },
  {
   "cell_type": "code",
   "execution_count": null,
   "metadata": {},
   "outputs": [],
   "source": [
    "n, b, p = plt.hist([ selected.query(signal)[true], selected.query(nue_CCother)[true]], range=[0, 4],\n",
    "                        stacked=True, color=['orange', 'limegreen'], label=['signal', 'nue CC other'])\n",
    "plt.ylim(0, 6000)\n",
    "plt.legend()\n",
    "plt.show()"
   ]
  },
  {
   "cell_type": "code",
   "execution_count": null,
   "metadata": {},
   "outputs": [],
   "source": [
    "# from here on out we only work with signal \n",
    "selected_signal = selected.query(signal)"
   ]
  },
  {
   "cell_type": "code",
   "execution_count": null,
   "metadata": {},
   "outputs": [],
   "source": [
    "# detector resolution - FHC, RHC, BOTH \n",
    "\n",
    "#true_reco_res(true, reco, fhc_sel, 'fhc', 90, save)\n",
    "#true_reco_res(true, reco, rhc_sel, 'rhc', 90, save)\n",
    "\n",
    "true_reco_res(true, reco, selected_signal, 'both', 5000, save)"
   ]
  },
  {
   "cell_type": "markdown",
   "metadata": {},
   "source": []
  },
  {
   "cell_type": "code",
   "execution_count": null,
   "metadata": {},
   "outputs": [],
   "source": [
    "# min reco selected\n",
    "min(list(selected.query(signal)[reco]))"
   ]
  },
  {
   "cell_type": "code",
   "execution_count": null,
   "metadata": {},
   "outputs": [],
   "source": [
    "# min true  selected\n",
    "min(list(selected.query(signal)[true]))"
   ]
  },
  {
   "cell_type": "code",
   "execution_count": null,
   "metadata": {},
   "outputs": [],
   "source": [
    "# smearing - FHC, RHC, BOTH \n",
    "\n",
    "#smear_matrix(true, reco, bins, fhc_sel, 'fhc', 55, 'electron energy [GeV]', save)\n",
    "#smear_matrix(true, reco, bins, rhc_sel, 'rhc', 55, 'electron energy [GeV]', save)\n",
    "\n",
    "smear_matrix(true, reco, bins, selected_signal, 'both', 2500, 'electron energy [GeV]', save)"
   ]
  },
  {
   "cell_type": "code",
   "execution_count": null,
   "metadata": {},
   "outputs": [],
   "source": [
    "# efficiency - FHC & RHC \n",
    "\n",
    "#truth_and_eff(true, bins, fhc_infv, fhc_sel, 'fhc', 100, 'True Electron Energy [GeV]', save)\n",
    "#truth_and_eff(true, bins, fhc_infv, fhc_sel, 'rhc', 100, 'True Electron Energy [GeV]', save)\n",
    "\n"
   ]
  },
  {
   "cell_type": "code",
   "execution_count": null,
   "metadata": {},
   "outputs": [],
   "source": [
    "comb_truth_and_eff(true, bins, comb_infv, selected_signal, 'electron energy [GeV]', save)"
   ]
  },
  {
   "cell_type": "code",
   "execution_count": null,
   "metadata": {},
   "outputs": [],
   "source": [
    "print('total events = '+str(sum(selected_signal['totweight_data'])))"
   ]
  },
  {
   "cell_type": "markdown",
   "metadata": {},
   "source": [
    "### FHC or RHC"
   ]
  },
  {
   "cell_type": "code",
   "execution_count": null,
   "metadata": {},
   "outputs": [],
   "source": [
    "true = 'elec_e'\n",
    "reco = 'shr_energy_cali'\n",
    "\n",
    "horn = 'fhc'\n",
    "\n",
    "if horn=='fhc': \n",
    "    gen_df = fhc_infv.query(signal)\n",
    "    sel_df = fhc_sel.query(signal)\n",
    "    \n",
    "elif horn=='rhc': \n",
    "    gen_df = rhc_infv.query(signal)\n",
    "    sel_df = rhc_sel.query(signal)\n",
    "\n",
    "# shr energy\n",
    "bins = [0.09, .35, .65, 1.05, 1.5, 3]\n",
    "\n",
    "# reco neutrino energy \n",
    "#bins = [ 0.19, .4, .61, .82, 1.03, 1.4, 2, 4 ]\n",
    "\n",
    "# track mult\n",
    "#bins = [1, 2, 3, 7]\n",
    "\n",
    "\n"
   ]
  },
  {
   "cell_type": "code",
   "execution_count": null,
   "metadata": {},
   "outputs": [],
   "source": [
    "save = True"
   ]
  },
  {
   "cell_type": "code",
   "execution_count": null,
   "metadata": {},
   "outputs": [],
   "source": [
    "true_reco_res(true, reco, sel_df, horn, 90, save)"
   ]
  },
  {
   "cell_type": "code",
   "execution_count": null,
   "metadata": {},
   "outputs": [],
   "source": [
    "truth_and_eff(true, bins, gen_df, sel_df, horn, 100, 'Visible Energy [GeV]', save)"
   ]
  },
  {
   "cell_type": "code",
   "execution_count": null,
   "metadata": {},
   "outputs": [],
   "source": [
    "smear_matrix(true, reco, bins, sel_df, horn, 35, 'neutrino energy [GeV]', save)\n"
   ]
  },
  {
   "cell_type": "code",
   "execution_count": null,
   "metadata": {},
   "outputs": [],
   "source": [
    "# min reco  selected\n",
    "min(list(sel_df[reco]))"
   ]
  },
  {
   "cell_type": "code",
   "execution_count": null,
   "metadata": {},
   "outputs": [],
   "source": [
    "# min true  selected\n",
    "min(list(sel_df[true]))"
   ]
  },
  {
   "cell_type": "markdown",
   "metadata": {},
   "source": [
    "### FHC & RHC"
   ]
  },
  {
   "cell_type": "code",
   "execution_count": null,
   "metadata": {},
   "outputs": [],
   "source": [
    "comb_sel = pd.concat([fhc_sel, rhc_sel], ignore_index=True)\n",
    "comb_infv = pd.concat([fhc_infv, rhc_infv], ignore_index=True)"
   ]
  },
  {
   "cell_type": "code",
   "execution_count": null,
   "metadata": {},
   "outputs": [],
   "source": [
    "df_sel = comb_sel.query(signal)\n",
    "df_gen = comb_infv.query(signal)"
   ]
  },
  {
   "cell_type": "code",
   "execution_count": null,
   "metadata": {},
   "outputs": [],
   "source": [
    "true = 'true_e_visible'\n",
    "reco = 'NeutrinoEnergy2'\n",
    "\n",
    "\n",
    "# shr energy\n",
    "#bins = [0.09, .35, .65, 1.05, 1.5, 3]\n",
    "\n",
    "# reco energy \n",
    "bins = [ 0.19, .4, .61, .82, 1.03, 1.4, 2, 4 ]\n",
    "\n",
    "# track mult\n",
    "#bins = [1, 2, 3, 7]\n",
    "\n",
    "# hadron energy \n",
    "#bins = [.04, .23, .42, 1.3]\n",
    "\n",
    "\n"
   ]
  },
  {
   "cell_type": "code",
   "execution_count": null,
   "metadata": {},
   "outputs": [],
   "source": [
    "save = True"
   ]
  },
  {
   "cell_type": "code",
   "execution_count": null,
   "metadata": {},
   "outputs": [],
   "source": [
    "plt.figure(figsize=(8, 5))\n",
    "\n",
    "plt.hist(df_sel['true_e_visible'], 16, range=[0, 4],histtype='step', label='true visible energy', \n",
    "         color='limegreen', weights=df_sel['totweight_proj'])\n",
    "plt.hist(df_sel['nu_e'], 16, range=[0, 4], histtype='step', label='true $\\\\nu$ energy', \n",
    "         color='blue', weights=df_sel['totweight_proj'])\n",
    "\n",
    "plt.legend(fontsize=13)\n",
    "plt.xlabel(\"True Energy [GeV]\", fontsize=14)\n",
    "plt.xticks(fontsize=14)\n",
    "plt.yticks(fontsize=14)\n",
    "plt.ylim(0, 175)\n",
    "plt.ylabel(\"$\\\\nu$ / 2.12E21 POT\", fontsize=14)\n",
    "#plt.savefig(\"/uboone/data/users/kmiller/searchingfornues_v33/v08_00_00_33/plots/both/neutrino_visible_energy.pdf\", \n",
    "#            transparent=True, bbox_inches='tight') \n",
    "plt.show()"
   ]
  },
  {
   "cell_type": "code",
   "execution_count": null,
   "metadata": {},
   "outputs": [],
   "source": [
    "plt.figure(figsize=(8, 5))\n",
    "\n",
    "plt.hist(df_sel['true_e_visible'], 16, range=[0, 4],histtype='step', label='true visible energy', \n",
    "         color='limegreen', weights=df_sel['totweight_proj'])\n",
    "plt.hist(df_sel['NeutrinoEnergy2']/1000, 16, range=[0, 4], histtype='step', \n",
    "         label='reco energy', \n",
    "         color='red', weights=df_sel['totweight_proj'])\n",
    "\n",
    "plt.legend(fontsize=13)\n",
    "plt.xlabel(\"True Energy [GeV]\", fontsize=14)\n",
    "plt.xticks(fontsize=14)\n",
    "plt.yticks(fontsize=14)\n",
    "plt.ylim(0, 175)\n",
    "plt.ylabel(\"$\\\\nu$ / 2.12E21 POT\", fontsize=14)\n",
    "#plt.savefig(\"/uboone/data/users/kmiller/searchingfornues_v33/v08_00_00_33/plots/both/visible_reco_energy.pdf\", \n",
    "#            transparent=True, bbox_inches='tight') \n",
    "plt.show()"
   ]
  },
  {
   "cell_type": "code",
   "execution_count": null,
   "metadata": {},
   "outputs": [],
   "source": [
    "plt.figure(figsize=(8, 5))\n",
    "\n",
    "plt.hist(df_sel['nu_e'], 16, range=[0, 4],histtype='step', label='true $\\\\nu$ energy', \n",
    "         color='blue', weights=df_sel['totweight_proj'])\n",
    "plt.hist(df_sel['NeutrinoEnergy2']/1000, 16, range=[0, 4], histtype='step', \n",
    "         label='reco energy', \n",
    "         color='red', weights=df_sel['totweight_proj'])\n",
    "\n",
    "plt.legend(fontsize=13)\n",
    "plt.xlabel(\"True Energy [GeV]\", fontsize=14)\n",
    "plt.xticks(fontsize=14)\n",
    "plt.yticks(fontsize=14)\n",
    "plt.ylim(0, 175)\n",
    "plt.ylabel(\"$\\\\nu$ / 2.12E21 POT\", fontsize=14)\n",
    "#plt.savefig(\"/uboone/data/users/kmiller/searchingfornues_v33/v08_00_00_33/plots/both/neutrino_reco_energy.pdf\", \n",
    "#            transparent=True, bbox_inches='tight') \n",
    "plt.show()"
   ]
  },
  {
   "cell_type": "code",
   "execution_count": null,
   "metadata": {},
   "outputs": [],
   "source": [
    "true_reco_res(true, reco, df_sel, 'both', 325, save)"
   ]
  },
  {
   "cell_type": "code",
   "execution_count": null,
   "metadata": {},
   "outputs": [],
   "source": [
    "# normalized to data POT, but made from overlay POT\n",
    "\n",
    "smear_matrix(true, reco, bins, df_sel, 'both', 350, 'hadronic energy [GeV]', save)"
   ]
  }
 ],
 "metadata": {
  "kernelspec": {
   "display_name": "ccnpenv",
   "language": "python",
   "name": "python3"
  },
  "language_info": {
   "codemirror_mode": {
    "name": "ipython",
    "version": 3
   },
   "file_extension": ".py",
   "mimetype": "text/x-python",
   "name": "python",
   "nbconvert_exporter": "python",
   "pygments_lexer": "ipython3",
   "version": "3.9.13"
  }
 },
 "nbformat": 4,
 "nbformat_minor": 4
}
