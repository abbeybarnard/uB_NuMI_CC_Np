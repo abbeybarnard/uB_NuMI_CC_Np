{
 "cells": [
  {
   "cell_type": "markdown",
   "metadata": {},
   "source": [
    "## Setup"
   ]
  },
  {
   "cell_type": "code",
   "execution_count": 1,
   "metadata": {},
   "outputs": [],
   "source": [
    "# POT values for new flux weights\n",
    "\n",
    "# FHC nu overlay = 2.33978e+21\n",
    "# FHC nue CC overlay = 2.38181e+22\n",
    "\n",
    "# RHC nu overlay = 1.98265e+21\n",
    "# RHC nue CC overlay = 2.53486e+22\n",
    "\n",
    "# change overlay files (2) and POT values (2) below "
   ]
  },
  {
   "cell_type": "code",
   "execution_count": 2,
   "metadata": {},
   "outputs": [],
   "source": [
    "ISOLD = False\n",
    "\n",
    "ISRUN3 = False # Use for Run 1 or Run 3 data \n",
    "\n",
    "isData = True # Should always be set to True \n",
    "\n",
    "NUE_INTRINSIC = True\n",
    "\n",
    "background_subtraction = True \n",
    "\n",
    "detsys = True # Turns detector systematic uncertainties for the supplemental plots off \n",
    "\n",
    "useBDT = True # Turn back on for all regular paper + supplemental material plots past first lot of variables \n",
    "\n",
    "cut_level = \"\""
   ]
  },
  {
   "cell_type": "code",
   "execution_count": 3,
   "metadata": {
    "scrolled": true
   },
   "outputs": [
    {
     "name": "stdout",
     "output_type": "stream",
     "text": [
      "Welcome to JupyROOT 6.26/10\n"
     ]
    }
   ],
   "source": [
    "import sys\n",
    "\n",
    "sys.path.insert(0, 'backend_functions')\n",
    "\n",
    "import selection_functions as sf\n",
    "\n",
    "import importlib\n",
    "\n",
    "import uproot \n",
    "\n",
    "import matplotlib.pylab as pylab\n",
    "import numpy as np\n",
    "import math\n",
    "from sklearn.model_selection import train_test_split\n",
    "import pickle\n",
    "import xgboost as xgb\n",
    "\n",
    "import awkward\n",
    "import matplotlib.pyplot as plt\n",
    "import pandas as pd\n",
    "\n",
    "import ROOT\n",
    "\n",
    "# This is our configuration file, cfg.py, which contains the variable names and binning information. \n",
    "import cfg\n",
    "from cfg import * \n",
    "\n",
    "import top \n",
    "from top import *\n",
    "\n",
    "import uncertainty_functions \n",
    "from uncertainty_functions import *\n",
    "\n",
    "import xsec_functions \n",
    "from xsec_functions import smear_matrix\n",
    "\n",
    "from ROOT import TH1D, TH2D, TDirectory, TH1F, TH2F\n",
    "\n",
    "from selection_functions import *\n",
    "\n",
    "#plt.rcParams['text.usetex'] = True"
   ]
  },
  {
   "cell_type": "code",
   "execution_count": 4,
   "metadata": {},
   "outputs": [
    {
     "name": "stdout",
     "output_type": "stream",
     "text": [
      "From cfg.py...\n",
      "Variable definition: Electron Energy\n",
      "Reconstructed variable = shr_energy_cali\n",
      "True variable = elec_e\n",
      "Bins = [0.02, 0.22, 0.42, 0.62, 0.82, 1.22, 7.0]\n",
      "Lowest x-value on plot = 0.02\n",
      "Highest x-value on plot = 2.5\n",
      "x-axis title = Electron Energy [GeV]\n",
      "x-axis labels = [0.02, 0.22, 0.42, 0.62, 0.82, 1.22]\n"
     ]
    }
   ],
   "source": [
    "# Choose your variable!\n",
    "# Variables = \"Opening Angle\", \"Proton Multiplicity\", \"Electron Energy\", \"Visible Energy, BDT Score\"\n",
    "name_of_variable = \"Electron Energy\" \n",
    "xvar, true_var, bins, xlow, xhigh, x_label, x_ticks = get_variable_info(name_of_variable, ISRUN3, cut_level)"
   ]
  },
  {
   "cell_type": "code",
   "execution_count": 5,
   "metadata": {},
   "outputs": [
    {
     "name": "stdout",
     "output_type": "stream",
     "text": [
      "date and time: 15:57:03\n"
     ]
    }
   ],
   "source": [
    "from datetime import datetime\n",
    "import time\n",
    "now = datetime.now()\n",
    "date_time = now.strftime(\"%H:%M:%S\")\n",
    "print(\"date and time:\",date_time)"
   ]
  },
  {
   "cell_type": "code",
   "execution_count": 6,
   "metadata": {
    "scrolled": true
   },
   "outputs": [
    {
     "name": "stdout",
     "output_type": "stream",
     "text": [
      "Using current FHC\n"
     ]
    }
   ],
   "source": [
    "import NuMIGeoWeights\n",
    "importlib.reload(NuMIGeoWeights)\n",
    "\n",
    "if ISRUN3: \n",
    "    current = \"RHC\"\n",
    "    \n",
    "else: \n",
    "    current = \"FHC\"\n",
    "\n",
    "numiBeamlineGeoWeights = NuMIGeoWeights.NuMIGeoWeights(current=current) "
   ]
  },
  {
   "cell_type": "code",
   "execution_count": 7,
   "metadata": {},
   "outputs": [],
   "source": [
    "import NuMIDetSys\n",
    "importlib.reload(NuMIDetSys)\n",
    "\n",
    "NuMIDetSysWeights = NuMIDetSys.NuMIDetSys()"
   ]
  },
  {
   "cell_type": "code",
   "execution_count": 8,
   "metadata": {},
   "outputs": [
    {
     "data": {
      "text/plain": [
       "'/Users/patrick/Documents/MicroBooNE/CrossSections/NueCCNp_Analysis/plots/fhc/'"
      ]
     },
     "execution_count": 8,
     "metadata": {},
     "output_type": "execute_result"
    }
   ],
   "source": [
    "plots_path = parameters(ISRUN3)['plots_path']\n",
    "\n",
    "plots_path"
   ]
  },
  {
   "cell_type": "code",
   "execution_count": 9,
   "metadata": {},
   "outputs": [
    {
     "data": {
      "text/plain": [
       "'/Users/patrick/Documents/MicroBooNE/CrossSections/NueCCNp_Analysis/samples/run1/slimmed/'"
      ]
     },
     "execution_count": 9,
     "metadata": {},
     "output_type": "execute_result"
    }
   ],
   "source": [
    "parameters(ISRUN3)['cv_ntuple_path']"
   ]
  },
  {
   "cell_type": "code",
   "execution_count": 10,
   "metadata": {},
   "outputs": [
    {
     "name": "stdout",
     "output_type": "stream",
     "text": [
      "path =  /Users/patrick/Documents/MicroBooNE/CrossSections/NueCCNp_Analysis/samples/run1/slimmed/\n"
     ]
    }
   ],
   "source": [
    "fold = \"nuselection\"\n",
    "tree = \"NeutrinoSelectionFilter\"\n",
    "\n",
    "DATA = \"\"\n",
    "EXT = \"\"\n",
    "OVRLY  = \"\"\n",
    "DRT = \"\"\n",
    "NUE = \"\"\n",
    "\n",
    "\n",
    "# slimmed with opening angle \n",
    "path = parameters(ISRUN3)['cv_ntuple_path']\n",
    "print('path = ', path)\n",
    "\n",
    "if not ISRUN3: \n",
    "\n",
    "    # Run 1 FHC \n",
    "    OVRLY = 'numi_nu_run1'\n",
    "    EXT = 'neutrinoselection_filt_run1_beamoff_v5'\n",
    "    DATA = 'neutrinoselection_filt_run1_beamon_beamgood_v5'\n",
    "    DRT = 'prodgenie_numi_uboone_overlay_dirt_fhc_mcc9_run1_v28_all_snapshot'\n",
    "    \n",
    "    if NUE_INTRINSIC: \n",
    "        NUE = 'numi_nue_run1'\n",
    "\n",
    "else: \n",
    "    \n",
    "    # Run 3 RHC\n",
    "    OVRLY = 'numi_nu_run3'\n",
    "    DATA = 'neutrinoselection_filt_run3b_beamon_beamgood_v5'\n",
    "    EXT = 'neutrinoselection_filt_run3b_beamoff_v5'\n",
    "    DRT = 'neutrinoselection_filt_run3b_dirt_overlay_v6'\n",
    "    \n",
    "    if NUE_INTRINSIC: \n",
    "        NUE = 'numi_nue_run3'\n",
    "\n"
   ]
  },
  {
   "cell_type": "markdown",
   "metadata": {},
   "source": [
    "## Automated Paths"
   ]
  },
  {
   "cell_type": "code",
   "execution_count": 11,
   "metadata": {},
   "outputs": [],
   "source": [
    "# new flux weights\n",
    "#overlay = uproot.open(\"/uboone/data/users/kmiller/uBNuMI_CCNp/ntuples/run1/new_fluxweights/numi_run1_nu_overlay_fhc_slim.root\")[fold][tree]\n",
    "        \n",
    "if ISOLD:\n",
    "    overlay = uproot.open(path+OVRLY+\".root\")[fold][tree]\n",
    "    \n",
    "    if NUE_INTRINSIC:\n",
    "        nue = uproot.open(path+NUE+\".root\")[fold][tree]\n",
    "\n",
    "else:\n",
    "    if ISRUN3:\n",
    "        overlay = uproot.open(\"/Users/patrick/Documents/MicroBooNE/CrossSections/NueCCNp_Analysis/samples/run3b/slimmed/numi_nu_run3_slimmed.root\")[fold][tree]\n",
    "        \n",
    "        if NUE_INTRINSIC:\n",
    "            nue = uproot.open(\"/Users/patrick/Documents/MicroBooNE/CrossSections/NueCCNp_Analysis/samples/run3b/slimmed/numi_nue_run3_slimmed.root\")[fold][tree]\n",
    "    \n",
    "    else:\n",
    "        overlay = uproot.open(\"/Users/patrick/Documents/MicroBooNE/CrossSections/NueCCNp_Analysis/samples/run1/slimmed/numi_nu_run1_slimmed.root\")[fold][tree]\n",
    "        \n",
    "        if NUE_INTRINSIC:\n",
    "            nue = uproot.open(\"/Users/patrick/Documents/MicroBooNE/CrossSections/NueCCNp_Analysis/samples/run1/slimmed/numi_nue_run1_slimmed.root\")[fold][tree]\n",
    "\n",
    "data = uproot.open(path+DATA+\".root\")[fold][tree]\n",
    "ext = uproot.open(path+EXT+\".root\")[fold][tree]\n",
    "dirt = uproot.open(path+DRT+\".root\")[fold][tree]  \n",
    "\n",
    "uproot_v = [overlay,data,ext,dirt]\n",
    "\n",
    "if NUE_INTRINSIC: \n",
    "    \n",
    "    uproot_v.append(nue)\n"
   ]
  },
  {
   "cell_type": "code",
   "execution_count": 12,
   "metadata": {},
   "outputs": [],
   "source": [
    "variables = [\n",
    "    \"trk_score_v\", \n",
    "    \"shr_tkfit_dedx_Y\", \n",
    "    \"n_tracks_contained\", \n",
    "    \"NeutrinoEnergy2\",\n",
    "    \"run\",\"sub\",\"evt\",\n",
    "    \"reco_nu_vtx_sce_x\",\"reco_nu_vtx_sce_y\",\"reco_nu_vtx_sce_z\",\n",
    "    \"shrsubclusters0\",\"shrsubclusters1\",\"shrsubclusters2\",\n",
    "    \"trkshrhitdist2\",\n",
    "    \"n_showers_contained\", \n",
    "    \"shr_phi\", \"trk_phi\", \"trk_theta\",\n",
    "    \"shr_score\", \n",
    "    \"trk_energy\", \n",
    "    \"tksh_distance\", \"tksh_angle\",\n",
    "    \"shr_energy_tot_cali\", \"shr_energy_cali\", \n",
    "    \"nslice\", \n",
    "    \"contained_fraction\",\n",
    "    \"shrmoliereavg\", \"shr_px\", \"shr_py\", \"shr_pz\", \"swtrig_pre\"\n",
    "]\n",
    "\n",
    "# MC only variables\n",
    "mc_var = [\"nu_pdg\", \"shr_theta\", \"true_e_visible\", \"ccnc\", \n",
    "          \"nproton\", \"nu_e\", \"npi0\", \"npion\",\n",
    "          \"true_nu_vtx_x\", \"true_nu_vtx_y\" , \"true_nu_vtx_z\", \n",
    "          \"weightTune\", \"weightSpline\", \"weightSplineTimesTune\", \n",
    "          \"true_nu_px\", \"true_nu_py\", \"true_nu_pz\", \n",
    "          \"elec_e\", \"proton_e\", \"mc_px\", \"mc_py\", \"mc_pz\", \"elec_px\", \"elec_py\", \"elec_pz\", \n",
    "          \"ppfx_cv\", \"mc_pdg\", \"opening_angle\"]\n",
    "\n",
    "sys_genie = [\"weightsGenie\", \"weightsReint\", \n",
    "             \"knobRPAup\", \"knobRPAdn\", \n",
    "             \"knobCCMECup\", \n",
    "             \"knobAxFFCCQEup\", \n",
    "             \"knobVecFFCCQEup\", \n",
    "             \"knobDecayAngMECup\", \n",
    "             \"knobThetaDelta2Npiup\", \n",
    "             \"knobThetaDelta2NRadup\", \n",
    "             #\"knobRPA_CCQE_Reducedup\", \"knobRPA_CCQE_Reduceddn\", # obsolete\n",
    "             \"knobNormCCCOHup\", \n",
    "             \"knobNormNCCOHup\",   \n",
    "             \"knobxsr_scc_Fv3up\",  # these are supposed to be multisims - 10 universes each -- map to pull out\n",
    "             \"knobxsr_scc_Fa3up\"\n",
    "            ]\n",
    "\n",
    "sys_flux = ['weightsPPFX']"
   ]
  },
  {
   "cell_type": "markdown",
   "metadata": {},
   "source": [
    "## Create pandas dataframes"
   ]
  },
  {
   "cell_type": "code",
   "execution_count": 13,
   "metadata": {},
   "outputs": [],
   "source": [
    "overlay = overlay.pandas.df(variables + mc_var + sys_genie + sys_flux, flatten=False)\n",
    "#overlay_minimal = overlay.pandas.df(variables, flatten=False)"
   ]
  },
  {
   "cell_type": "code",
   "execution_count": 14,
   "metadata": {},
   "outputs": [
    {
     "name": "stdout",
     "output_type": "stream",
     "text": [
      "(72587, 74)\n"
     ]
    }
   ],
   "source": [
    "print(overlay.shape)\n",
    "#print(overlay_minimal.shape)"
   ]
  },
  {
   "cell_type": "code",
   "execution_count": 15,
   "metadata": {},
   "outputs": [],
   "source": [
    "dirt = dirt.pandas.df(variables + mc_var + sys_genie[:-2] + sys_flux, flatten=False)"
   ]
  },
  {
   "cell_type": "code",
   "execution_count": 16,
   "metadata": {},
   "outputs": [],
   "source": [
    "dirt['knobxsr_scc_Fv3up'] = 1\n",
    "dirt['knobxsr_scc_Fa3up'] = 1"
   ]
  },
  {
   "cell_type": "code",
   "execution_count": 17,
   "metadata": {},
   "outputs": [],
   "source": [
    "if NUE_INTRINSIC: \n",
    "    nue = nue.pandas.df(variables + mc_var + sys_genie + sys_flux, flatten=False)"
   ]
  },
  {
   "cell_type": "code",
   "execution_count": 18,
   "metadata": {},
   "outputs": [],
   "source": [
    "data = data.pandas.df(variables, flatten=False) "
   ]
  },
  {
   "cell_type": "code",
   "execution_count": 19,
   "metadata": {},
   "outputs": [],
   "source": [
    "ext = ext.pandas.df(variables, flatten=False)"
   ]
  },
  {
   "cell_type": "code",
   "execution_count": 20,
   "metadata": {},
   "outputs": [],
   "source": [
    "for var in mc_var+sys_genie+sys_flux: \n",
    "    data[var] = np.nan\n",
    "    ext[var] = np.nan"
   ]
  },
  {
   "cell_type": "code",
   "execution_count": 21,
   "metadata": {},
   "outputs": [],
   "source": [
    "# is dirt bool\n",
    "\n",
    "overlay['isDirt'] = False\n",
    "dirt['isDirt'] = True\n",
    "\n",
    "if NUE_INTRINSIC: \n",
    "    nue['isDirt'] = False\n",
    "    \n",
    "data['isDirt'] = np.nan\n",
    "ext['isDirt'] = np.nan"
   ]
  },
  {
   "cell_type": "code",
   "execution_count": 22,
   "metadata": {},
   "outputs": [],
   "source": [
    "# how to get the LLR-PID value for the \"track candidate\" \n",
    "# (proton for nue selection, muon for numu)\n",
    "# can be done for any variable\n",
    "# code from Giuseppe!\n",
    "#LLR-PID : log likelihood ratio particle ID \n",
    "\n",
    "df_v = [overlay,data,ext,dirt]\n",
    "\n",
    "if NUE_INTRINSIC: \n",
    "    df_v.append(nue)\n",
    "    \n",
    "for i,df in enumerate(df_v):\n",
    "    up = uproot_v[i]\n",
    "    trk_llr_pid_v = up.array('trk_llr_pid_score_v')\n",
    "    trk_id = up.array('trk_id')-1 # I think we need this -1 to get the right result\n",
    "    trk_llr_pid_v_sel = awkward.fromiter([pidv[tid] if tid<len(pidv) else 9999. for pidv,tid in zip(trk_llr_pid_v,trk_id)])\n",
    "    df['trkpid'] = trk_llr_pid_v_sel\n",
    "    df['subcluster'] = df['shrsubclusters0'] + df['shrsubclusters1'] + df['shrsubclusters2']\n",
    "    \n",
    "    df['NeutrinoEnergy2_GeV'] = df['NeutrinoEnergy2']/1000\n",
    "\n",
    "    # Correction for reconstructed electron energy\n",
    "    if not ISOLD:\n",
    "        \n",
    "        df['shr_energy_cali'] = df['shr_energy_cali'] / 0.83\n"
   ]
  },
  {
   "cell_type": "code",
   "execution_count": 23,
   "metadata": {},
   "outputs": [],
   "source": [
    "overlay = overlay.query('swtrig_pre==1')\n",
    "dirt = dirt.query('swtrig_pre==1')\n",
    "nue = nue.query('swtrig_pre==1')"
   ]
  },
  {
   "cell_type": "code",
   "execution_count": 24,
   "metadata": {},
   "outputs": [
    {
     "name": "stdout",
     "output_type": "stream",
     "text": [
      "(72508, 78)\n",
      "(48967, 78)\n"
     ]
    }
   ],
   "source": [
    "print(overlay.shape)\n",
    "print(nue.shape)"
   ]
  },
  {
   "cell_type": "code",
   "execution_count": 25,
   "metadata": {},
   "outputs": [],
   "source": [
    "mc_df = [overlay, dirt]\n",
    "\n",
    "if NUE_INTRINSIC: \n",
    "    mc_df.append(nue)"
   ]
  },
  {
   "cell_type": "code",
   "execution_count": 26,
   "metadata": {},
   "outputs": [
    {
     "name": "stderr",
     "output_type": "stream",
     "text": [
      "/Users/patrick/Documents/MicroBooNE/CrossSections/NueCCNp_Analysis/uB_NuMI_CC_Np/backend_functions/top.py:743: SettingWithCopyWarning: \n",
      "A value is trying to be set on a copy of a slice from a DataFrame.\n",
      "Try using .loc[row_indexer,col_indexer] = value instead\n",
      "\n",
      "See the caveats in the documentation: https://pandas.pydata.org/pandas-docs/stable/user_guide/indexing.html#returning-a-view-versus-a-copy\n",
      "  df['thdet'] = np.arctan2(((df['true_nu_px']*df['true_nu_px'])+(df['true_nu_py']*df['true_nu_py']))**(1/2), df['true_nu_pz'])*(180/math.pi)\n",
      "/Users/patrick/Documents/MicroBooNE/CrossSections/NueCCNp_Analysis/uB_NuMI_CC_Np/backend_functions/top.py:744: SettingWithCopyWarning: \n",
      "A value is trying to be set on a copy of a slice from a DataFrame.\n",
      "Try using .loc[row_indexer,col_indexer] = value instead\n",
      "\n",
      "See the caveats in the documentation: https://pandas.pydata.org/pandas-docs/stable/user_guide/indexing.html#returning-a-view-versus-a-copy\n",
      "  df['phidet'] = np.arctan2(df['true_nu_py'], df['true_nu_px'])*(180/math.pi)\n",
      "/Users/patrick/Documents/MicroBooNE/CrossSections/NueCCNp_Analysis/uB_NuMI_CC_Np/backend_functions/top.py:747: SettingWithCopyWarning: \n",
      "A value is trying to be set on a copy of a slice from a DataFrame.\n",
      "Try using .loc[row_indexer,col_indexer] = value instead\n",
      "\n",
      "See the caveats in the documentation: https://pandas.pydata.org/pandas-docs/stable/user_guide/indexing.html#returning-a-view-versus-a-copy\n",
      "  df['true_nu_px_beam'] = R[0][0]*df['true_nu_px'] + R[0][1]*df['true_nu_py'] + R[0][2]*df['true_nu_pz']\n",
      "/Users/patrick/Documents/MicroBooNE/CrossSections/NueCCNp_Analysis/uB_NuMI_CC_Np/backend_functions/top.py:748: SettingWithCopyWarning: \n",
      "A value is trying to be set on a copy of a slice from a DataFrame.\n",
      "Try using .loc[row_indexer,col_indexer] = value instead\n",
      "\n",
      "See the caveats in the documentation: https://pandas.pydata.org/pandas-docs/stable/user_guide/indexing.html#returning-a-view-versus-a-copy\n",
      "  df['true_nu_py_beam'] = R[1][0]*df['true_nu_px'] + R[1][1]*df['true_nu_py'] + R[1][2]*df['true_nu_pz']\n",
      "/Users/patrick/Documents/MicroBooNE/CrossSections/NueCCNp_Analysis/uB_NuMI_CC_Np/backend_functions/top.py:749: SettingWithCopyWarning: \n",
      "A value is trying to be set on a copy of a slice from a DataFrame.\n",
      "Try using .loc[row_indexer,col_indexer] = value instead\n",
      "\n",
      "See the caveats in the documentation: https://pandas.pydata.org/pandas-docs/stable/user_guide/indexing.html#returning-a-view-versus-a-copy\n",
      "  df['true_nu_pz_beam'] = R[2][0]*df['true_nu_px'] + R[2][1]*df['true_nu_py'] + R[2][2]*df['true_nu_pz']\n",
      "/Users/patrick/Documents/MicroBooNE/CrossSections/NueCCNp_Analysis/uB_NuMI_CC_Np/backend_functions/top.py:752: SettingWithCopyWarning: \n",
      "A value is trying to be set on a copy of a slice from a DataFrame.\n",
      "Try using .loc[row_indexer,col_indexer] = value instead\n",
      "\n",
      "See the caveats in the documentation: https://pandas.pydata.org/pandas-docs/stable/user_guide/indexing.html#returning-a-view-versus-a-copy\n",
      "  df['thbeam'] = np.arctan2(((df['true_nu_px_beam']*df['true_nu_px_beam'])+(df['true_nu_py_beam']*df['true_nu_py_beam']))**(1/2), df['true_nu_pz_beam'])*(180/math.pi)\n",
      "/Users/patrick/Documents/MicroBooNE/CrossSections/NueCCNp_Analysis/uB_NuMI_CC_Np/backend_functions/top.py:753: SettingWithCopyWarning: \n",
      "A value is trying to be set on a copy of a slice from a DataFrame.\n",
      "Try using .loc[row_indexer,col_indexer] = value instead\n",
      "\n",
      "See the caveats in the documentation: https://pandas.pydata.org/pandas-docs/stable/user_guide/indexing.html#returning-a-view-versus-a-copy\n",
      "  df['phibeam'] = np.arctan2(df['true_nu_py_beam'], df['true_nu_px_beam'])*(180/math.pi)\n",
      "/Users/patrick/Documents/MicroBooNE/CrossSections/NueCCNp_Analysis/uB_NuMI_CC_Np/backend_functions/top.py:743: SettingWithCopyWarning: \n",
      "A value is trying to be set on a copy of a slice from a DataFrame.\n",
      "Try using .loc[row_indexer,col_indexer] = value instead\n",
      "\n",
      "See the caveats in the documentation: https://pandas.pydata.org/pandas-docs/stable/user_guide/indexing.html#returning-a-view-versus-a-copy\n",
      "  df['thdet'] = np.arctan2(((df['true_nu_px']*df['true_nu_px'])+(df['true_nu_py']*df['true_nu_py']))**(1/2), df['true_nu_pz'])*(180/math.pi)\n",
      "/Users/patrick/Documents/MicroBooNE/CrossSections/NueCCNp_Analysis/uB_NuMI_CC_Np/backend_functions/top.py:744: SettingWithCopyWarning: \n",
      "A value is trying to be set on a copy of a slice from a DataFrame.\n",
      "Try using .loc[row_indexer,col_indexer] = value instead\n",
      "\n",
      "See the caveats in the documentation: https://pandas.pydata.org/pandas-docs/stable/user_guide/indexing.html#returning-a-view-versus-a-copy\n",
      "  df['phidet'] = np.arctan2(df['true_nu_py'], df['true_nu_px'])*(180/math.pi)\n",
      "/Users/patrick/Documents/MicroBooNE/CrossSections/NueCCNp_Analysis/uB_NuMI_CC_Np/backend_functions/top.py:747: SettingWithCopyWarning: \n",
      "A value is trying to be set on a copy of a slice from a DataFrame.\n",
      "Try using .loc[row_indexer,col_indexer] = value instead\n",
      "\n",
      "See the caveats in the documentation: https://pandas.pydata.org/pandas-docs/stable/user_guide/indexing.html#returning-a-view-versus-a-copy\n",
      "  df['true_nu_px_beam'] = R[0][0]*df['true_nu_px'] + R[0][1]*df['true_nu_py'] + R[0][2]*df['true_nu_pz']\n",
      "/Users/patrick/Documents/MicroBooNE/CrossSections/NueCCNp_Analysis/uB_NuMI_CC_Np/backend_functions/top.py:748: SettingWithCopyWarning: \n",
      "A value is trying to be set on a copy of a slice from a DataFrame.\n",
      "Try using .loc[row_indexer,col_indexer] = value instead\n",
      "\n",
      "See the caveats in the documentation: https://pandas.pydata.org/pandas-docs/stable/user_guide/indexing.html#returning-a-view-versus-a-copy\n",
      "  df['true_nu_py_beam'] = R[1][0]*df['true_nu_px'] + R[1][1]*df['true_nu_py'] + R[1][2]*df['true_nu_pz']\n",
      "/Users/patrick/Documents/MicroBooNE/CrossSections/NueCCNp_Analysis/uB_NuMI_CC_Np/backend_functions/top.py:749: SettingWithCopyWarning: \n",
      "A value is trying to be set on a copy of a slice from a DataFrame.\n",
      "Try using .loc[row_indexer,col_indexer] = value instead\n",
      "\n",
      "See the caveats in the documentation: https://pandas.pydata.org/pandas-docs/stable/user_guide/indexing.html#returning-a-view-versus-a-copy\n",
      "  df['true_nu_pz_beam'] = R[2][0]*df['true_nu_px'] + R[2][1]*df['true_nu_py'] + R[2][2]*df['true_nu_pz']\n",
      "/Users/patrick/Documents/MicroBooNE/CrossSections/NueCCNp_Analysis/uB_NuMI_CC_Np/backend_functions/top.py:752: SettingWithCopyWarning: \n",
      "A value is trying to be set on a copy of a slice from a DataFrame.\n",
      "Try using .loc[row_indexer,col_indexer] = value instead\n",
      "\n",
      "See the caveats in the documentation: https://pandas.pydata.org/pandas-docs/stable/user_guide/indexing.html#returning-a-view-versus-a-copy\n",
      "  df['thbeam'] = np.arctan2(((df['true_nu_px_beam']*df['true_nu_px_beam'])+(df['true_nu_py_beam']*df['true_nu_py_beam']))**(1/2), df['true_nu_pz_beam'])*(180/math.pi)\n",
      "/Users/patrick/Documents/MicroBooNE/CrossSections/NueCCNp_Analysis/uB_NuMI_CC_Np/backend_functions/top.py:753: SettingWithCopyWarning: \n",
      "A value is trying to be set on a copy of a slice from a DataFrame.\n",
      "Try using .loc[row_indexer,col_indexer] = value instead\n",
      "\n",
      "See the caveats in the documentation: https://pandas.pydata.org/pandas-docs/stable/user_guide/indexing.html#returning-a-view-versus-a-copy\n",
      "  df['phibeam'] = np.arctan2(df['true_nu_py_beam'], df['true_nu_px_beam'])*(180/math.pi)\n"
     ]
    }
   ],
   "source": [
    "# Add truth level theta & phi angles (detector & beam coordinates)\n",
    "overlay = addAngles(overlay)\n",
    "dirt = addAngles(dirt)\n",
    "\n",
    "# Angles already added!\n",
    "if NUE_INTRINSIC: \n",
    "    nue = addAngles(nue)"
   ]
  },
  {
   "cell_type": "code",
   "execution_count": 27,
   "metadata": {},
   "outputs": [
    {
     "name": "stderr",
     "output_type": "stream",
     "text": [
      "/var/folders/2x/l68t7zdd3tngj9l8__x4bmrh0000gq/T/ipykernel_59470/3661105688.py:3: SettingWithCopyWarning: \n",
      "A value is trying to be set on a copy of a slice from a DataFrame.\n",
      "Try using .loc[row_indexer,col_indexer] = value instead\n",
      "\n",
      "See the caveats in the documentation: https://pandas.pydata.org/pandas-docs/stable/user_guide/indexing.html#returning-a-view-versus-a-copy\n",
      "  df['is_signal'] = np.where((df.swtrig_pre == 1)\n",
      "/var/folders/2x/l68t7zdd3tngj9l8__x4bmrh0000gq/T/ipykernel_59470/3661105688.py:3: SettingWithCopyWarning: \n",
      "A value is trying to be set on a copy of a slice from a DataFrame.\n",
      "Try using .loc[row_indexer,col_indexer] = value instead\n",
      "\n",
      "See the caveats in the documentation: https://pandas.pydata.org/pandas-docs/stable/user_guide/indexing.html#returning-a-view-versus-a-copy\n",
      "  df['is_signal'] = np.where((df.swtrig_pre == 1)\n"
     ]
    }
   ],
   "source": [
    "for i,df in enumerate(mc_df):\n",
    "    # is signal bool \n",
    "    df['is_signal'] = np.where((df.swtrig_pre == 1) \n",
    "                             & (df.nu_pdg==12) & (df.ccnc==0) & (df.nproton>0) & (df.npion==0) & (df.npi0==0)\n",
    "                             & (10 <= df.true_nu_vtx_x) & (df.true_nu_vtx_x <= 246)\n",
    "                             & (-106 <= df.true_nu_vtx_y) & (df.true_nu_vtx_y <= 106)\n",
    "                             & (10 <= df.true_nu_vtx_z) & (df.true_nu_vtx_z <= 1026), True, False)"
   ]
  },
  {
   "cell_type": "code",
   "execution_count": 28,
   "metadata": {},
   "outputs": [
    {
     "name": "stderr",
     "output_type": "stream",
     "text": [
      "/var/folders/2x/l68t7zdd3tngj9l8__x4bmrh0000gq/T/ipykernel_59470/1880286884.py:4: SettingWithCopyWarning: \n",
      "A value is trying to be set on a copy of a slice from a DataFrame.\n",
      "Try using .loc[row_indexer,col_indexer] = value instead\n",
      "\n",
      "See the caveats in the documentation: https://pandas.pydata.org/pandas-docs/stable/user_guide/indexing.html#returning-a-view-versus-a-copy\n",
      "  df['weightsPPFX'] = df['weightsPPFX']/1000\n",
      "/var/folders/2x/l68t7zdd3tngj9l8__x4bmrh0000gq/T/ipykernel_59470/1880286884.py:5: SettingWithCopyWarning: \n",
      "A value is trying to be set on a copy of a slice from a DataFrame.\n",
      "Try using .loc[row_indexer,col_indexer] = value instead\n",
      "\n",
      "See the caveats in the documentation: https://pandas.pydata.org/pandas-docs/stable/user_guide/indexing.html#returning-a-view-versus-a-copy\n",
      "  df['weightsGenie'] = df['weightsGenie']/1000\n",
      "/var/folders/2x/l68t7zdd3tngj9l8__x4bmrh0000gq/T/ipykernel_59470/1880286884.py:6: SettingWithCopyWarning: \n",
      "A value is trying to be set on a copy of a slice from a DataFrame.\n",
      "Try using .loc[row_indexer,col_indexer] = value instead\n",
      "\n",
      "See the caveats in the documentation: https://pandas.pydata.org/pandas-docs/stable/user_guide/indexing.html#returning-a-view-versus-a-copy\n",
      "  df['weightsReint'] = df['weightsReint']/1000\n",
      "/var/folders/2x/l68t7zdd3tngj9l8__x4bmrh0000gq/T/ipykernel_59470/1880286884.py:9: SettingWithCopyWarning: \n",
      "A value is trying to be set on a copy of a slice from a DataFrame.\n",
      "Try using .loc[row_indexer,col_indexer] = value instead\n",
      "\n",
      "See the caveats in the documentation: https://pandas.pydata.org/pandas-docs/stable/user_guide/indexing.html#returning-a-view-versus-a-copy\n",
      "  df['weightsNuMIGeo'] = df.apply( lambda x: numiBeamlineGeoWeights.calculateGeoWeight(x['nu_pdg'],x['nu_e'],x['thbeam']) , axis=1)\n",
      "/var/folders/2x/l68t7zdd3tngj9l8__x4bmrh0000gq/T/ipykernel_59470/1880286884.py:4: SettingWithCopyWarning: \n",
      "A value is trying to be set on a copy of a slice from a DataFrame.\n",
      "Try using .loc[row_indexer,col_indexer] = value instead\n",
      "\n",
      "See the caveats in the documentation: https://pandas.pydata.org/pandas-docs/stable/user_guide/indexing.html#returning-a-view-versus-a-copy\n",
      "  df['weightsPPFX'] = df['weightsPPFX']/1000\n",
      "/var/folders/2x/l68t7zdd3tngj9l8__x4bmrh0000gq/T/ipykernel_59470/1880286884.py:5: SettingWithCopyWarning: \n",
      "A value is trying to be set on a copy of a slice from a DataFrame.\n",
      "Try using .loc[row_indexer,col_indexer] = value instead\n",
      "\n",
      "See the caveats in the documentation: https://pandas.pydata.org/pandas-docs/stable/user_guide/indexing.html#returning-a-view-versus-a-copy\n",
      "  df['weightsGenie'] = df['weightsGenie']/1000\n",
      "/var/folders/2x/l68t7zdd3tngj9l8__x4bmrh0000gq/T/ipykernel_59470/1880286884.py:6: SettingWithCopyWarning: \n",
      "A value is trying to be set on a copy of a slice from a DataFrame.\n",
      "Try using .loc[row_indexer,col_indexer] = value instead\n",
      "\n",
      "See the caveats in the documentation: https://pandas.pydata.org/pandas-docs/stable/user_guide/indexing.html#returning-a-view-versus-a-copy\n",
      "  df['weightsReint'] = df['weightsReint']/1000\n",
      "/var/folders/2x/l68t7zdd3tngj9l8__x4bmrh0000gq/T/ipykernel_59470/1880286884.py:9: SettingWithCopyWarning: \n",
      "A value is trying to be set on a copy of a slice from a DataFrame.\n",
      "Try using .loc[row_indexer,col_indexer] = value instead\n",
      "\n",
      "See the caveats in the documentation: https://pandas.pydata.org/pandas-docs/stable/user_guide/indexing.html#returning-a-view-versus-a-copy\n",
      "  df['weightsNuMIGeo'] = df.apply( lambda x: numiBeamlineGeoWeights.calculateGeoWeight(x['nu_pdg'],x['nu_e'],x['thbeam']) , axis=1)\n"
     ]
    }
   ],
   "source": [
    "for i,df in enumerate(mc_df):\n",
    "  \n",
    "    # get right order of magnitude for multiverses\n",
    "    df['weightsPPFX'] = df['weightsPPFX']/1000\n",
    "    df['weightsGenie'] = df['weightsGenie']/1000\n",
    "    df['weightsReint'] = df['weightsReint']/1000\n",
    "    \n",
    "    # add beamline geometry weights\n",
    "    df['weightsNuMIGeo'] = df.apply( lambda x: numiBeamlineGeoWeights.calculateGeoWeight(x['nu_pdg'],x['nu_e'],x['thbeam']) , axis=1)\n",
    " "
   ]
  },
  {
   "cell_type": "code",
   "execution_count": 29,
   "metadata": {},
   "outputs": [
    {
     "name": "stderr",
     "output_type": "stream",
     "text": [
      "/Users/patrick/Documents/MicroBooNE/CrossSections/NueCCNp_Analysis/uB_NuMI_CC_Np/backend_functions/top.py:408: SettingWithCopyWarning: \n",
      "A value is trying to be set on a copy of a slice from a DataFrame.\n",
      "Try using .loc[row_indexer,col_indexer] = value instead\n",
      "\n",
      "See the caveats in the documentation: https://pandas.pydata.org/pandas-docs/stable/user_guide/indexing.html#returning-a-view-versus-a-copy\n",
      "  df['elec_ke'] = df.elec_e - 0.000511\n",
      "/Users/patrick/Documents/MicroBooNE/CrossSections/NueCCNp_Analysis/uB_NuMI_CC_Np/backend_functions/top.py:424: SettingWithCopyWarning: \n",
      "A value is trying to be set on a copy of a slice from a DataFrame.\n",
      "Try using .loc[row_indexer,col_indexer] = value instead\n",
      "\n",
      "See the caveats in the documentation: https://pandas.pydata.org/pandas-docs/stable/user_guide/indexing.html#returning-a-view-versus-a-copy\n",
      "  df['true_e_visible2'] = E_vis_new\n",
      "/Users/patrick/Documents/MicroBooNE/CrossSections/NueCCNp_Analysis/uB_NuMI_CC_Np/backend_functions/top.py:408: SettingWithCopyWarning: \n",
      "A value is trying to be set on a copy of a slice from a DataFrame.\n",
      "Try using .loc[row_indexer,col_indexer] = value instead\n",
      "\n",
      "See the caveats in the documentation: https://pandas.pydata.org/pandas-docs/stable/user_guide/indexing.html#returning-a-view-versus-a-copy\n",
      "  df['elec_ke'] = df.elec_e - 0.000511\n",
      "/Users/patrick/Documents/MicroBooNE/CrossSections/NueCCNp_Analysis/uB_NuMI_CC_Np/backend_functions/top.py:424: SettingWithCopyWarning: \n",
      "A value is trying to be set on a copy of a slice from a DataFrame.\n",
      "Try using .loc[row_indexer,col_indexer] = value instead\n",
      "\n",
      "See the caveats in the documentation: https://pandas.pydata.org/pandas-docs/stable/user_guide/indexing.html#returning-a-view-versus-a-copy\n",
      "  df['true_e_visible2'] = E_vis_new\n"
     ]
    }
   ],
   "source": [
    "# corrected visible energy variable - account for electrons below 30 MeV \n",
    "# use this variable for the visible energy unfolding \n",
    "\n",
    "visible_energy_nothres(overlay)\n",
    "visible_energy_nothres(dirt)"
   ]
  },
  {
   "cell_type": "code",
   "execution_count": 30,
   "metadata": {},
   "outputs": [],
   "source": [
    "# make dataframes equal # of columns \n",
    "\n",
    "data['is_signal'] = np.nan\n",
    "ext['is_signal'] = False\n",
    "\n",
    "nan_var = ['thdet', 'phidet', 'true_nu_px_beam', 'true_nu_py_beam', 'true_nu_pz_beam', \n",
    "           'thbeam', 'phibeam','weightsNuMIGeo', 'true_e_visible2']\n",
    "\n",
    "for var in mc_var+sys_genie+sys_flux+nan_var: \n",
    "    data[var] = np.nan\n",
    "    ext[var] = np.nan"
   ]
  },
  {
   "cell_type": "code",
   "execution_count": 31,
   "metadata": {},
   "outputs": [
    {
     "name": "stdout",
     "output_type": "stream",
     "text": [
      "True\n",
      "True\n"
     ]
    }
   ],
   "source": [
    "# some checks \n",
    "print(len(nue.query('is_signal==True'))==len(nue.query(signal)))\n",
    "print(len(nue.query('is_signal==False'))==len(nue.query(not_signal)))"
   ]
  },
  {
   "cell_type": "code",
   "execution_count": 32,
   "metadata": {},
   "outputs": [
    {
     "data": {
      "text/plain": [
       "False"
      ]
     },
     "execution_count": 32,
     "metadata": {},
     "output_type": "execute_result"
    }
   ],
   "source": [
    "ISRUN3"
   ]
  },
  {
   "cell_type": "markdown",
   "metadata": {},
   "source": [
    "## Weights"
   ]
  },
  {
   "cell_type": "code",
   "execution_count": 33,
   "metadata": {
    "scrolled": true
   },
   "outputs": [
    {
     "name": "stdout",
     "output_type": "stream",
     "text": [
      "0\n"
     ]
    },
    {
     "name": "stderr",
     "output_type": "stream",
     "text": [
      "/var/folders/2x/l68t7zdd3tngj9l8__x4bmrh0000gq/T/ipykernel_59470/3081178329.py:35: SettingWithCopyWarning: \n",
      "A value is trying to be set on a copy of a slice from a DataFrame.\n",
      "Try using .loc[row_indexer,col_indexer] = value instead\n",
      "\n",
      "See the caveats in the documentation: https://pandas.pydata.org/pandas-docs/stable/user_guide/indexing.html#returning-a-view-versus-a-copy\n",
      "  df['weightsGenieUnisim'] = universes\n"
     ]
    },
    {
     "name": "stdout",
     "output_type": "stream",
     "text": [
      "1\n"
     ]
    },
    {
     "name": "stderr",
     "output_type": "stream",
     "text": [
      "/var/folders/2x/l68t7zdd3tngj9l8__x4bmrh0000gq/T/ipykernel_59470/3081178329.py:35: SettingWithCopyWarning: \n",
      "A value is trying to be set on a copy of a slice from a DataFrame.\n",
      "Try using .loc[row_indexer,col_indexer] = value instead\n",
      "\n",
      "See the caveats in the documentation: https://pandas.pydata.org/pandas-docs/stable/user_guide/indexing.html#returning-a-view-versus-a-copy\n",
      "  df['weightsGenieUnisim'] = universes\n"
     ]
    },
    {
     "name": "stdout",
     "output_type": "stream",
     "text": [
      "2\n"
     ]
    }
   ],
   "source": [
    "# clean bad weights & values \n",
    "\n",
    "for i,df in enumerate(mc_df):\n",
    "    \n",
    "    print(i)\n",
    "    \n",
    "    # bad weights \n",
    "    df.loc[ df['weightSplineTimesTune'] <= 0, 'weightSplineTimesTune' ] = 1.\n",
    "    df.loc[ df['weightSplineTimesTune'] == np.inf, 'weightSplineTimesTune' ] = 1.\n",
    "    df.loc[ df['weightSplineTimesTune'] > 30, 'weightSplineTimesTune' ] = 1.\n",
    "    df.loc[ np.isnan(df['weightSplineTimesTune']) == True, 'weightSplineTimesTune' ] = 1.\n",
    "    \n",
    "    df.loc[ df['weightTune'] <= 0, 'weightTune' ] = 1.\n",
    "    df.loc[ df['weightTune'] == np.inf, 'weightTune' ] = 1.\n",
    "    df.loc[ df['weightTune'] > 30, 'weightTune' ] = 1.\n",
    "    df.loc[ np.isnan(df['weightTune']) == True, 'weightTune' ] = 1.\n",
    "\n",
    "    df.loc[ df['ppfx_cv'] <= 0, 'ppfx_cv' ] = 1.\n",
    "    df.loc[ df['ppfx_cv'] == np.inf, 'ppfx_cv' ] = 1.\n",
    "    df.loc[ df['ppfx_cv'] > 30, 'ppfx_cv' ] = 1.\n",
    "    df.loc[ np.isnan(df['ppfx_cv']) == True, 'ppfx_cv' ] = 1.\n",
    "    \n",
    "                \n",
    "    # CLEAN GENIE UNISIM WEIGHTS & CREATE WEIGHTSGENIEUNISIM LIST \n",
    "    for v in sys_genie[2:]: \n",
    "        df.loc[ df[v] <= 0, v ] = 1.\n",
    "        df.loc[ df[v] == np.inf, v ] = 1.\n",
    "        df.loc[ df[v] > 30, v ] = 1.\n",
    "        df.loc[ np.isnan(df[v]) == True, v ] = 1.\n",
    "        \n",
    "    universes = []\n",
    "    for evt in df[sys_genie[2:]].values: \n",
    "        universes.append( evt )\n",
    "            \n",
    "    df['weightsGenieUnisim'] = universes\n",
    "\n",
    "        \n",
    "    # cleaning -- for entries that are arrays \n",
    "    for ievt in range(df.shape[0]):\n",
    "        \n",
    "        # GENIE MULTISIMS\n",
    "        \n",
    "        # check for NaNs separately        \n",
    "        if np.isnan(df['weightsGenie'].iloc[ievt]).any() == True: \n",
    "            df['weightsGenie'].iloc[ievt][ np.isnan(df['weightsGenie'].iloc[ievt]) ] = 1.\n",
    "            \n",
    "        reweightCondition = ((df['weightsGenie'].iloc[ievt] > 30) | (df['weightsGenie'].iloc[ievt] < 0)  | \n",
    "                             (df['weightsGenie'].iloc[ievt] == np.inf) | (df['weightsGenie'].iloc[ievt] == np.nan))\n",
    "        df['weightsGenie'].iloc[ievt][ reweightCondition ] = 1.\n",
    "        \n",
    "        # if no variations exist for the event\n",
    "        if not list(df['weightsGenie'].iloc[ievt]): \n",
    "            df['weightsGenie'].iloc[ievt] = [1.0 for k in range(600)]\n",
    "        \n",
    "        # RE-INTERACTION WEIGHTS\n",
    "        \n",
    "        # check for NaNs separately        \n",
    "        if np.isnan(df['weightsReint'].iloc[ievt]).any() == True: \n",
    "            df['weightsReint'].iloc[ievt][ np.isnan(df['weightsReint'].iloc[ievt]) ] = 1.\n",
    "        \n",
    "        reweightCondition2 = ((df['weightsReint'].iloc[ievt] > 30) | (df['weightsReint'].iloc[ievt] < 0)   |\n",
    "                             (df['weightsReint'].iloc[ievt] == np.inf))\n",
    "        df['weightsReint'].iloc[ievt][ reweightCondition2 ] = 1.\n",
    "        \n",
    "        # if no variations exist for the event\n",
    "        if not list(df['weightsReint'].iloc[ievt]): \n",
    "            df['weightsReint'].iloc[ievt] = [1.0 for k in range(1000)]\n",
    "            "
   ]
  },
  {
   "cell_type": "code",
   "execution_count": 34,
   "metadata": {},
   "outputs": [
    {
     "name": "stdout",
     "output_type": "stream",
     "text": [
      "Adding pot_scale column using dirt & EXT tune....\n",
      "Adding pot_scale column using dirt & EXT tune....\n",
      "Adding pot_scale column using dirt & EXT tune....\n",
      "Adding pot_scale column using dirt & EXT tune....\n"
     ]
    }
   ],
   "source": [
    "# POT normalization\n",
    "\n",
    "beamon_pot = parameters(ISRUN3)['beamon_pot'] \n",
    "\n",
    "overlay = pot_scale(overlay, 'overlay', ISRUN3)\n",
    "\n",
    "## FHC new flux weights \n",
    "##overlay['pot_scale'] = beamon_pot/2.33978e+21\n",
    "\n",
    "## RHC new flux weights \n",
    "##overlay['pot_scale'] = beamon_pot/1.98265e+21\n",
    "\n",
    "dirt = pot_scale(dirt, 'dirt', ISRUN3)\n",
    "ext = pot_scale(ext, 'ext', ISRUN3)\n",
    "\n",
    "if NUE_INTRINSIC: \n",
    "    nue = pot_scale(nue, 'intrinsic', ISRUN3)\n",
    "    \n",
    "    ## FHC new flux weights \n",
    "    ##nue['pot_scale'] = beamon_pot/2.38181e+22\n",
    "    \n",
    "    ## RHC new flux weights \n",
    "    ##nue['pot_scale'] = beamon_pot/2.53486e+22\n",
    "\n",
    "data['pot_scale'] = [1 for x in range(len(data))]\n"
   ]
  },
  {
   "cell_type": "code",
   "execution_count": 35,
   "metadata": {},
   "outputs": [],
   "source": [
    "# total weights \n",
    "\n",
    "# combined genie * POT weight * flux weight \n",
    "# ext gets POT weight only \n",
    "\n",
    "################################################################\n",
    "# totweight_data scales to BEAMON\n",
    "\n",
    "# tuned\n",
    "overlay['totweight_data'] = overlay['pot_scale']*overlay['ppfx_cv']*overlay['weightSplineTimesTune']\n",
    "dirt['totweight_data'] = dirt['pot_scale']*dirt['ppfx_cv']*dirt['weightSplineTimesTune']\n",
    "\n",
    "if NUE_INTRINSIC: \n",
    "    nue['totweight_data'] = nue['pot_scale']*nue['ppfx_cv']*nue['weightSplineTimesTune']\n"
   ]
  },
  {
   "cell_type": "code",
   "execution_count": 36,
   "metadata": {},
   "outputs": [],
   "source": [
    "# to keep the number of columns the same \n",
    "\n",
    "new_var = ['weightsGenieUnisim', 'totweight_data']\n",
    "\n",
    "for var in new_var: \n",
    "    ext[var] = np.nan\n",
    "    data[var] = np.nan"
   ]
  },
  {
   "cell_type": "markdown",
   "metadata": {},
   "source": [
    "## Categories"
   ]
  },
  {
   "cell_type": "code",
   "execution_count": 37,
   "metadata": {},
   "outputs": [
    {
     "name": "stdout",
     "output_type": "stream",
     "text": [
      "# of nueCC in AV in overlay sample = 4650\n",
      "# of nueCC in AV dropped in overlay = 4650\n"
     ]
    }
   ],
   "source": [
    "# replace overlay nue CC events with nue intrinsic sample\n",
    "\n",
    "#overlay = pd.concat([overlay,nue], ignore_index=True)\n",
    "\n",
    "if NUE_INTRINSIC: \n",
    "    \n",
    "    # intrinsic sample contains in AV TPC events ONLY, & only CC events (overlay is entire cryo)\n",
    "    print(\"# of nueCC in AV in overlay sample = \"+str(len(overlay.query(nueCC_query))))\n",
    "    len1 = len(overlay)\n",
    "    \n",
    "    idx = overlay.query(nueCC_query).index\n",
    "    overlay.drop(idx, inplace=True)\n",
    "    len2 = len(overlay) \n",
    "    print(\"# of nueCC in AV dropped in overlay = \"+str(len1-len2))\n",
    "    \n",
    "    overlay = pd.concat([overlay,nue], ignore_index=True)\n",
    "\n"
   ]
  },
  {
   "cell_type": "code",
   "execution_count": 38,
   "metadata": {},
   "outputs": [
    {
     "name": "stdout",
     "output_type": "stream",
     "text": [
      "(116825, 92)\n"
     ]
    }
   ],
   "source": [
    "print(overlay.shape)"
   ]
  },
  {
   "cell_type": "code",
   "execution_count": 39,
   "metadata": {},
   "outputs": [],
   "source": [
    "# apply SW trigger, combine overlay + dirt as MC \n",
    "mc = pd.concat([overlay.query('swtrig_pre==1'),dirt.query('swtrig_pre==1')], ignore_index=True, sort=True)\n"
   ]
  },
  {
   "cell_type": "code",
   "execution_count": 40,
   "metadata": {},
   "outputs": [],
   "source": [
    "# separate by in/out FV & cosmic\n",
    "infv = mc.query(in_fv_query)\n",
    "outfv = mc.query(out_fv_query)"
   ]
  },
  {
   "cell_type": "code",
   "execution_count": 41,
   "metadata": {},
   "outputs": [
    {
     "name": "stdout",
     "output_type": "stream",
     "text": [
      "True\n"
     ]
    }
   ],
   "source": [
    "# check that everything is accounted for \n",
    "print(len(mc)==len(infv)+len(outfv))#+len(cosmic))\n",
    "\n",
    "if not (len(mc)==len(infv)+len(outfv)):#+len(cosmic)): \n",
    "    d = len(mc) - (len(infv)+len(outfv))#+len(cosmic))\n",
    "    print(d)\n",
    "    \n",
    "     \n",
    "    m = pd.concat([infv, outfv]) #pd.concat([infv, cosmic, outfv])\n",
    "    diff = np.setdiff1d(list(mc.index),list(m.index))\n"
   ]
  },
  {
   "cell_type": "code",
   "execution_count": 42,
   "metadata": {},
   "outputs": [
    {
     "name": "stdout",
     "output_type": "stream",
     "text": [
      "total signal events = 250.88747502856478\n"
     ]
    }
   ],
   "source": [
    "tot_signal_weighted = np.nansum(infv.query('is_signal==True')['totweight_data'])\n",
    "print('total signal events = '+ str(tot_signal_weighted))\n"
   ]
  },
  {
   "cell_type": "code",
   "execution_count": 43,
   "metadata": {},
   "outputs": [],
   "source": [
    "# 5 main categories: \n",
    "\n",
    "# infv - overlay & dirt events with truth vtx in FV \n",
    "# outfv - overlay & dirt events with truth vtx in FV that are classified as neutrinos\n",
    "# cosmic - overlay & dirt events with true vtx in FV that get misclassified as cosmic - no longer used \n",
    "# ext - beam OFF data\n",
    "# data - beam ON data \n",
    "\n",
    "datasets = {\n",
    "    \"infv\": infv, \n",
    "    \"outfv\": outfv, \n",
    "    \"ext\": ext,\n",
    "    \"data\": data\n",
    "}\n"
   ]
  },
  {
   "cell_type": "code",
   "execution_count": 44,
   "metadata": {},
   "outputs": [
    {
     "data": {
      "text/plain": [
       "False"
      ]
     },
     "execution_count": 44,
     "metadata": {},
     "output_type": "execute_result"
    }
   ],
   "source": [
    "ISRUN3"
   ]
  },
  {
   "cell_type": "markdown",
   "metadata": {},
   "source": [
    "# Apply BDT Model "
   ]
  },
  {
   "cell_type": "code",
   "execution_count": 45,
   "metadata": {},
   "outputs": [
    {
     "name": "stderr",
     "output_type": "stream",
     "text": [
      "/opt/homebrew/Caskroom/miniconda/base/envs/ccnpenv/lib/python3.9/site-packages/xgboost/core.py:158: UserWarning: [15:58:18] WARNING: /Users/runner/work/xgboost/xgboost/src/learner.cc:1070: Loading model from XGBoost < 1.0.0, consider saving it again for improved compatibility\n",
      "  warnings.warn(smsg, UserWarning)\n"
     ]
    }
   ],
   "source": [
    "if useBDT: # load bdt model \n",
    "    bdt_model = xgb.Booster({'nthread': 4})\n",
    "    bdt_model.load_model(parameters(ISRUN3)['bdt_model'])"
   ]
  },
  {
   "cell_type": "code",
   "execution_count": 46,
   "metadata": {},
   "outputs": [],
   "source": [
    "if useBDT: \n",
    "    \n",
    "    datasets_bdt = {}\n",
    "\n",
    "    for i in range(len(datasets)): \n",
    "\n",
    "        df = list(datasets.values())[i].copy()\n",
    "        df = df.query(BDT_LOOSE_CUTS)\n",
    "\n",
    "        # clean datasets \n",
    "        for column in training_parameters:\n",
    "            df.loc[(df[column] < -1.0e37) | (df[column] > 1.0e37), column] = np.nan\n",
    "\n",
    "        # create testing dmatrix \n",
    "        df_test = xgb.DMatrix(data=df[training_parameters])\n",
    "\n",
    "        # apply the bdt selection\n",
    "        preds = bdt_model.predict(df_test)\n",
    "\n",
    "        # add columns for plotting \n",
    "        df['BDT_score'] = preds\n",
    "\n",
    "        datasets_bdt[list(datasets.keys())[i]] = df\n",
    "\n",
    "  \n",
    "    "
   ]
  },
  {
   "cell_type": "code",
   "execution_count": 47,
   "metadata": {},
   "outputs": [
    {
     "name": "stdout",
     "output_type": "stream",
     "text": [
      "BDT SCORE THRESHOLD = 0.55\n"
     ]
    }
   ],
   "source": [
    "if useBDT: \n",
    "    bdt_score_cut = parameters(ISRUN3)['bdt_score_cut']\n",
    "\n",
    "    print(\"BDT SCORE THRESHOLD = \"+str(bdt_score_cut))\n",
    "\n",
    "    selected_query = BDT_LOOSE_CUTS + ' and BDT_score>'+str(bdt_score_cut)\n",
    "    selected_signal_query = selected_query + ' and is_signal==True'"
   ]
  },
  {
   "cell_type": "code",
   "execution_count": 48,
   "metadata": {},
   "outputs": [
    {
     "name": "stdout",
     "output_type": "stream",
     "text": [
      "total selected = 288.63785597597223\n"
     ]
    },
    {
     "name": "stderr",
     "output_type": "stream",
     "text": [
      "/Users/patrick/Documents/MicroBooNE/CrossSections/NueCCNp_Analysis/uB_NuMI_CC_Np/backend_functions/selection_functions.py:379: RuntimeWarning: invalid value encountered in divide\n",
      "  ext_percent_err = np.sqrt(ext_counts)/n[-1]\n",
      "/Users/patrick/Documents/MicroBooNE/CrossSections/NueCCNp_Analysis/uB_NuMI_CC_Np/backend_functions/selection_functions.py:380: RuntimeWarning: invalid value encountered in divide\n",
      "  mc_percent_err = mc_err/n[-1]\n"
     ]
    },
    {
     "data": {
      "image/png": "[encoded data removed]",
      "text/plain": [
       "<Figure size 800x500 with 1 Axes>"
      ]
     },
     "metadata": {},
     "output_type": "display_data"
    }
   ],
   "source": [
    "# stat only errors \n",
    "if useBDT: \n",
    "    x = plot_mc('BDT_score', [x*0.1 for x in range(11)], 0, 1, BDT_LOOSE_CUTS, datasets_bdt, \n",
    "                ISRUN3, x_label=\"BDT Score\", norm='data')"
   ]
  },
  {
   "cell_type": "markdown",
   "metadata": {},
   "source": [
    "# Uncertainties (and choose variable!)"
   ]
  },
  {
   "cell_type": "code",
   "execution_count": 49,
   "metadata": {},
   "outputs": [],
   "source": [
    "import matplotlib\n",
    "matplotlib.rcParams['mathtext.default'] = 'regular'"
   ]
  },
  {
   "cell_type": "code",
   "execution_count": 50,
   "metadata": {},
   "outputs": [
    {
     "data": {
      "text/plain": [
       "False"
      ]
     },
     "execution_count": 50,
     "metadata": {},
     "output_type": "execute_result"
    }
   ],
   "source": [
    "ISRUN3"
   ]
  },
  {
   "cell_type": "code",
   "execution_count": 51,
   "metadata": {},
   "outputs": [
    {
     "name": "stdout",
     "output_type": "stream",
     "text": [
      "Make sure to update the datasets dictionary used!\n"
     ]
    }
   ],
   "source": [
    "#detsys = True\n",
    "\n",
    "plot_variations = False\n",
    "plot_cov = False\n",
    "\n",
    "y_label = 'Events / Bin'\n",
    "\n",
    "# Determine the datasets dictionary to use\n",
    "if cut_level == \"bdt train\":\n",
    "    datasets_dict = datasets  # Force to use datasets if cut_level is \"bdt train\"\n",
    "else:\n",
    "    datasets_dict = datasets_bdt if background_subtraction or xvar == 'BDT_score' or useBDT else datasets\n",
    "\n",
    "print(\"Make sure to update the datasets dictionary used!\")\n"
   ]
  },
  {
   "cell_type": "code",
   "execution_count": 52,
   "metadata": {},
   "outputs": [
    {
     "name": "stdout",
     "output_type": "stream",
     "text": [
      "datasets_dict: {'infv':         NeutrinoEnergy2  NeutrinoEnergy2_GeV  ccnc  contained_fraction  \\\n",
      "21           444.333557             0.444334     1                 1.0   \n",
      "170          262.973633             0.262974     0                 1.0   \n",
      "178          494.749207             0.494749     1                 1.0   \n",
      "278          239.671875             0.239672     0                 1.0   \n",
      "310          534.271301             0.534271     1                 1.0   \n",
      "...                 ...                  ...   ...                 ...   \n",
      "116804       419.921387             0.419921     0                 1.0   \n",
      "116805       730.411255             0.730411     0                 1.0   \n",
      "116808      1178.401611             1.178402     0                 1.0   \n",
      "116815       709.813904             0.709814     0                 1.0   \n",
      "116820       529.418091             0.529418     0                 1.0   \n",
      "\n",
      "          elec_e   elec_ke       elec_px       elec_py       elec_pz    evt  \\\n",
      "21      0.000000 -0.000511 -3.402823e+38 -3.402823e+38 -3.402823e+38  70859   \n",
      "170     0.000000 -0.000511 -3.402823e+38 -3.402823e+38 -3.402823e+38  57048   \n",
      "178     0.000000 -0.000511 -3.402823e+38 -3.402823e+38 -3.402823e+38  56844   \n",
      "278     0.000000 -0.000511 -3.402823e+38 -3.402823e+38 -3.402823e+38  59271   \n",
      "310     0.000000 -0.000511 -3.402823e+38 -3.402823e+38 -3.402823e+38  83351   \n",
      "...          ...       ...           ...           ...           ...    ...   \n",
      "116804  0.254103       NaN -9.201874e-01  3.909205e-01 -2.088647e-02   3308   \n",
      "116805  0.601791       NaN  7.162953e-01 -5.491176e-01  4.305705e-01   3496   \n",
      "116808  1.375786       NaN  6.761853e-01 -4.006035e-02  7.356417e-01   2062   \n",
      "116815  0.641598       NaN  3.025437e-01  2.741721e-01  9.128510e-01    195   \n",
      "116820  0.363651       NaN  1.868938e-01  9.726391e-01  1.379993e-01    377   \n",
      "\n",
      "        ...  true_nu_vtx_z  weightSpline  weightSplineTimesTune  weightTune  \\\n",
      "21      ...     242.436752           1.0               1.000000    1.000000   \n",
      "170     ...     892.130676           1.0               1.000000    1.000000   \n",
      "178     ...     831.729858           1.0               1.000000    1.000000   \n",
      "278     ...     265.250824           1.0               1.000000    1.000000   \n",
      "310     ...     468.577515           1.0               1.000000    1.000000   \n",
      "...     ...            ...           ...                    ...         ...   \n",
      "116804  ...     135.460007           1.0               1.172286    1.172286   \n",
      "116805  ...     182.493439           1.0               1.157416    1.157416   \n",
      "116808  ...     769.353821           1.0               1.000000    1.000000   \n",
      "116815  ...     597.554260           1.0               1.000000    1.000000   \n",
      "116820  ...     533.671143           1.0               1.158692    1.158692   \n",
      "\n",
      "                                             weightsGenie  \\\n",
      "21      [0.473, 0.984, 0.837, 1.006, 1.71, 0.427, 2.08...   \n",
      "170     [0.786, 0.874, 1.037, 1.071, 0.384, 1.041, 0.7...   \n",
      "178     [0.648, 0.807, 0.257, 1.059, 0.321, 1.043, 0.7...   \n",
      "278     [0.671, 0.851, 0.27, 1.209, 0.311, 1.377, 0.78...   \n",
      "310     [0.062, 0.928, 0.683, 0.626, 0.82, 2.249, 0.95...   \n",
      "...                                                   ...   \n",
      "116804  [1.295, 1.182, 0.874, 1.322, 0.648, 1.514, 1.0...   \n",
      "116805  [1.261, 1.096, 0.922, 1.234, 0.98, 1.324, 1.11...   \n",
      "116808  [1.0, 1.0, 1.0, 1.0, 1.0, 1.0, 1.0, 1.0, 1.0, ...   \n",
      "116815  [1.874, 0.545, 1.786, 0.353, 0.446, 1.115, 0.6...   \n",
      "116820  [1.269, 1.117, 0.908, 1.255, 0.862, 1.375, 1.0...   \n",
      "\n",
      "                                       weightsGenieUnisim  \\\n",
      "21      [1.0, 1.0, 1.0, 1.0, 1.0, 1.0, 1.0, 1.0, 1.0, ...   \n",
      "170     [1.0, 1.0, 1.0, 1.0, 1.0, 1.0, 0.6755864206567...   \n",
      "178     [1.0, 1.0, 1.0, 1.0, 1.0, 1.0, 1.0124256842188...   \n",
      "278     [1.0, 1.0, 1.0, 1.0, 1.0, 1.0, 0.9502606116452...   \n",
      "310     [1.0, 1.0, 1.0, 1.0, 1.0, 1.0, 1.0, 1.0, 1.0, ...   \n",
      "...                                                   ...   \n",
      "116804  [1.154756038637891, 1.1898160538234868, 1.1722...   \n",
      "116805  [1.2107579099569898, 1.1040734677479438, 1.157...   \n",
      "116808  [1.0, 1.0, 1.0, 1.0, 1.0, 1.0, 1.0, 1.0, 1.0, ...   \n",
      "116815  [1.0, 1.0, 1.0, 1.0, 1.0, 1.0, 0.8329872720204...   \n",
      "116820  [1.182546319898567, 1.1348382143497648, 1.1586...   \n",
      "\n",
      "                                           weightsNuMIGeo  \\\n",
      "21      [1.0161303884905872, 0.9922192039317554, 1.004...   \n",
      "170     [0.9897210721867341, 1.0032345594752066, 1.000...   \n",
      "178     [0.9851854665801076, 1.0005719697459672, 0.989...   \n",
      "278     [0.9921342913394844, 1.0270862216015118, 1.010...   \n",
      "310     [1.0079644271751798, 1.006513695037796, 0.9925...   \n",
      "...                                                   ...   \n",
      "116804  [1.0114594193514972, 1.0047304559504635, 0.993...   \n",
      "116805  [0.9641880149881182, 0.9869034432896411, 0.964...   \n",
      "116808  [0.9747806180072688, 0.9579880151387614, 0.953...   \n",
      "116815  [0.997715621150952, 1.0042528200713328, 0.9945...   \n",
      "116820  [1.0114594193514972, 1.0047304559504635, 0.993...   \n",
      "\n",
      "                                              weightsPPFX  \\\n",
      "21      [1.374, 0.181, 0.133, 0.505, 0.593, 1.154, 0.6...   \n",
      "170     [0.512, 0.503, 0.576, 0.828, 0.441, 0.61, 0.35...   \n",
      "178     [0.95, 0.314, 0.249, 0.637, 0.737, 1.114, 0.55...   \n",
      "278     [0.499, 0.228, 0.173, 0.279, 0.34, 0.389, 0.46...   \n",
      "310     [1.355, 0.606, 1.163, 0.576, 0.985, 1.343, 0.7...   \n",
      "...                                                   ...   \n",
      "116804  [0.614, 0.682, 0.074, 0.911, 1.333, 0.255, 0.6...   \n",
      "116805  [2.246, 0.086, 0.845, 0.125, 0.0, 0.323, 0.571...   \n",
      "116808  [0.93, 0.47, 0.306, 0.485, 0.609, 0.745, 0.882...   \n",
      "116815  [0.479, 0.945, 0.244, 0.789, 2.646, 1.82, 0.60...   \n",
      "116820  [0.989, 1.04, 1.023, 0.954, 1.036, 0.92, 1.097...   \n",
      "\n",
      "                                             weightsReint  BDT_score  \n",
      "21      [0.963, 0.89, 1.076, 1.004, 0.945, 0.977, 0.96...   0.146446  \n",
      "170     [1.0, 1.0, 1.0, 1.0, 1.0, 1.0, 1.0, 1.0, 1.0, ...   0.320064  \n",
      "178     [1.08, 1.269, 0.692, 0.998, 1.067, 1.081, 1.23...   0.214735  \n",
      "278     [1.032, 1.055, 1.048, 0.994, 1.103, 0.985, 0.9...   0.223093  \n",
      "310     [0.533, 0.863, 0.876, 0.743, 0.883, 1.019, 0.7...   0.390952  \n",
      "...                                                   ...        ...  \n",
      "116804  [1.256, 1.843, 0.652, 0.962, 1.441, 1.118, 1.0...   0.355722  \n",
      "116805  [0.98, 0.942, 1.035, 1.002, 0.97, 0.989, 0.982...   0.524128  \n",
      "116808  [0.99, 0.97, 1.019, 1.001, 0.985, 0.994, 0.989...   0.600389  \n",
      "116815  [0.974, 0.924, 1.05, 1.003, 0.963, 0.984, 0.97...   0.537782  \n",
      "116820  [0.965, 0.903, 1.049, 1.005, 0.943, 0.983, 0.9...   0.453432  \n",
      "\n",
      "[11687 rows x 93 columns], 'outfv':         NeutrinoEnergy2  NeutrinoEnergy2_GeV  ccnc  contained_fraction  \\\n",
      "106          353.463318             0.353463     0                 1.0   \n",
      "160           76.168205             0.076168     0                 1.0   \n",
      "222           51.872181             0.051872     1                 1.0   \n",
      "531          116.715073             0.116715     1                 1.0   \n",
      "532          140.256989             0.140257     1                 1.0   \n",
      "...                 ...                  ...   ...                 ...   \n",
      "129648        92.691254             0.092691     0                 1.0   \n",
      "129845        73.047150             0.073047     0                 1.0   \n",
      "129872        36.155743             0.036156     0                 1.0   \n",
      "129940       304.884247             0.304884     0                 1.0   \n",
      "130048       139.012909             0.139013     1                 1.0   \n",
      "\n",
      "          elec_e   elec_ke       elec_px       elec_py       elec_pz    evt  \\\n",
      "106     0.000000 -0.000511 -3.402823e+38 -3.402823e+38 -3.402823e+38  22167   \n",
      "160     0.000000 -0.000511 -3.402823e+38 -3.402823e+38 -3.402823e+38  44610   \n",
      "222     0.000000 -0.000511 -3.402823e+38 -3.402823e+38 -3.402823e+38  82777   \n",
      "531     0.000000 -0.000511 -3.402823e+38 -3.402823e+38 -3.402823e+38  65989   \n",
      "532     0.000000 -0.000511 -3.402823e+38 -3.402823e+38 -3.402823e+38  65995   \n",
      "...          ...       ...           ...           ...           ...    ...   \n",
      "129648  0.000000 -0.000511 -3.402823e+38 -3.402823e+38 -3.402823e+38  14417   \n",
      "129845  0.000000 -0.000511 -3.402823e+38 -3.402823e+38 -3.402823e+38  66950   \n",
      "129872  0.172701  0.172190 -3.402823e+38 -3.402823e+38 -3.402823e+38  65727   \n",
      "129940  0.000000 -0.000511 -3.402823e+38 -3.402823e+38 -3.402823e+38  55010   \n",
      "130048  0.000000 -0.000511 -3.402823e+38 -3.402823e+38 -3.402823e+38  77973   \n",
      "\n",
      "        ...  true_nu_vtx_z  weightSpline  weightSplineTimesTune  weightTune  \\\n",
      "106     ...     496.425720           1.0               1.000000    1.000000   \n",
      "160     ...     264.669128           1.0               0.962150    0.962150   \n",
      "222     ...     971.495361           1.0               1.000000    1.000000   \n",
      "531     ...     981.691833           1.0               1.000000    1.000000   \n",
      "532     ...     -29.094746           1.0               1.000000    1.000000   \n",
      "...     ...            ...           ...                    ...         ...   \n",
      "129648  ...    2110.391357           1.0               1.161541    1.161541   \n",
      "129845  ...   -1512.697754           1.0               1.247307    1.247307   \n",
      "129872  ...    -843.655396           1.0               1.000000    1.000000   \n",
      "129940  ...    -121.043228           1.0               1.000000    1.000000   \n",
      "130048  ...     -74.986748           1.0               1.000000    1.000000   \n",
      "\n",
      "                                             weightsGenie  \\\n",
      "106     [0.832, 0.597, 0.892, 0.878, 1.532, 0.797, 0.8...   \n",
      "160     [1.561, 0.345, 1.522, 0.532, 0.454, 1.293, 0.8...   \n",
      "222     [1.28, 1.554, 1.382, 0.647, 0.576, 0.932, 0.61...   \n",
      "531     [0.939, 0.807, 1.001, 0.578, 0.472, 0.372, 0.6...   \n",
      "532     [0.535, 0.216, 0.051, 1.855, 1.919, 0.663, 2.1...   \n",
      "...                                                   ...   \n",
      "129648  [1.204, 0.36, 0.428, 1.57, 1.229, 0.593, 1.493...   \n",
      "129845  [1.48, 1.089, 0.86, 1.385, 1.13, 1.558, 1.205,...   \n",
      "129872  [1.719, 1.137, 2.533, 0.69, 0.896, 1.342, 0.98...   \n",
      "129940  [0.948, 0.982, 1.032, 0.993, 1.03, 1.013, 1.09...   \n",
      "130048  [2.166, 1.052, 1.285, 1.091, 0.599, 1.092, 1.5...   \n",
      "\n",
      "                                       weightsGenieUnisim  \\\n",
      "106     [1.0, 1.0, 1.0, 1.0, 1.0, 1.0, 0.6486115594586...   \n",
      "160     [0.8435888273202641, 1.080711763599357, 0.9621...   \n",
      "222     [1.0, 1.0, 1.0, 1.0, 1.0, 1.0, 3.1322385207768...   \n",
      "531     [1.0, 1.0, 1.0, 1.0, 1.0, 1.0, 0.6401812414249...   \n",
      "532     [1.0, 1.0, 1.0, 1.0, 1.0, 1.0, 1.0, 1.0, 1.0, ...   \n",
      "...                                                   ...   \n",
      "129648  [1.0677438908116406, 1.2553371722575164, 1.161...   \n",
      "129845  [1.2470552594707278, 1.2475593975936055, 1.247...   \n",
      "129872  [1.0, 1.0, 1.0, 1.0, 1.0, 1.0, 1.0, 1.0, 1.0, ...   \n",
      "129940  [1.0, 1.0, 1.0, 1.0, 1.0, 1.0, 1.0, 1.0, 1.0, ...   \n",
      "130048  [1.0, 1.0, 1.0, 1.0, 1.0, 1.0, 1.0, 1.0, 1.0, ...   \n",
      "\n",
      "                                           weightsNuMIGeo  \\\n",
      "106     [0.9964187298093046, 0.9881743669190728, 1.024...   \n",
      "160     [1.0015327578594482, 0.9985538749937293, 0.994...   \n",
      "222     [1.0017071691744674, 0.9931421980522659, 0.989...   \n",
      "531     [1.0079644271751798, 1.006513695037796, 0.9925...   \n",
      "532     [1.003574479439595, 1.019263849901324, 1.00762...   \n",
      "...                                                   ...   \n",
      "129648  [1.0079644271751798, 1.006513695037796, 0.9925...   \n",
      "129845  [1.0116730266750928, 1.0145849090906538, 1.012...   \n",
      "129872  [1.001102329720512, 0.9980654781446533, 0.9840...   \n",
      "129940  [0.885735134786435, 0.9725692955449733, 0.9088...   \n",
      "130048  [0.9640705864425905, 0.9659351175953427, 1.003...   \n",
      "\n",
      "                                              weightsPPFX  \\\n",
      "106     [0.599, 0.417, 0.507, 0.601, 0.359, 0.448, 0.5...   \n",
      "160     [0.904, 0.777, 0.441, 0.782, 1.079, 0.61, 0.73...   \n",
      "222     [0.451, 0.818, 0.567, 0.94, 0.593, 1.114, 0.68...   \n",
      "531     [0.435, 0.435, 1.147, 1.482, 0.427, 0.562, 1.8...   \n",
      "532     [0.979, 0.476, 0.308, 0.508, 0.647, 0.771, 0.8...   \n",
      "...                                                   ...   \n",
      "129648  [1.065, 1.058, 1.12, 1.079, 1.092, 1.1, 1.197,...   \n",
      "129845  [0.394, 2.139, 1.065, 0.246, 0.886, 0.828, 0.4...   \n",
      "129872  [1.295, 0.249, 0.751, 0.41, 0.588, 1.021, 1.72...   \n",
      "129940  [1.205, 1.671, 0.656, 1.029, 0.039, 1.724, 0.6...   \n",
      "130048  [1.003, 1.02, 1.018, 1.009, 1.037, 1.027, 1.02...   \n",
      "\n",
      "                                             weightsReint  BDT_score  \n",
      "106     [0.977, 0.932, 1.044, 1.002, 0.966, 0.986, 0.9...   0.509857  \n",
      "160     [0.991, 0.973, 1.016, 1.001, 0.986, 0.994, 0.9...   0.214811  \n",
      "222     [0.969, 0.908, 1.062, 1.003, 0.954, 0.981, 0.9...   0.139473  \n",
      "531     [0.928, 0.801, 1.123, 1.011, 0.886, 0.963, 0.9...   0.145131  \n",
      "532     [1.159, 1.431, 0.964, 0.963, 1.352, 1.027, 0.8...   0.168002  \n",
      "...                                                   ...        ...  \n",
      "129648  [1.0, 1.0, 1.0, 1.0, 1.0, 1.0, 1.0, 1.0, 1.0, ...   0.148130  \n",
      "129845  [1.0, 1.0, 1.0, 1.0, 1.0, 1.0, 1.0, 1.0, 1.0, ...   0.085250  \n",
      "129872  [1.0, 1.0, 1.0, 1.0, 1.0, 1.0, 1.0, 1.0, 1.0, ...   0.319322  \n",
      "129940  [1.0, 1.0, 1.0, 1.0, 1.0, 1.0, 1.0, 1.0, 1.0, ...   0.150978  \n",
      "130048  [1.0, 1.0, 1.0, 1.0, 1.0, 1.0, 1.0, 1.0, 1.0, ...   0.111913  \n",
      "\n",
      "[670 rows x 93 columns], 'ext':                                trk_score_v  shr_tkfit_dedx_Y  \\\n",
      "entry                                                          \n",
      "63               [0.053777374, 0.79063356]          6.793041   \n",
      "195                 [0.0659162, 0.7948261]               NaN   \n",
      "222                  [0.1814596, 0.904488]               NaN   \n",
      "231                [0.17945416, 0.6029276]          2.250519   \n",
      "272              [0.0041559734, 0.6859067]          2.216242   \n",
      "...                                    ...               ...   \n",
      "13219  [0.11143877, 0.9263826, 0.80352074]          4.694794   \n",
      "13250            [0.010002354, 0.75342125]          1.687107   \n",
      "13475       [0.044246826, 0.6804672, -1.0]          6.013981   \n",
      "13557  [0.25156838, 0.99205405, 0.8507338]               NaN   \n",
      "13608               [0.13884807, 0.712718]               NaN   \n",
      "\n",
      "       n_tracks_contained  NeutrinoEnergy2   run  sub   evt  \\\n",
      "entry                                                         \n",
      "63                      1        70.089989  7756    2   150   \n",
      "195                     1       246.926926  5086   36  1834   \n",
      "222                     1        27.845860  5515  115  5784   \n",
      "231                     1        42.384254  5110   55  2762   \n",
      "272                     1       223.933472  5070   24  1210   \n",
      "...                   ...              ...   ...  ...   ...   \n",
      "13219                   2        63.356419  7556   25  1268   \n",
      "13250                   1       223.638214  7398   71  3577   \n",
      "13475                   1        60.031784  6487  140  7013   \n",
      "13557                   2       377.439697  7018   14   727   \n",
      "13608                   1        81.973099  6575   89  4452   \n",
      "\n",
      "       reco_nu_vtx_sce_x  reco_nu_vtx_sce_y  reco_nu_vtx_sce_z  ...  \\\n",
      "entry                                                           ...   \n",
      "63             68.142853          52.457886         431.871338  ...   \n",
      "195           160.122940          71.389000         844.690247  ...   \n",
      "222            18.925676          23.861454         136.604492  ...   \n",
      "231           233.414215         -21.872179         432.021179  ...   \n",
      "272            78.643951          26.467203         844.188171  ...   \n",
      "...                  ...                ...                ...  ...   \n",
      "13219          62.882542          71.813446         881.981750  ...   \n",
      "13250         171.848999          84.696182         825.988281  ...   \n",
      "13475          26.626871         -68.877785         668.594910  ...   \n",
      "13557          92.323807          92.765060         702.544312  ...   \n",
      "13608         167.800629          92.368637         680.637207  ...   \n",
      "\n",
      "       true_nu_py_beam  true_nu_pz_beam  thbeam  phibeam  weightsNuMIGeo  \\\n",
      "entry                                                                      \n",
      "63                 NaN              NaN     NaN      NaN             NaN   \n",
      "195                NaN              NaN     NaN      NaN             NaN   \n",
      "222                NaN              NaN     NaN      NaN             NaN   \n",
      "231                NaN              NaN     NaN      NaN             NaN   \n",
      "272                NaN              NaN     NaN      NaN             NaN   \n",
      "...                ...              ...     ...      ...             ...   \n",
      "13219              NaN              NaN     NaN      NaN             NaN   \n",
      "13250              NaN              NaN     NaN      NaN             NaN   \n",
      "13475              NaN              NaN     NaN      NaN             NaN   \n",
      "13557              NaN              NaN     NaN      NaN             NaN   \n",
      "13608              NaN              NaN     NaN      NaN             NaN   \n",
      "\n",
      "       true_e_visible2  pot_scale  weightsGenieUnisim  totweight_data  \\\n",
      "entry                                                                   \n",
      "63                 NaN   0.561209                 NaN             NaN   \n",
      "195                NaN   0.561209                 NaN             NaN   \n",
      "222                NaN   0.561209                 NaN             NaN   \n",
      "231                NaN   0.561209                 NaN             NaN   \n",
      "272                NaN   0.561209                 NaN             NaN   \n",
      "...                ...        ...                 ...             ...   \n",
      "13219              NaN   0.561209                 NaN             NaN   \n",
      "13250              NaN   0.561209                 NaN             NaN   \n",
      "13475              NaN   0.561209                 NaN             NaN   \n",
      "13557              NaN   0.561209                 NaN             NaN   \n",
      "13608              NaN   0.561209                 NaN             NaN   \n",
      "\n",
      "       BDT_score  \n",
      "entry             \n",
      "63      0.124458  \n",
      "195     0.264338  \n",
      "222     0.113249  \n",
      "231     0.097334  \n",
      "272     0.245287  \n",
      "...          ...  \n",
      "13219   0.086160  \n",
      "13250   0.218804  \n",
      "13475   0.144887  \n",
      "13557   0.121334  \n",
      "13608   0.096504  \n",
      "\n",
      "[259 rows x 92 columns], 'data':                                           trk_score_v  shr_tkfit_dedx_Y  \\\n",
      "entry                                                                     \n",
      "6                [0.0009466654, 0.9058201, 0.9391397]          2.538365   \n",
      "118               [0.61985236, 0.13800766, 0.8866633]          0.764645   \n",
      "200                          [0.08062121, 0.95681036]          2.089572   \n",
      "292    [0.0011473073, 0.96962583, 0.8530964, 0.90249]          2.653570   \n",
      "309               [0.13343535, 0.8439699, 0.78755796]          1.173879   \n",
      "...                                               ...               ...   \n",
      "16282             [0.18417606, 0.7900239, 0.09562967]          2.011333   \n",
      "16316           [0.008087363, 0.94157004, 0.83380795]          4.458733   \n",
      "16487  [0.8338781, 0.06369835, 0.6854695, 0.67969173]          3.189524   \n",
      "16538  [0.697242, 0.012726379, 0.7881931, 0.81417155]          3.983926   \n",
      "16562                         [0.9165979, 0.19075443]          2.079053   \n",
      "\n",
      "       n_tracks_contained  NeutrinoEnergy2   run  sub   evt  \\\n",
      "entry                                                         \n",
      "6                       2       634.492065  5021   10   521   \n",
      "118                     2       246.302399  5208   88  4449   \n",
      "200                     1       241.141479  5339   35  1764   \n",
      "292                     3      1471.717651  5168   24  1211   \n",
      "309                     2        33.441830  5208   99  4971   \n",
      "...                   ...              ...   ...  ...   ...   \n",
      "16282                   1        60.223000  6562  108  5413   \n",
      "16316                   2      1802.564453  5966  120  6036   \n",
      "16487                   3       147.894897  5894   91  4566   \n",
      "16538                   3      2506.037354  5624   36  1841   \n",
      "16562                   1        97.247604  6489  114  5737   \n",
      "\n",
      "       reco_nu_vtx_sce_x  reco_nu_vtx_sce_y  reco_nu_vtx_sce_z  ...  \\\n",
      "entry                                                           ...   \n",
      "6              14.373961         -51.758217         787.151245  ...   \n",
      "118           177.958847          19.505655         451.112579  ...   \n",
      "200           234.152496         -58.830631         922.349487  ...   \n",
      "292           212.046753         -94.044571         151.413773  ...   \n",
      "309           158.752731          76.520439         268.090271  ...   \n",
      "...                  ...                ...                ...  ...   \n",
      "16282          72.128571          61.321770         861.704529  ...   \n",
      "16316         210.836655         -18.904158         915.909851  ...   \n",
      "16487          14.828123          82.950684         783.782104  ...   \n",
      "16538         203.099518         -74.864212         529.453491  ...   \n",
      "16562         127.037697         -59.631817         338.663452  ...   \n",
      "\n",
      "       true_nu_py_beam  true_nu_pz_beam  thbeam  phibeam  weightsNuMIGeo  \\\n",
      "entry                                                                      \n",
      "6                  NaN              NaN     NaN      NaN             NaN   \n",
      "118                NaN              NaN     NaN      NaN             NaN   \n",
      "200                NaN              NaN     NaN      NaN             NaN   \n",
      "292                NaN              NaN     NaN      NaN             NaN   \n",
      "309                NaN              NaN     NaN      NaN             NaN   \n",
      "...                ...              ...     ...      ...             ...   \n",
      "16282              NaN              NaN     NaN      NaN             NaN   \n",
      "16316              NaN              NaN     NaN      NaN             NaN   \n",
      "16487              NaN              NaN     NaN      NaN             NaN   \n",
      "16538              NaN              NaN     NaN      NaN             NaN   \n",
      "16562              NaN              NaN     NaN      NaN             NaN   \n",
      "\n",
      "       true_e_visible2  pot_scale  weightsGenieUnisim  totweight_data  \\\n",
      "entry                                                                   \n",
      "6                  NaN          1                 NaN             NaN   \n",
      "118                NaN          1                 NaN             NaN   \n",
      "200                NaN          1                 NaN             NaN   \n",
      "292                NaN          1                 NaN             NaN   \n",
      "309                NaN          1                 NaN             NaN   \n",
      "...                ...        ...                 ...             ...   \n",
      "16282              NaN          1                 NaN             NaN   \n",
      "16316              NaN          1                 NaN             NaN   \n",
      "16487              NaN          1                 NaN             NaN   \n",
      "16538              NaN          1                 NaN             NaN   \n",
      "16562              NaN          1                 NaN             NaN   \n",
      "\n",
      "       BDT_score  \n",
      "entry             \n",
      "6       0.439984  \n",
      "118     0.201294  \n",
      "200     0.742331  \n",
      "292     0.551778  \n",
      "309     0.085569  \n",
      "...          ...  \n",
      "16282   0.078078  \n",
      "16316   0.507210  \n",
      "16487   0.229486  \n",
      "16538   0.197091  \n",
      "16562   0.324772  \n",
      "\n",
      "[389 rows x 92 columns]}\n"
     ]
    }
   ],
   "source": [
    "print(\"datasets_dict:\", datasets_dict) "
   ]
  },
  {
   "cell_type": "code",
   "execution_count": 53,
   "metadata": {},
   "outputs": [],
   "source": [
    "# PRESELECTION QUERY\n",
    "PRE_SELECTION = (\n",
    "    'swtrig_pre==1 and nslice==1' +\n",
    "    ' and ' + reco_in_fv_query +\n",
    "    ' and contained_fraction>0.9' +\n",
    "    ' and n_showers_contained==1' +\n",
    "    ' and n_tracks_contained>0' +\n",
    "    ' and trk_energy>0.04'\n",
    ")\n",
    "\n",
    "# NUMU REJECTION\n",
    "NUMU_REJECTION = (\n",
    "    'shr_score<0.3' + \n",
    "    ' and trkpid<0.35'\n",
    ")\n",
    "\n",
    "q_options = {\n",
    "    \"pre-selection\": PRE_SELECTION,\n",
    "    \"numu\": PRE_SELECTION + ' and ' + NUMU_REJECTION,\n",
    "    \"bdt train\": BDT_LOOSE_CUTS + ' and -0.9<tksh_angle<0.9 and shr_energy_tot_cali>0.07' \n",
    "    # BDT_LOOSE_CUTS on it's own with datasets_bdt is trained! \n",
    "}\n",
    "\n",
    "if cut_level == \"\":  # Defaults \n",
    "    if name_of_variable == \"BDT Score\":\n",
    "        q = BDT_LOOSE_CUTS\n",
    "    else:\n",
    "        q = BDT_LOOSE_CUTS + ' and BDT_score>' + str(parameters(ISRUN3)['bdt_score_cut'])\n",
    "else:\n",
    "    # Default behavior based on q_options\n",
    "    q = q_options.get(cut_level, PRE_SELECTION)"
   ]
  },
  {
   "cell_type": "code",
   "execution_count": 54,
   "metadata": {},
   "outputs": [
    {
     "data": {
      "text/plain": [
       "'swtrig_pre==1 and nslice==1 and 10<=reco_nu_vtx_sce_x<=246 and -106<=reco_nu_vtx_sce_y<=106 and 10<=reco_nu_vtx_sce_z<=1026 and contained_fraction>0.9 and n_showers_contained==1 and n_tracks_contained>0 and trk_energy>0.04 and shr_score<0.3 and shrmoliereavg<15 and shr_tkfit_dedx_Y<7 and trkpid<0.35 and tksh_distance<12 and BDT_score>0.55'"
      ]
     },
     "execution_count": 54,
     "metadata": {},
     "output_type": "execute_result"
    }
   ],
   "source": [
    "q"
   ]
  },
  {
   "cell_type": "code",
   "execution_count": 55,
   "metadata": {},
   "outputs": [
    {
     "name": "stdout",
     "output_type": "stream",
     "text": [
      "total selected = 71.22455736188456\n"
     ]
    },
    {
     "data": {
      "image/png": "[encoded data removed]",
      "text/plain": [
       "<Figure size 800x500 with 1 Axes>"
      ]
     },
     "metadata": {},
     "output_type": "display_data"
    },
    {
     "data": {
      "text/plain": [
       "[6.502252487625011,\n",
       " 18.39790434401941,\n",
       " 17.045215012213227,\n",
       " 11.629242932898498,\n",
       " 11.222152334197062,\n",
       " 6.427790250931366]"
      ]
     },
     "execution_count": 55,
     "metadata": {},
     "output_type": "execute_result"
    }
   ],
   "source": [
    "# stat only -- SCALES TO DATA\n",
    "\n",
    "full_event_rate = plot_mc(xvar, bins, xlow, xhigh, q, datasets_dict, ISRUN3, \n",
    "            norm='data', save=False, x_ticks=x_ticks,\n",
    "                         x_label=x_label, y_label=y_label)['CV']\n",
    "full_event_rate"
   ]
  },
  {
   "cell_type": "code",
   "execution_count": 56,
   "metadata": {},
   "outputs": [
    {
     "name": "stdout",
     "output_type": "stream",
     "text": [
      "total selected = 71.22455736188456\n"
     ]
    },
    {
     "data": {
      "image/png": "[encoded data removed]",
      "text/plain": [
       "<Figure size 800x500 with 1 Axes>"
      ]
     },
     "metadata": {},
     "output_type": "display_data"
    }
   ],
   "source": [
    "bkgd_event_rate = plot_mc(xvar, bins, xlow, xhigh, q, datasets_dict, ISRUN3, \n",
    "            norm='data', x_label=x_label, save=False, x_ticks=x_ticks)['background_counts']\n"
   ]
  },
  {
   "cell_type": "code",
   "execution_count": 57,
   "metadata": {},
   "outputs": [
    {
     "name": "stdout",
     "output_type": "stream",
     "text": [
      "[2.3308193271598787, 4.013941238664677, 3.3303930601434475, 2.1234668584282144, 1.7303904411056688, 1.8000609026213117]\n"
     ]
    }
   ],
   "source": [
    "print(bkgd_event_rate)"
   ]
  },
  {
   "cell_type": "markdown",
   "metadata": {},
   "source": [
    "### Background subtraction"
   ]
  },
  {
   "cell_type": "code",
   "execution_count": 58,
   "metadata": {},
   "outputs": [],
   "source": [
    "if background_subtraction: # use the estimated signal event rate only \n",
    "    evt_rate = [x-y for x,y in zip(full_event_rate,bkgd_event_rate)]\n",
    "    \n",
    "else: \n",
    "    evt_rate = full_event_rate\n"
   ]
  },
  {
   "cell_type": "code",
   "execution_count": 59,
   "metadata": {},
   "outputs": [
    {
     "name": "stdout",
     "output_type": "stream",
     "text": [
      "[4.171433160465132, 14.38396310535473, 13.71482195206978, 9.505776074470283, 9.491761893091393, 4.627729348310055]\n"
     ]
    }
   ],
   "source": [
    "print(evt_rate)"
   ]
  },
  {
   "cell_type": "markdown",
   "metadata": {},
   "source": [
    "### PPFX"
   ]
  },
  {
   "cell_type": "code",
   "execution_count": 60,
   "metadata": {},
   "outputs": [
    {
     "data": {
      "text/plain": [
       "False"
      ]
     },
     "execution_count": 60,
     "metadata": {},
     "output_type": "execute_result"
    }
   ],
   "source": [
    "ISRUN3"
   ]
  },
  {
   "cell_type": "code",
   "execution_count": 61,
   "metadata": {},
   "outputs": [
    {
     "name": "stdout",
     "output_type": "stream",
     "text": [
      "Implementing background subtraction .... \n"
     ]
    }
   ],
   "source": [
    "ncv_nu, ppfx_variations = plotSysVariations(xvar, true_var, bins, xlow, xhigh, q, datasets_dict, 'weightsPPFX',\n",
    "                                         600,ISRUN3, plot=plot_variations, axis_label='Reco '+x_label, \n",
    "                                         pot=str(beamon_pot)+\" POT\", background_subtraction=background_subtraction)"
   ]
  },
  {
   "cell_type": "code",
   "execution_count": 62,
   "metadata": {},
   "outputs": [
    {
     "name": "stdout",
     "output_type": "stream",
     "text": [
      "number of universes =  600\n"
     ]
    }
   ],
   "source": [
    "ppfx_dict = calcCov(xvar, bins, ncv_nu, evt_rate, ppfx_variations, plot=plot_cov, save=False, \n",
    "                    axis_label='Reco '+x_label, pot=str(beamon_pot)+\" POT\", isrun3=ISRUN3)"
   ]
  },
  {
   "cell_type": "code",
   "execution_count": 63,
   "metadata": {},
   "outputs": [
    {
     "data": {
      "text/plain": [
       "array([0.32883659, 0.24257335, 0.23329759, 0.25576567, 0.23582974,\n",
       "       0.26368235])"
      ]
     },
     "execution_count": 63,
     "metadata": {},
     "output_type": "execute_result"
    }
   ],
   "source": [
    "ppfx_dict['fractional_uncertainty']"
   ]
  },
  {
   "cell_type": "code",
   "execution_count": null,
   "metadata": {},
   "outputs": [],
   "source": []
  },
  {
   "cell_type": "markdown",
   "metadata": {},
   "source": [
    "### Beamline Geometry"
   ]
  },
  {
   "cell_type": "code",
   "execution_count": 64,
   "metadata": {},
   "outputs": [
    {
     "name": "stdout",
     "output_type": "stream",
     "text": [
      "[0, 1]\n",
      "Implementing background subtraction .... \n",
      "number of universes =  2\n",
      "[2, 3]\n",
      "Implementing background subtraction .... \n",
      "number of universes =  2\n",
      "[4, 5]\n",
      "Implementing background subtraction .... \n",
      "number of universes =  2\n",
      "[6, 7]\n",
      "Implementing background subtraction .... \n",
      "number of universes =  2\n",
      "[8, 9]\n",
      "Implementing background subtraction .... \n",
      "number of universes =  2\n",
      "[10, 11]\n",
      "Implementing background subtraction .... \n",
      "number of universes =  2\n",
      "[12, 13]\n",
      "Implementing background subtraction .... \n",
      "number of universes =  2\n",
      "[14, 15]\n",
      "Implementing background subtraction .... \n",
      "number of universes =  2\n",
      "[16, 17]\n",
      "Implementing background subtraction .... \n",
      "number of universes =  2\n",
      "[18, 19]\n",
      "Implementing background subtraction .... \n",
      "number of universes =  2\n"
     ]
    }
   ],
   "source": [
    "# ordered by beamline variation run number\n",
    "# [+1sigma run #, -1sigma run #]\n",
    "\n",
    "beamline_variations = []\n",
    "\n",
    "beamline_runs = {\n",
    "    'HornCurrent' : [1, 2], \n",
    "    'xHorn1' : [3, 4], \n",
    "    'yHorn1' : [5, 6], \n",
    "    'BeamSpotSize' : [7, 8], \n",
    "    'xHorn2' : [9, 10], \n",
    "    'yHorn2' : [11, 12], \n",
    "    'WaterOnHorns' : [13, 14], \n",
    "    'xBeamShift' : [15, 16], \n",
    "    'yBeamShift' : [17, 18], \n",
    "    'zTargetPosition' : [19, 20]    \n",
    "}\n",
    "\n",
    "beamline_cov = {}\n",
    "\n",
    "# index in weightsNuMIGeo are offset by -1\n",
    "\n",
    "for variation in beamline_runs.keys(): \n",
    "    \n",
    "    idx = [i-1 for i in beamline_runs[variation]]\n",
    "    print(idx)\n",
    "    \n",
    "    ncv_nu, variations = plotSysVariations(xvar, true_var, bins, xlow, xhigh, q, datasets_dict, 'weightsNuMIGeo', \n",
    "                                                 idx, ISRUN3, plot=plot_variations, \n",
    "                                                 axis_label='Reco '+x_label, pot=str(beamon_pot)+\" POT\", \n",
    "                                                  background_subtraction=background_subtraction, title=variation)\n",
    "    \n",
    "    beamline_variations.append([list(a) for a in variations])\n",
    "    \n",
    "    # calc covariance \n",
    "    beamline_cov[variation] = calcCov(xvar, bins, ncv_nu, evt_rate, \n",
    "                                      variations, plot=plot_cov, save=False, \n",
    "                    axis_label='Reco '+x_label, pot=str(beamon_pot)+\" POT\", isrun3=ISRUN3)\n",
    "    \n",
    "\n"
   ]
  },
  {
   "cell_type": "code",
   "execution_count": 65,
   "metadata": {},
   "outputs": [
    {
     "data": {
      "text/plain": [
       "array([0.03043864, 0.03512438, 0.03260633, 0.03668955, 0.057833  ,\n",
       "       0.05656093])"
      ]
     },
     "execution_count": 65,
     "metadata": {},
     "output_type": "execute_result"
    }
   ],
   "source": [
    "# compute total covariance, correlation, & uncertainty \n",
    "\n",
    "cov = [ [0]*(len(bins)-1) for x in range(len(bins)-1) ]\n",
    "frac_cov = [ [0]*(len(bins)-1) for x in range(len(bins)-1) ]\n",
    "cor = [ [0]*(len(bins)-1) for x in range(len(bins)-1) ]\n",
    "\n",
    "for variation in beamline_cov.keys(): \n",
    "    \n",
    "    for i in range(len(bins)-1): \n",
    "        for j in range(len(bins)-1):\n",
    "            \n",
    "            cov[i][j] += beamline_cov[variation]['cov'][i][j]\n",
    "            frac_cov[i][j] += beamline_cov[variation]['frac_cov'][i][j] \n",
    "\n",
    "            \n",
    "for i in range(len(bins)-1): \n",
    "    for j in range(len(bins)-1):\n",
    "        \n",
    "        if np.sqrt(cov[i][i])*np.sqrt(cov[j][j]) != 0: \n",
    "                cor[i][j] = cov[i][j] / (np.sqrt(cov[i][i])*np.sqrt(cov[j][j]))\n",
    "            \n",
    "beamline_dict = {\n",
    "    'cov' : cov, \n",
    "    'frac_cov' : frac_cov,\n",
    "    'cor' : cor,\n",
    "    'fractional_uncertainty' : np.sqrt(np.diag(frac_cov))\n",
    "} \n",
    "\n",
    "beamline_dict['fractional_uncertainty']"
   ]
  },
  {
   "cell_type": "code",
   "execution_count": null,
   "metadata": {},
   "outputs": [],
   "source": []
  },
  {
   "cell_type": "markdown",
   "metadata": {},
   "source": [
    "### GENIE multisims"
   ]
  },
  {
   "cell_type": "code",
   "execution_count": null,
   "metadata": {},
   "outputs": [],
   "source": []
  },
  {
   "cell_type": "code",
   "execution_count": 66,
   "metadata": {},
   "outputs": [
    {
     "name": "stdout",
     "output_type": "stream",
     "text": [
      "Implementing background subtraction .... \n",
      "Adding pot_scale column using dirt & EXT tune....\n",
      "TOTAL CV GENERATED SIGNAL EVENTS (TRUE) =  [37.38995279317464, 99.80981090014366, 86.4593379915033, 64.4000072570546, 66.41697559589346, 53.220929881038956]\n"
     ]
    },
    {
     "data": {
      "image/png": "[encoded data removed]",
      "text/plain": [
       "<Figure size 800x500 with 1 Axes>"
      ]
     },
     "metadata": {},
     "output_type": "display_data"
    }
   ],
   "source": [
    "ncv_nu, genie_variations = plotSysVariations(xvar, true_var, bins, xlow, xhigh, q, datasets_dict, 'weightsGenie', 600, \n",
    "                                         ISRUN3, plot=True, axis_label='Reco '+x_label, \n",
    "                                          pot=str(beamon_pot)+\" POT\", \n",
    "                                              background_subtraction=background_subtraction)"
   ]
  },
  {
   "cell_type": "code",
   "execution_count": 67,
   "metadata": {},
   "outputs": [
    {
     "name": "stdout",
     "output_type": "stream",
     "text": [
      "number of universes =  600\n"
     ]
    }
   ],
   "source": [
    "genie_dict = calcCov(xvar, bins, ncv_nu, evt_rate, genie_variations, plot=plot_cov, save=False, \n",
    "                    axis_label='Reco '+x_label, pot=str(beamon_pot)+\" POT\", isrun3=ISRUN3)"
   ]
  },
  {
   "cell_type": "code",
   "execution_count": 68,
   "metadata": {},
   "outputs": [
    {
     "data": {
      "text/plain": [
       "array([0.12834669, 0.06589309, 0.05385348, 0.03852199, 0.06824858,\n",
       "       0.07247241])"
      ]
     },
     "execution_count": 68,
     "metadata": {},
     "output_type": "execute_result"
    }
   ],
   "source": [
    "genie_dict['fractional_uncertainty']"
   ]
  },
  {
   "cell_type": "markdown",
   "metadata": {},
   "source": [
    "### GENIE unisims "
   ]
  },
  {
   "cell_type": "code",
   "execution_count": 69,
   "metadata": {},
   "outputs": [
    {
     "name": "stdout",
     "output_type": "stream",
     "text": [
      "Implementing background subtraction .... \n",
      "Adding pot_scale column using dirt & EXT tune....\n",
      "45756.42923687927\n",
      "44913.46255116047\n",
      "number of universes =  2\n",
      "Implementing background subtraction .... \n",
      "Adding pot_scale column using dirt & EXT tune....\n",
      "45334.721682743744\n",
      "number of universes =  1\n",
      "Implementing background subtraction .... \n",
      "Adding pot_scale column using dirt & EXT tune....\n",
      "45324.58491543919\n",
      "number of universes =  1\n",
      "Implementing background subtraction .... \n",
      "Adding pot_scale column using dirt & EXT tune....\n",
      "45265.04215317032\n",
      "number of universes =  1\n",
      "Implementing background subtraction .... \n",
      "Adding pot_scale column using dirt & EXT tune....\n",
      "45165.87844056617\n",
      "number of universes =  1\n",
      "Implementing background subtraction .... \n",
      "Adding pot_scale column using dirt & EXT tune....\n",
      "46160.151847704\n",
      "number of universes =  1\n",
      "Implementing background subtraction .... \n",
      "Adding pot_scale column using dirt & EXT tune....\n",
      "45334.721682743744\n",
      "number of universes =  1\n",
      "Implementing background subtraction .... \n",
      "Adding pot_scale column using dirt & EXT tune....\n",
      "45334.721682743744\n",
      "number of universes =  1\n",
      "Implementing background subtraction .... \n",
      "Adding pot_scale column using dirt & EXT tune....\n",
      "45334.721682743744\n",
      "number of universes =  1\n",
      "Implementing background subtraction .... \n",
      "Adding pot_scale column using dirt & EXT tune....\n",
      "36990.99364237782\n",
      "number of universes =  1\n",
      "Implementing background subtraction .... \n",
      "Adding pot_scale column using dirt & EXT tune....\n",
      "36995.23398211075\n",
      "number of universes =  1\n"
     ]
    }
   ],
   "source": [
    "\n",
    "# divide the tune weight out of everything except SCC variations\n",
    "# don't divide the tune weight out of SCC variations \n",
    "\n",
    "genie_unisim_variations = ['RPA', \n",
    "                           'CCMEC', 'AxFFCCQE', 'VecFFCCQE', 'DecayAngMEC', 'ThetaDelta2Npi', 'ThetaDelta2NRad', \n",
    "                          'NormCCCOH', 'NormNCCOH', \n",
    "                          'xsr_scc_Fv3', 'xsr_scc_Fa3']\n",
    "\n",
    "\n",
    "genie_unisim_cov = {}\n",
    "\n",
    "genie_us_variations = []\n",
    "\n",
    "for knob in genie_unisim_variations: \n",
    "    \n",
    "    if knob == 'RPA': \n",
    "        idx = [sys_genie[2:].index('knobRPAup'), sys_genie[2:].index('knobRPAdn')]\n",
    "    \n",
    "    else: \n",
    "        idx = [sys_genie[2:].index('knob'+knob+'up')]\n",
    "    \n",
    "    ncv_nu, variations = plotSysVariations(xvar, true_var, bins, xlow, xhigh, q, datasets_dict, 'weightsGenieUnisim', \n",
    "                                        idx, ISRUN3, plot=plot_variations, axis_label='Reco '+x_label, \n",
    "                                        pot=str(beamon_pot)+\" POT\", \n",
    "                                        background_subtraction=background_subtraction, title=knob)\n",
    "    \n",
    "    genie_us_variations.append([list(a) for a in variations])\n",
    "    \n",
    "    # calc covariance \n",
    "    genie_unisim_cov[knob] = calcCov(xvar, bins, ncv_nu, evt_rate, variations, plot=plot_cov, save=False, \n",
    "                    axis_label='Reco '+x_label, pot=str(beamon_pot)+\" POT\", isrun3=ISRUN3)\n",
    "    "
   ]
  },
  {
   "cell_type": "code",
   "execution_count": 70,
   "metadata": {},
   "outputs": [
    {
     "data": {
      "text/plain": [
       "array([0.2336922 , 0.07495237, 0.02397763, 0.03425169, 0.01462482,\n",
       "       0.05346048])"
      ]
     },
     "execution_count": 70,
     "metadata": {},
     "output_type": "execute_result"
    }
   ],
   "source": [
    "# compute total covariance, correlation, & uncertainty \n",
    "\n",
    "cov = [ [0]*(len(bins)-1) for x in range(len(bins)-1) ]\n",
    "frac_cov = [ [0]*(len(bins)-1) for x in range(len(bins)-1) ]\n",
    "cor = [ [0]*(len(bins)-1) for x in range(len(bins)-1) ]\n",
    "\n",
    "for variation in genie_unisim_cov.keys(): \n",
    "    \n",
    "    for i in range(len(bins)-1): \n",
    "        for j in range(len(bins)-1):\n",
    "            \n",
    "            cov[i][j] += genie_unisim_cov[variation]['cov'][i][j]\n",
    "            frac_cov[i][j] += genie_unisim_cov[variation]['frac_cov'][i][j] \n",
    "\n",
    "            \n",
    "for i in range(len(bins)-1): \n",
    "    for j in range(len(bins)-1):\n",
    "        \n",
    "        if np.sqrt(cov[i][i])*np.sqrt(cov[j][j]) != 0: \n",
    "                cor[i][j] = cov[i][j] / (np.sqrt(cov[i][i])*np.sqrt(cov[j][j]))\n",
    "        \n",
    "            \n",
    "genie_unisim_dict = {\n",
    "    'cov' : cov, \n",
    "    'frac_cov' : frac_cov,\n",
    "    'cor' : cor,\n",
    "    'fractional_uncertainty' : np.sqrt(np.diag(frac_cov))\n",
    "} \n",
    "\n",
    "genie_unisim_dict['fractional_uncertainty']"
   ]
  },
  {
   "cell_type": "markdown",
   "metadata": {},
   "source": [
    "### GEANT4 "
   ]
  },
  {
   "cell_type": "code",
   "execution_count": 71,
   "metadata": {},
   "outputs": [
    {
     "name": "stdout",
     "output_type": "stream",
     "text": [
      "Implementing background subtraction .... \n"
     ]
    }
   ],
   "source": [
    "ncv_nu, geant4_variations = plotSysVariations(xvar, true_var, bins, xlow, xhigh, q, datasets_dict, 'weightsReint', 1000, \n",
    "                                         ISRUN3, plot=plot_variations, axis_label='Reco '+x_label, pot=str(beamon_pot)+\" POT\", \n",
    "                                              background_subtraction=background_subtraction)\n",
    "\n"
   ]
  },
  {
   "cell_type": "code",
   "execution_count": 72,
   "metadata": {},
   "outputs": [
    {
     "name": "stdout",
     "output_type": "stream",
     "text": [
      "number of universes =  1000\n"
     ]
    }
   ],
   "source": [
    "geant4_dict = calcCov(xvar, bins, ncv_nu, evt_rate, geant4_variations, plot=plot_cov, save=False, \n",
    "                    axis_label='Reco '+x_label, pot=str(beamon_pot)+\" POT\", isrun3=ISRUN3)"
   ]
  },
  {
   "cell_type": "code",
   "execution_count": 73,
   "metadata": {},
   "outputs": [
    {
     "data": {
      "text/plain": [
       "array([0.03832045, 0.02056306, 0.01414969, 0.01110995, 0.02098012,\n",
       "       0.02750094])"
      ]
     },
     "execution_count": 73,
     "metadata": {},
     "output_type": "execute_result"
    }
   ],
   "source": [
    "geant4_dict['fractional_uncertainty']"
   ]
  },
  {
   "cell_type": "code",
   "execution_count": null,
   "metadata": {},
   "outputs": [],
   "source": []
  },
  {
   "cell_type": "markdown",
   "metadata": {},
   "source": [
    "### Detector Systematics"
   ]
  },
  {
   "cell_type": "markdown",
   "metadata": {},
   "source": [
    "#### Create ROOT file with BDT-selected detector variations "
   ]
  },
  {
   "cell_type": "code",
   "execution_count": 74,
   "metadata": {},
   "outputs": [],
   "source": [
    "detsys_flat = True\n",
    "recreate_file = False\n",
    "\n",
    "#detvar_file = \"NuMI_RHC_BDTscore_BDTCut_DetVar_MAY2023.root\" "
   ]
  },
  {
   "cell_type": "code",
   "execution_count": 75,
   "metadata": {},
   "outputs": [
    {
     "data": {
      "text/plain": [
       "False"
      ]
     },
     "execution_count": 75,
     "metadata": {},
     "output_type": "execute_result"
    }
   ],
   "source": [
    "ISRUN3"
   ]
  },
  {
   "cell_type": "code",
   "execution_count": 76,
   "metadata": {},
   "outputs": [],
   "source": [
    "if not detsys_flat: \n",
    "\n",
    "    if ISRUN3: \n",
    "        detvar = detvar_run3_rhc.keys()\n",
    "\n",
    "    else: \n",
    "        detvar = detvar_run1_fhc.keys()\n",
    "        \n",
    "    # skip this step if it is already created\n",
    "    # should manually delete the file first \n",
    "    # (located here: /uboone/data/users/kmiller/uBNuMI_CCNp/ntuples/runX/systematics/detvar/)\n",
    "\n",
    "    # scales to the det sys CV POT (standard overlay)\n",
    "\n",
    "    if recreate_file: \n",
    "        for v in list(detvar): \n",
    "            NuMIDetSysWeights.makehist_detsys(v, ISRUN3, detvar_file, xvar, bins, cut=q, useBDT=True, \n",
    "                                             background_subtraction=background_subtraction)\n",
    "            \n",
    "        detector_variations = NuMIDetSysWeights.plot_variations(xvar, bins, \n",
    "                                                            detvar_file,  \n",
    "                                                            ISRUN3, axis_label=x_label, \n",
    "                                                            plot=True, background_subtraction=background_subtraction)\n"
   ]
  },
  {
   "cell_type": "code",
   "execution_count": null,
   "metadata": {},
   "outputs": [],
   "source": []
  },
  {
   "cell_type": "code",
   "execution_count": 77,
   "metadata": {},
   "outputs": [],
   "source": [
    "# compute total covariance, correlation, & uncertainty \n",
    "\n",
    "cov = [ [0]*(len(bins)-1) for x in range(len(bins)-1) ]\n",
    "frac_cov = [ [0]*(len(bins)-1) for x in range(len(bins)-1) ]\n",
    "cor = [ [0]*(len(bins)-1) for x in range(len(bins)-1) ]\n",
    "\n",
    "detsys_dict = {}"
   ]
  },
  {
   "cell_type": "code",
   "execution_count": 78,
   "metadata": {},
   "outputs": [],
   "source": [
    "# compute covariance (N=1 for each variation)\n",
    "# detvar are scaled to beam on POT at this point\n",
    "\n",
    "if not detsys_flat:\n",
    "\n",
    "    detsys_cov = {}\n",
    "\n",
    "    for variation in detector_variations.keys(): \n",
    "\n",
    "        if variation=='CV': \n",
    "            continue\n",
    "\n",
    "        # calc covariance for each unisim \n",
    "        detsys_cov[variation] = calcCov(xvar, bins, detector_variations['CV'], detector_variations['CV'], \n",
    "                                        [detector_variations[variation]], \n",
    "                                        plot=False, save=False, axis_label='Reco '+x_label, pot=str(beamon_pot)+\" POT\", \n",
    "                                        isrun3=ISRUN3)\n",
    "        \n",
    "    for i in range(len(bins)-1): \n",
    "        for j in range(len(bins)-1):\n",
    "            \n",
    "            cov[i][j] = sum([detsys_cov[x]['cov'][i][j] for x in detsys_cov.keys()])\n",
    "            frac_cov[i][j] = sum([detsys_cov[x]['frac_cov'][i][j] for x in detsys_cov.keys()])\n",
    "\n",
    "    for i in range(len(bins)-1): \n",
    "        for j in range(len(bins)-1):\n",
    "\n",
    "            if np.sqrt(cov[i][i])*np.sqrt(cov[j][j]) != 0: \n",
    "                    cor[i][j] = cov[i][j] / (np.sqrt(cov[i][i])*np.sqrt(cov[j][j]))\n",
    "\n",
    "    detsys_dict['cov'] = cov\n",
    "    detsys_dict['frac_cov'] = frac_cov\n",
    "    detsys_dict['cor'] = cor\n",
    "    detsys_dict['fractional_uncertainty'] = np.sqrt(np.diag(frac_cov))\n"
   ]
  },
  {
   "cell_type": "code",
   "execution_count": 79,
   "metadata": {},
   "outputs": [
    {
     "name": "stdout",
     "output_type": "stream",
     "text": [
      "[0.122, 0.122, 0.122, 0.122, 0.122, 0.122]\n"
     ]
    }
   ],
   "source": [
    "if detsys_flat:\n",
    "    \n",
    "    detsys_dict['fractional_uncertainty'] = []\n",
    "    \n",
    "    for i in range(len(bins)-1): \n",
    "        \n",
    "        if evt_rate[i] != 0: \n",
    "            detsys_dict['fractional_uncertainty'].append(parameters(ISRUN3)['detsys_flat'])\n",
    "            frac_cov[i][i] = parameters(ISRUN3)['detsys_flat']**2\n",
    "        else: \n",
    "            detsys_dict['fractional_uncertainty'].append(0)\n",
    "            \n",
    "                \n",
    "    \n",
    "    print((detsys_dict['fractional_uncertainty']))\n",
    "    \n",
    "    \n",
    "            \n",
    "            "
   ]
  },
  {
   "cell_type": "code",
   "execution_count": 80,
   "metadata": {},
   "outputs": [],
   "source": [
    "detsys_dict['frac_cov'] = frac_cov"
   ]
  },
  {
   "cell_type": "code",
   "execution_count": null,
   "metadata": {},
   "outputs": [],
   "source": []
  },
  {
   "cell_type": "markdown",
   "metadata": {},
   "source": [
    "### Stat Uncertainty of the MC event count "
   ]
  },
  {
   "cell_type": "code",
   "execution_count": 81,
   "metadata": {},
   "outputs": [],
   "source": [
    "# sum of the weights squared\n",
    "\n",
    "mc_stat_cov = [ [0]*(len(bins)-1) for x in range(len(bins)-1) ]\n",
    "mc_frac_stat_cov = [ [0]*(len(bins)-1) for x in range(len(bins)-1) ]\n",
    "\n",
    "# also save sumw2 of the estimated signal and neutrino background\n",
    "mc_signal_sumw2 = []\n",
    "mc_bkgd_sumw2 = []\n"
   ]
  },
  {
   "cell_type": "code",
   "execution_count": 82,
   "metadata": {},
   "outputs": [],
   "source": [
    "# for data/mc comparisons\n",
    "if background_subtraction==False: \n",
    "    \n",
    "    # stat uncertainty for MC - signal + background \n",
    "    ncv = pd.concat([datasets_dict['infv'].copy().query(q), \n",
    "                             datasets_dict['outfv'].copy().query(q)], ignore_index=True)  \n",
    "\n",
    "if background_subtraction==True: \n",
    "\n",
    "    if isData==True: \n",
    "        ncv = pd.concat([datasets_dict['infv'].copy().query(q+' and is_signal==False'), \n",
    "                                         datasets_dict['outfv'].copy().query(q+' and is_signal==False')], \n",
    "                                ignore_index=True) \n",
    "\n",
    "    # GENIE closure test: take sum of weights squared for the full event count \n",
    "    else: \n",
    "        ncv = pd.concat([datasets_dict['infv'].copy().query(q), \n",
    "                             datasets_dict['outfv'].copy().query(q)], ignore_index=True) \n"
   ]
  },
  {
   "cell_type": "code",
   "execution_count": 83,
   "metadata": {},
   "outputs": [
    {
     "data": {
      "text/plain": [
       "array([0.12936404, 0.05116709, 0.02821116, 0.03259494, 0.02557086,\n",
       "       0.06574572])"
      ]
     },
     "execution_count": 83,
     "metadata": {},
     "output_type": "execute_result"
    }
   ],
   "source": [
    "for i in range(len(bins)-1):\n",
    "\n",
    "    if i==len(bins)-2: \n",
    "        bin_query = xvar+'>='+str(bins[i])+' and '+xvar+'<='+str(bins[i+1])\n",
    "    else: \n",
    "        bin_query = xvar+'>='+str(bins[i])+' and '+xvar+'<'+str(bins[i+1])\n",
    "        \n",
    "    mc_stat_cov[i][i] = sum(ncv.query(bin_query).totweight_data ** 2) \n",
    "    \n",
    "    mc_signal_sumw2.append(sum(datasets_dict['infv'].copy().query(q+' and is_signal==True and '+bin_query).totweight_data ** 2) )\n",
    "    mc_bkgd_sumw2.append( sum(pd.concat([datasets_dict['infv'].copy().query(q), \n",
    "                                        datasets_dict['outfv'].copy().query(q)], ignore_index=True).query(\"is_signal==False and \"+bin_query).totweight_data **2 ))\n",
    "\n",
    "    if mc_stat_cov[i][i] != 0: \n",
    "        mc_frac_stat_cov[i][i] = mc_stat_cov[i][i]/ evt_rate[i]**2 \n",
    "    \n",
    "    bin_query = ''\n",
    "    \n",
    "mc_stat_percent_error = np.sqrt(np.diag(mc_frac_stat_cov))\n",
    "mc_stat_percent_error"
   ]
  },
  {
   "cell_type": "code",
   "execution_count": null,
   "metadata": {},
   "outputs": [],
   "source": []
  },
  {
   "cell_type": "code",
   "execution_count": 84,
   "metadata": {},
   "outputs": [],
   "source": [
    "if plot_cov: \n",
    "    fig = plt.figure(figsize=(10, 6))\n",
    "        \n",
    "    plt.pcolor(bins, bins, mc_stat_cov, cmap='OrRd', edgecolors='k' )\n",
    "\n",
    "    cbar = plt.colorbar()\n",
    "    cbar.ax.tick_params(labelsize=14)\n",
    "\n",
    "    plt.xticks(fontsize=14)\n",
    "    plt.yticks(fontsize=14)\n",
    "\n",
    "    plt.xlabel(\"Reco \"+x_label, fontsize=15)\n",
    "    plt.ylabel(\"Reco \"+x_label, fontsize=15)\n",
    "\n",
    "    plt.title('MC Statistical Covariance', fontsize=15)\n",
    "\n",
    "    plt.show()\n",
    "    \n",
    "    fig = plt.figure(figsize=(10, 6))\n",
    "        \n",
    "    plt.pcolor(bins, bins, mc_frac_stat_cov, cmap='OrRd', edgecolors='k' )\n",
    "\n",
    "    cbar = plt.colorbar()\n",
    "    cbar.ax.tick_params(labelsize=14)\n",
    "\n",
    "    plt.xticks(fontsize=14)\n",
    "    plt.yticks(fontsize=14)\n",
    "\n",
    "    plt.xlabel(\"Reco \"+x_label, fontsize=15)\n",
    "    plt.ylabel(\"Reco \"+x_label, fontsize=15)\n",
    "\n",
    "    plt.title('MC Fractional Statistical Covariance', fontsize=15)\n",
    "\n",
    "    plt.show()\n"
   ]
  },
  {
   "cell_type": "code",
   "execution_count": null,
   "metadata": {},
   "outputs": [],
   "source": []
  },
  {
   "cell_type": "markdown",
   "metadata": {},
   "source": [
    "### Stat Uncertainty Beam On & EXT"
   ]
  },
  {
   "cell_type": "code",
   "execution_count": 85,
   "metadata": {},
   "outputs": [],
   "source": [
    "# EXT uses sum of the weights squared \n",
    "selected_ext = datasets_dict['ext'].copy().query(q)"
   ]
  },
  {
   "cell_type": "code",
   "execution_count": 86,
   "metadata": {},
   "outputs": [
    {
     "data": {
      "text/plain": [
       "array([0.        , 0.        , 0.04091987, 0.        , 0.        ,\n",
       "       0.        ])"
      ]
     },
     "execution_count": 86,
     "metadata": {},
     "output_type": "execute_result"
    }
   ],
   "source": [
    "ext_stat_cov = [ [0]*(len(bins)-1) for x in range(len(bins)-1) ]\n",
    "ext_frac_stat_cov = [ [0]*(len(bins)-1) for x in range(len(bins)-1) ]\n",
    "    \n",
    "for i in range(len(bins)-1):\n",
    "\n",
    "    if i==len(bins)-2: \n",
    "        bin_query = xvar+' >= '+str(bins[i])+' and '+xvar+' <= '+str(bins[i+1])\n",
    "    else: \n",
    "        bin_query = xvar+' >= '+str(bins[i])+' and '+xvar+' < '+str(bins[i+1])\n",
    "        \n",
    "    ext_stat_cov[i][i] = sum(selected_ext.query(bin_query).pot_scale ** 2) \n",
    "    \n",
    "    if ext_stat_cov[i][i] != 0: \n",
    "        ext_frac_stat_cov[i][i] = ext_stat_cov[i][i]/ evt_rate[i]**2 \n",
    "    \n",
    "    bin_query = ''\n",
    "    \n",
    "ext_stat_percent_error = np.sqrt(np.diag(ext_frac_stat_cov))\n",
    "ext_stat_percent_error"
   ]
  },
  {
   "cell_type": "code",
   "execution_count": 87,
   "metadata": {},
   "outputs": [],
   "source": [
    "ext_sumw2 = np.diagonal(ext_stat_cov)"
   ]
  },
  {
   "cell_type": "code",
   "execution_count": 88,
   "metadata": {},
   "outputs": [],
   "source": [
    "cv_ext = plt.hist(selected_ext[xvar], bins, range=[bins[0], bins[-1]],\n",
    "         weights=selected_ext.pot_scale, color='gainsboro')[0]\n",
    "\n",
    "plt.close()"
   ]
  },
  {
   "cell_type": "code",
   "execution_count": 89,
   "metadata": {},
   "outputs": [
    {
     "data": {
      "image/png": "[encoded data removed]",
      "text/plain": [
       "<Figure size 640x480 with 1 Axes>"
      ]
     },
     "metadata": {},
     "output_type": "display_data"
    },
    {
     "name": "stdout",
     "output_type": "stream",
     "text": [
      "48.670928171876795\n"
     ]
    }
   ],
   "source": [
    "beamon_frac_stat_cov = [ [0]*(len(bins)-1) for x in range(len(bins)-1) ]\n",
    "    \n",
    "selected_data_counts = plt.hist(datasets_dict['data'].query(q)[xvar], bins, range=[bins[0], bins[-1]])[0]\n",
    "plt.xlim(xlow,xhigh)\n",
    "plt.show()\n",
    "    \n",
    "if background_subtraction==True: \n",
    "    selected_data_counts = [a-b for a,b in zip(selected_data_counts,bkgd_event_rate)]\n",
    "    \n",
    "print(sum(selected_data_counts))\n",
    "    \n",
    "for i in range(len(bins)-1): \n",
    "    \n",
    "    if selected_data_counts[i] != 0: \n",
    "        beamon_frac_stat_cov[i][i] = selected_data_counts[i]/(selected_data_counts[i]**2)\n",
    "\n",
    "beamon_stat_percent_error = np.sqrt(np.diag(beamon_frac_stat_cov))\n"
   ]
  },
  {
   "cell_type": "code",
   "execution_count": null,
   "metadata": {},
   "outputs": [],
   "source": []
  },
  {
   "cell_type": "markdown",
   "metadata": {},
   "source": [
    "### MC Response Matrix "
   ]
  },
  {
   "cell_type": "code",
   "execution_count": 90,
   "metadata": {},
   "outputs": [],
   "source": [
    "# for the signal channel ONLY \n",
    "\n",
    "if background_subtraction: \n",
    "\n",
    "    selected_signal_df = datasets_dict['infv'].query(selected_signal_query).copy()\n",
    "    selected_signal_df['seed'] = selected_signal_df.apply( lambda x: ConcatRunSubRunEvent(x['run'], x['sub'], x['evt']), axis=1 )\n",
    "    selected_signal_df['weightsPoisson'] = selected_signal_df.apply( lambda x: PoissonRandomNumber(x['seed'], mean=1.0, size=1000), axis=1 )\n"
   ]
  },
  {
   "cell_type": "markdown",
   "metadata": {},
   "source": [
    "#### Energy of least energetic electron"
   ]
  },
  {
   "cell_type": "code",
   "execution_count": 91,
   "metadata": {},
   "outputs": [
    {
     "name": "stdout",
     "output_type": "stream",
     "text": [
      "0.042283963\n"
     ]
    }
   ],
   "source": [
    "if background_subtraction:\n",
    "    print(selected_signal_df[\"shr_energy_cali\"].min())"
   ]
  },
  {
   "cell_type": "code",
   "execution_count": 92,
   "metadata": {},
   "outputs": [
    {
     "data": {
      "image/png": "[encoded data removed]",
      "text/plain": [
       "<Figure size 800x500 with 1 Axes>"
      ]
     },
     "metadata": {},
     "output_type": "display_data"
    }
   ],
   "source": [
    "if background_subtraction: \n",
    "\n",
    "    fig = plt.figure(figsize=(8, 5))\n",
    "\n",
    "    # histogram bin counts for all universes\n",
    "    rmatrix_uni_counts = []\n",
    "\n",
    "    for u in range(1000): \n",
    "\n",
    "        # multiply in with sys weight of universe u \n",
    "        sys_weight = list(selected_signal_df['weightsPoisson'].str.get(u))\n",
    "        total_weight = [ x*y for x, y in zip(sys_weight, selected_signal_df['totweight_data']) ]\n",
    "\n",
    "        n, b, p = plt.hist(selected_signal_df[xvar], bins, histtype='step', weights=total_weight, \n",
    "                                linewidth=0.5, color='cornflowerblue')  \n",
    "\n",
    "        rmatrix_uni_counts.append(list(n))\n",
    "\n",
    "    ncv, bcv, pcv = plt.hist(selected_signal_df[xvar], bins, histtype='step', \n",
    "                             weights=selected_signal_df['totweight_data'], linewidth=2, color='black')      \n",
    "\n",
    "    plt.xticks(x_ticks, fontsize=14)\n",
    "    plt.yticks(fontsize=14)\n",
    "    \n",
    "    plt.xlim(xlow, xhigh)\n",
    "\n",
    "    plt.xlabel('Reco '+x_label, fontsize=15)\n",
    "    plt.ylabel(\"\", fontsize=15)\n",
    "\n",
    "    plt.title('weightsPoisson', fontsize=16)    \n",
    "\n",
    "\n",
    "    plt.show()"
   ]
  },
  {
   "cell_type": "code",
   "execution_count": 93,
   "metadata": {},
   "outputs": [
    {
     "name": "stdout",
     "output_type": "stream",
     "text": [
      "number of universes =  1000\n"
     ]
    }
   ],
   "source": [
    "if background_subtraction: \n",
    "    response_matrix_uncertainty = calcCov(xvar, bins, ncv, evt_rate, rmatrix_uni_counts, isrun3=ISRUN3, plot=False, \n",
    "                   save=False, axis_label='Reco '+x_label, pot=parameters(ISRUN3)['beamon_pot'])\n",
    "    \n",
    "    response_matrix_uncertainty['fractional_uncertainty']\n"
   ]
  },
  {
   "cell_type": "markdown",
   "metadata": {},
   "source": [
    "### POT Counting (2%)"
   ]
  },
  {
   "cell_type": "code",
   "execution_count": 94,
   "metadata": {},
   "outputs": [
    {
     "data": {
      "text/plain": [
       "2e+20"
      ]
     },
     "execution_count": 94,
     "metadata": {},
     "output_type": "execute_result"
    }
   ],
   "source": [
    "parameters(ISRUN3)['beamon_pot'] "
   ]
  },
  {
   "cell_type": "code",
   "execution_count": 95,
   "metadata": {},
   "outputs": [
    {
     "name": "stdout",
     "output_type": "stream",
     "text": [
      "number of universes =  2\n"
     ]
    }
   ],
   "source": [
    "pot_counting = pot_unisims(xvar, evt_rate, bins, 0.02, ISRUN3, plot=plot_variations, x_label=None)"
   ]
  },
  {
   "cell_type": "markdown",
   "metadata": {},
   "source": [
    "### Dirt (100%)  "
   ]
  },
  {
   "cell_type": "code",
   "execution_count": 96,
   "metadata": {},
   "outputs": [
    {
     "data": {
      "image/png": "[encoded data removed]",
      "text/plain": [
       "<Figure size 640x480 with 1 Axes>"
      ]
     },
     "metadata": {},
     "output_type": "display_data"
    }
   ],
   "source": [
    "# selected dirt uncertainty \n",
    "# vary the dirt interactions by 100% (1 unisim) on the event rate \n",
    "\n",
    "selected_dirt = plt.hist(datasets_dict['outfv'].copy().query(q+' and isDirt==1')[xvar], \n",
    "                         bins,  \n",
    "                        weights=datasets_dict['outfv'].copy().query(q+' and isDirt==1')['pot_scale'], \n",
    "                         color='orchid')[0]"
   ]
  },
  {
   "cell_type": "code",
   "execution_count": 97,
   "metadata": {},
   "outputs": [
    {
     "data": {
      "image/png": "[encoded data removed]",
      "text/plain": [
       "<Figure size 800x500 with 1 Axes>"
      ]
     },
     "metadata": {},
     "output_type": "display_data"
    },
    {
     "name": "stdout",
     "output_type": "stream",
     "text": [
      "number of universes =  1\n"
     ]
    },
    {
     "data": {
      "image/png": "[encoded data removed]",
      "text/plain": [
       "<Figure size 1000x600 with 2 Axes>"
      ]
     },
     "metadata": {},
     "output_type": "display_data"
    },
    {
     "data": {
      "image/png": "[encoded data removed]",
      "text/plain": [
       "<Figure size 1000x600 with 2 Axes>"
      ]
     },
     "metadata": {},
     "output_type": "display_data"
    },
    {
     "data": {
      "image/png": "[encoded data removed]",
      "text/plain": [
       "<Figure size 1000x600 with 2 Axes>"
      ]
     },
     "metadata": {},
     "output_type": "display_data"
    }
   ],
   "source": [
    "dirt_uncertainty = dirt_unisim(xvar, bins, evt_rate, selected_dirt, 1.0, isrun3=ISRUN3, plot=True, \n",
    "                               x_label=None, title=None)"
   ]
  },
  {
   "cell_type": "markdown",
   "metadata": {},
   "source": [
    "## All Sources of Uncertainty"
   ]
  },
  {
   "cell_type": "code",
   "execution_count": 98,
   "metadata": {},
   "outputs": [
    {
     "data": {
      "text/plain": [
       "False"
      ]
     },
     "execution_count": 98,
     "metadata": {},
     "output_type": "execute_result"
    }
   ],
   "source": [
    "ISRUN3"
   ]
  },
  {
   "cell_type": "code",
   "execution_count": 99,
   "metadata": {},
   "outputs": [],
   "source": [
    "frac_cov_dict = {\n",
    "    'ppfx' : ppfx_dict['frac_cov'], \n",
    "    'beamline' : beamline_dict['frac_cov'], \n",
    "    'genie_ms' : genie_dict['frac_cov'], \n",
    "    'genie_us': genie_unisim_dict['frac_cov'], \n",
    "    'geant4' : geant4_dict['frac_cov'],\n",
    "    'pot_counting' : pot_counting['frac_cov'], \n",
    "    'dirt' : dirt_uncertainty['frac_cov'],\n",
    "    'mc_stat' : mc_frac_stat_cov, # either the full distribution or just background events \n",
    "    'ext_stat' : ext_frac_stat_cov\n",
    "}\n",
    "\n",
    "if detsys: \n",
    "    frac_cov_dict['detector'] = detsys_dict['frac_cov']\n",
    "\n",
    "\n",
    "if background_subtraction: \n",
    "    frac_cov_dict['response_matrix'] = response_matrix_uncertainty['frac_cov']\n",
    "    frac_cov_dict['beamon_stat'] = beamon_frac_stat_cov\n"
   ]
  },
  {
   "cell_type": "code",
   "execution_count": 100,
   "metadata": {},
   "outputs": [
    {
     "name": "stdout",
     "output_type": "stream",
     "text": [
      "Note: Input must be fractional covariance matrices !\n"
     ]
    },
    {
     "data": {
      "image/png": "[encoded data removed]",
      "text/plain": [
       "<Figure size 1300x900 with 2 Axes>"
      ]
     },
     "metadata": {},
     "output_type": "display_data"
    },
    {
     "data": {
      "image/png": "[encoded data removed]",
      "text/plain": [
       "<Figure size 1300x900 with 2 Axes>"
      ]
     },
     "metadata": {},
     "output_type": "display_data"
    }
   ],
   "source": [
    "cv = evt_rate\n",
    "\n",
    "bincenters = 0.5*(np.array(bins)[1:]+np.array(bins)[:-1])\n",
    "\n",
    "tot_frac_cov, tot_abs_cov = plotFullCov(frac_cov_dict, xvar, cv, bins, xlow, xhigh, bincenters=bincenters, save=False, \n",
    "                      axis_label='Reco '+x_label, isrun3=ISRUN3, pot=str(beamon_pot)+' POT')"
   ]
  },
  {
   "cell_type": "code",
   "execution_count": 101,
   "metadata": {},
   "outputs": [],
   "source": [
    "# add ppfx & beamline geometry in quadrature\n",
    "frac_cov_dict['flux'] = [ [x+y for x,y in zip(a,b)] for a,b in zip(frac_cov_dict['ppfx'], frac_cov_dict['beamline'])]\n",
    "\n",
    "# add genie in quadrature\n",
    "frac_cov_dict['genie_all'] = [ [x+y for x,y in zip(a,b)] for a,b in zip(frac_cov_dict['genie_ms'], frac_cov_dict['genie_us'])]\n",
    "\n",
    "# add stat stuff in quadrature \n",
    "\n",
    "if background_subtraction: \n",
    "    \n",
    "    if isData: # NuMI data / NuWro studies\n",
    "        frac_cov_dict['stat_all'] = [ [w+x+y+z for w,x,y,z in zip(a,b,c,d)] for a,b,c,d in zip( frac_cov_dict['beamon_stat'], frac_cov_dict['response_matrix'], frac_cov_dict['mc_stat'], frac_cov_dict['ext_stat'])]\n",
    "    \n",
    "    else:  # GENIE closure studies\n",
    "        frac_cov_dict['stat_all'] = [ [x+y+z for x,y,z in zip(b,c,d)] for b,c,d in zip( frac_cov_dict['response_matrix'], frac_cov_dict['mc_stat'], frac_cov_dict['ext_stat'])]\n",
    "\n",
    "# for mc/data comparisons\n",
    "else: \n",
    "    frac_cov_dict['stat_all'] = [ [x+y for x,y in zip(a,b)] for a,b in zip(frac_cov_dict['mc_stat'], frac_cov_dict['ext_stat'])]\n"
   ]
  },
  {
   "cell_type": "code",
   "execution_count": null,
   "metadata": {},
   "outputs": [],
   "source": []
  },
  {
   "cell_type": "code",
   "execution_count": 102,
   "metadata": {},
   "outputs": [],
   "source": [
    "# clean away nans\n",
    "v = np.array(tot_frac_cov)\n",
    "v[np.isnan(v)] = 0\n",
    "tot_frac_cov = v"
   ]
  },
  {
   "cell_type": "code",
   "execution_count": 103,
   "metadata": {},
   "outputs": [],
   "source": [
    "# clean away nans\n",
    "v = np.array(tot_abs_cov)\n",
    "v[np.isnan(v)] = 0\n",
    "tot_abs_cov = v"
   ]
  },
  {
   "cell_type": "code",
   "execution_count": 104,
   "metadata": {},
   "outputs": [],
   "source": [
    "frac_unc_dict = {\n",
    "    'flux' : np.sqrt(np.diagonal(frac_cov_dict['flux'])), \n",
    "    'genie' : np.sqrt(np.diagonal(frac_cov_dict['genie_all'])), \n",
    "    'geant4' : np.sqrt(np.diagonal(frac_cov_dict['geant4'])),\n",
    "    'pot_counting' : np.sqrt(np.diagonal(frac_cov_dict['pot_counting'])), \n",
    "    'dirt' : np.sqrt(np.diagonal(frac_cov_dict['dirt'])),\n",
    "    'stat' : np.sqrt(np.diagonal(frac_cov_dict['stat_all'])), # does not include beam on STAT \n",
    "    'total' : np.sqrt(np.diagonal(tot_frac_cov))\n",
    "}\n",
    "\n",
    "if detsys: \n",
    "    frac_unc_dict['detector'] = np.sqrt(np.diagonal(frac_cov_dict['detector']))"
   ]
  },
  {
   "cell_type": "code",
   "execution_count": 105,
   "metadata": {},
   "outputs": [
    {
     "data": {
      "text/plain": [
       "array([0.65845272, 0.36779222, 0.45742301, 0.54147537, 0.72425296,\n",
       "       0.49507498])"
      ]
     },
     "execution_count": 105,
     "metadata": {},
     "output_type": "execute_result"
    }
   ],
   "source": [
    "tot_unc = [0 for i in range(len(bins)-1)]\n",
    "\n",
    "for source in frac_unc_dict.keys(): \n",
    "    \n",
    "    if source=='total': \n",
    "        continue\n",
    "    \n",
    "    # square the list \n",
    "    squared = [x**2 for x in frac_unc_dict[source]]\n",
    "    \n",
    "    # add in quadrature \n",
    "    tot_unc = [a+b for a,b in zip(tot_unc, squared)]\n",
    "   \n",
    "tot_unc = np.sqrt(np.array(tot_unc))\n",
    "tot_unc\n",
    " "
   ]
  },
  {
   "cell_type": "code",
   "execution_count": 106,
   "metadata": {},
   "outputs": [
    {
     "data": {
      "image/png": "[encoded data removed]",
      "text/plain": [
       "<Figure size 800x500 with 1 Axes>"
      ]
     },
     "metadata": {},
     "output_type": "display_data"
    }
   ],
   "source": [
    "bincenters = 0.5*(np.array(bins)[1:]+np.array(bins)[:-1])\n",
    "\n",
    "fig = plt.figure(figsize=(8, 5))  \n",
    "\n",
    "# TOTAL \n",
    "plt.hist(bincenters, bins, histtype='step', range=[bins[0], bins[-1]], label=\"Total\",\n",
    "        weights=frac_unc_dict['total'], linewidth=1.5, color='black')\n",
    "\n",
    "# FLUX\n",
    "plt.hist(bincenters, bins, histtype='step', range=[bins[0], bins[-1]], label=\"Flux\", \n",
    "         weights=frac_unc_dict['flux'], color='royalblue')\n",
    "\n",
    "# CROSS SECTION MODELS \n",
    "plt.hist(bincenters, bins, histtype='step', range=[bins[0], bins[-1]], label=\"GENIE\", \n",
    "         weights=frac_unc_dict['genie'], color='goldenrod')\n",
    "\n",
    "#plt.hist(bincenters, bins, histtype='step', range=[bins[0], bins[-1]], label=\"GENIE (us)\", \n",
    "#         weights=np.sqrt(np.diag(frac_cov_dict['genie_us'])), color='goldenrod')\n",
    "\n",
    "#plt.hist(bincenters, bins, histtype='step', range=[bins[0], bins[-1]], label=\"GENIE (ms)\", \n",
    "#         weights=np.sqrt(np.diag(frac_cov_dict['genie_ms'])), color='goldenrod', linestyle='--')\n",
    "\n",
    "plt.hist(bincenters, bins, histtype='step', range=[bins[0], bins[-1]], label=\"GEANT4\", \n",
    "         weights=frac_unc_dict['geant4'], color='green')\n",
    "\n",
    "# DETECTOR \n",
    "if detsys: \n",
    "    plt.hist(bincenters, bins, histtype='step', range=[bins[0], bins[-1]], label=\"Detector\", \n",
    "         weights=frac_unc_dict['detector'], color='crimson')\n",
    "\n",
    "# POT COUNTING \n",
    "plt.hist(bincenters, bins, histtype='step', range=[bins[0], bins[-1]], label=\"POT counting\",\n",
    "        weights=frac_unc_dict['pot_counting'], color='purple')\n",
    "\n",
    "# DIRT \n",
    "plt.hist(bincenters, bins, histtype='step', range=[bins[0], bins[-1]], label=\"Dirt\",\n",
    "        weights=frac_unc_dict['dirt'], color='brown')\n",
    "\n",
    "# STATISTICAL \n",
    "plt.hist(bincenters, bins, histtype='step', range=[bins[0], bins[-1]], label=\"Stat\",\n",
    "        weights=frac_unc_dict['stat'], color='hotpink')\n",
    "\n",
    "plt.xticks(fontsize=13)\n",
    "plt.yticks(fontsize=13)\n",
    "\n",
    "plt.xlabel(\"Reco \" + x_label, fontsize=15)\n",
    "plt.ylabel(\"Fractional Uncertainty\", fontsize=15)\n",
    "\n",
    "plt.xlim(bins[0], xhigh)\n",
    "plt.ylim(0, 1)\n",
    "\n",
    "plt.legend(fontsize=13, frameon=False, ncol=3)\n",
    "\n",
    "\n",
    "if background_subtraction: \n",
    "    if ISRUN3: \n",
    "        plt.title(\"Uncertainty on the RHC Background-Subtracted Event Rate\", fontsize=16)\n",
    "    else: \n",
    "        plt.title(\"Uncertainty on the FHC Background-Subtracted Event Rate\", fontsize=16)\n",
    "        \n",
    "else: \n",
    "    if ISRUN3: \n",
    "        plt.title(\"Uncertainty on the RHC Selected Event Rate (MC+EXT)\", fontsize=16)\n",
    "    else: \n",
    "        plt.title(\"Uncertainty on the FHC Selected Event Rate (MC+EXT)\", fontsize=16)   \n",
    "\n",
    "plt.show()"
   ]
  },
  {
   "cell_type": "markdown",
   "metadata": {},
   "source": [
    "## Data/MC Comparisons -- only use for before background subtraction"
   ]
  },
  {
   "cell_type": "code",
   "execution_count": 107,
   "metadata": {
    "scrolled": true
   },
   "outputs": [],
   "source": [
    "if not background_subtraction:\n",
    "    x = plot_mc(\n",
    "        xvar, bins, xlow, xhigh, q, datasets_dict, ISRUN3,\n",
    "        norm='data',\n",
    "        x_label='Reconstructed ' + x_label,\n",
    "        save=False,\n",
    "        y_label=y_label,\n",
    "        xtext=0.9,\n",
    "        ytext=40\n",
    "    )"
   ]
  },
  {
   "cell_type": "code",
   "execution_count": null,
   "metadata": {},
   "outputs": [],
   "source": []
  },
  {
   "cell_type": "code",
   "execution_count": 108,
   "metadata": {},
   "outputs": [
    {
     "name": "stdout",
     "output_type": "stream",
     "text": [
      "make sure to update save label!\n",
      "save label =  fhc_bdttraining\n"
     ]
    }
   ],
   "source": [
    "if ISRUN3: \n",
    "    chi2_label = \"MicroBooNE Run 3 RHC:\\n5.0 $\\\\times 10^{20}$ POT\"\n",
    "    save_label = \"rhc_bdttraining\" # originally commented out\n",
    "    beamon_pot_str = \"\" # originally commented out\n",
    "    \n",
    "else: \n",
    "    chi2_label = \"MicroBooNE Run 1 FHC:\\n2.0 $\\\\times 10^{20}$ POT\"\n",
    "    save_label = \"fhc_bdttraining\" # originally commented out\n",
    "    beamon_pot_str = \"\" # originally commented out\n",
    "    \n",
    "print(\"make sure to update save label!\")\n",
    "print(\"save label = \", save_label)"
   ]
  },
  {
   "cell_type": "code",
   "execution_count": null,
   "metadata": {},
   "outputs": [],
   "source": []
  },
  {
   "cell_type": "code",
   "execution_count": 109,
   "metadata": {},
   "outputs": [
    {
     "name": "stdout",
     "output_type": "stream",
     "text": [
      "Background subtraction enabled, skipping chi-squared computation.\n"
     ]
    }
   ],
   "source": [
    "## compute the chi2 \n",
    "\n",
    "if not background_subtraction: \n",
    "    \n",
    "    selected_data = plt.hist(datasets_dict['data'].copy().query(q)[xvar], bins)[0]\n",
    "    plt.close()\n",
    "    \n",
    "    tot_cov = [ [0]*(len(bins)-1) for x in range(len(bins)-1) ]\n",
    "\n",
    "    # inverse cov -- make sure to include the beam on stat covariance! \n",
    "    tot_cov_frac = np.array(tot_frac_cov)+np.array(beamon_frac_stat_cov)\n",
    "\n",
    "    for i in range(len(bins)-1): \n",
    "         for j in range(len(bins)-1): \n",
    "                tot_cov[i][j] = tot_cov_frac[i][j] * evt_rate[i] * evt_rate[j]\n",
    "\n",
    "    tot_inverse_cov = np.linalg.pinv(tot_cov)\n",
    "\n",
    "    ## check \n",
    "    plt.pcolor(bins, bins, np.matmul(tot_cov, tot_inverse_cov), cmap='OrRd', edgecolors='k')\n",
    "    plt.xlim(xlow,xhigh)\n",
    "    plt.ylim(xlow,xhigh)\n",
    "    cbar = plt.colorbar()\n",
    "    plt.show()\n",
    "\n",
    "\n",
    "    chi2 = 0\n",
    "\n",
    "    for i in range(len(bins)-1):  \n",
    "        for j in range(len(bins)-1):  \n",
    "                chi2 = chi2  + ( (evt_rate[i]-selected_data[i])*tot_inverse_cov[i][j]*(evt_rate[j]-selected_data[j]) )\n",
    "    print(chi2)\n",
    "\n",
    "else:\n",
    "    print(\"Background subtraction enabled, skipping chi-squared computation.\")"
   ]
  },
  {
   "cell_type": "code",
   "execution_count": 110,
   "metadata": {},
   "outputs": [
    {
     "name": "stdout",
     "output_type": "stream",
     "text": [
      "0.09938547\n"
     ]
    }
   ],
   "source": [
    "if background_subtraction:\n",
    "    print(datasets_dict['data'].copy().query(q)[xvar].min())"
   ]
  },
  {
   "cell_type": "markdown",
   "metadata": {},
   "source": [
    "## Pre-selection, loose cuts plots and BDT plots"
   ]
  },
  {
   "cell_type": "code",
   "execution_count": 111,
   "metadata": {},
   "outputs": [],
   "source": [
    "# Plot data with the selected query\n",
    "\n",
    "# sys now takes an array of the total uncertainty\n",
    "\n",
    "# BDT PLOT can be made here! 125 for FHC, 260 for RHC!\n",
    "\n",
    "if not background_subtraction:\n",
    "    d = plot_data(\n",
    "        xvar, bins, xlow, xhigh, q, datasets_dict, ISRUN3,\n",
    "        save=True,\n",
    "        save_label=save_label,\n",
    "        ymax=250,\n",
    "        x_label=x_label,\n",
    "        #x_label=\"Reconstructed \" + x_label,\n",
    "        #x_label = \"Reconstructed \" + \"$\\cos{\\\\mathit{\\\\theta}_{\\mathrm{ep}}}$\", \n",
    "        ncol=2,\n",
    "        text=chi2_label + \"\\n$\\\\mathit{\\\\chi^{2}/n}$ = \" + str(round(chi2, 1)) + \"/\" + str(len(bins) - 1),\n",
    "        xtext=xlow + 0.1,\n",
    "        ytext=48,\n",
    "        x_ticks=x_ticks,\n",
    "        sys=frac_unc_dict['total']\n",
    "    )"
   ]
  },
  {
   "cell_type": "markdown",
   "metadata": {},
   "source": [
    "## Save variations to file -- use for unfolding only"
   ]
  },
  {
   "cell_type": "code",
   "execution_count": 112,
   "metadata": {},
   "outputs": [
    {
     "name": "stdout",
     "output_type": "stream",
     "text": [
      "make sure to change file name!\n"
     ]
    }
   ],
   "source": [
    "if background_subtraction: \n",
    "    print(\"make sure to change file name!\")\n",
    "    \n",
    "    variations_dict = {\n",
    "        'evt_rate' : evt_rate, \n",
    "        'beamon_counts' : list(selected_data_counts), \n",
    "        'ppfx' : ppfx_variations, \n",
    "        'beamline' : beamline_variations, \n",
    "        'genie_ms' : genie_variations, \n",
    "        'genie_us' : genie_us_variations, \n",
    "        'geant4' : geant4_variations,\n",
    "        'pot_counting' : pot_counting['variations'], \n",
    "        'dirt' : dirt_uncertainty['variations'], \n",
    "        'response_matrix' : rmatrix_uni_counts, \n",
    "        'cv_dirt' : list(selected_dirt), \n",
    "        'cv_bkgd' : bkgd_event_rate, # total background event rate (MC+EXT)\n",
    "        'cv_ext' : list(cv_ext),\n",
    "        'mc_bkgd_sumw2' : list(mc_bkgd_sumw2), # need to take the square root for fractional uncertainty \n",
    "        'ext_sumw2' : list(ext_sumw2), # need to take the square root for fractional uncertainty \n",
    "        'mc_signal_sumw2' : mc_signal_sumw2\n",
    "    }\n",
    "    \n",
    "\n",
    "else: \n",
    "    print(\"make sure to change file name!\")\n",
    "    \n",
    "    variations_dict = {\n",
    "        'full_evt_rate' : evt_rate, \n",
    "        'beamon_full_evt_rate' : list(selected_data_counts), \n",
    "        'ppfx' : [list(a) for a in ppfx_variations], \n",
    "        'beamline' : beamline_variations, \n",
    "        'genie_ms' : [list(a) for a in genie_variations], \n",
    "        'genie_us' : genie_us_variations, \n",
    "        'geant4' : [list(a) for a in geant4_variations],\n",
    "        'pot_counting' : pot_counting['variations'], \n",
    "        'dirt' : dirt_uncertainty['variations'], \n",
    "        'cv_dirt' : list(selected_dirt), \n",
    "        'cv_bkgd' : bkgd_event_rate, # total background event rate (MC+EXT)\n",
    "        'cv_ext' : list(cv_ext), # just the EXT background \n",
    "        'mc_bkgd_sumw2' : list(mc_bkgd_sumw2), # need to take the square root for fractional uncertainty \n",
    "        'ext_sumw2' : list(ext_sumw2), # need to take the square root for fractional uncertainty \n",
    "        'mc_signal_sumw2' : mc_signal_sumw2\n",
    "    }"
   ]
  },
  {
   "cell_type": "code",
   "execution_count": 113,
   "metadata": {},
   "outputs": [
    {
     "name": "stdout",
     "output_type": "stream",
     "text": [
      "unfolding/variations/\n"
     ]
    }
   ],
   "source": [
    "from datetime import date  \n",
    "import json\n",
    "import os\n",
    "\n",
    "save = True\n",
    "\n",
    "# Set the path conditionally based on background_subtraction\n",
    "if background_subtraction:\n",
    "    path = 'unfolding/variations/'\n",
    "else:\n",
    "    path = 'unfolding/variations/full_event_rates/'\n",
    "\n",
    "print(path)\n",
    "\n",
    "if ISRUN3: \n",
    "    filename = 'RHCVariations_' + xvar + \"_\" + date.today().strftime(\"%m%d%y\") + \".json\"\n",
    "else:\n",
    "    filename = 'FHCVariations_' + xvar + \"_\" + date.today().strftime(\"%m%d%y\") + \".json\"\n",
    "\n",
    "if save:\n",
    "    # Check if the file already exists\n",
    "    if os.path.exists(path + filename): \n",
    "        print(filename, \"exists and is readable, need to update file name to save!\")\n",
    "    else: \n",
    "        # Save the variations_dict to the specified path and filename\n",
    "        with open(path + filename, 'w') as f:\n",
    "            json.dump(variations_dict, f)\n",
    "else:\n",
    "    print(\"Saving is disabled; file not saved.\")\n"
   ]
  },
  {
   "cell_type": "markdown",
   "metadata": {},
   "source": [
    "## NuMI Oscillations (3+1 Model) -- outdated"
   ]
  },
  {
   "cell_type": "code",
   "execution_count": null,
   "metadata": {},
   "outputs": [],
   "source": [
    "# outdated \n",
    "\n",
    "x = plot_mc(xvar, [round(0.01*x, 2) for x in range(0, 75, 5)], 0, 0.7, 'BDT_score>0.575', datasets_bdt, ISRUN3, \n",
    "        plt_norm='proj', pot='$9.23\\\\times10^{20}$', ymax=30, x_label='True Neutrino Energy [GeV]', \n",
    "            osc='machado_bestfit.csv')\n",
    "\n",
    "# osc='biggest_variation.csv'"
   ]
  },
  {
   "cell_type": "code",
   "execution_count": null,
   "metadata": {},
   "outputs": [],
   "source": []
  },
  {
   "cell_type": "markdown",
   "metadata": {},
   "source": [
    "#### Create projected oscillation dictionary "
   ]
  },
  {
   "cell_type": "code",
   "execution_count": null,
   "metadata": {},
   "outputs": [],
   "source": [
    "import json"
   ]
  },
  {
   "cell_type": "code",
   "execution_count": null,
   "metadata": {},
   "outputs": [],
   "source": [
    "# to load a stored dictionary \n",
    "with open('outdated/FHC_Projected_TrueNeutrinoEnergy.json') as f:\n",
    "    d = json.load(f)"
   ]
  },
  {
   "cell_type": "code",
   "execution_count": null,
   "metadata": {},
   "outputs": [],
   "source": [
    "bins = np.linspace(0, 4.5, 46) #d['bins']"
   ]
  },
  {
   "cell_type": "code",
   "execution_count": null,
   "metadata": {},
   "outputs": [],
   "source": [
    "x = plot_mc('nu_e', bins, 0, 5, selected_query, datasets_bdt, \n",
    "            ISRUN3, x_label=\"Reco $\\\\nu$ Energy [GeV]\", norm='data', pot='$2.0\\\\times10^{20}$')"
   ]
  },
  {
   "cell_type": "code",
   "execution_count": null,
   "metadata": {},
   "outputs": [],
   "source": [
    "oscillation_dict = {}"
   ]
  },
  {
   "cell_type": "code",
   "execution_count": null,
   "metadata": {},
   "outputs": [],
   "source": [
    "oscillation_dict['bins'] = bins"
   ]
  },
  {
   "cell_type": "code",
   "execution_count": null,
   "metadata": {},
   "outputs": [],
   "source": [
    "pot_scale = 9.23E20/parameters(ISRUN3)['beamon_pot']\n",
    "print(pot_scale)"
   ]
  },
  {
   "cell_type": "code",
   "execution_count": null,
   "metadata": {},
   "outputs": [],
   "source": [
    "oscillation_dict['CV'] = [k*pot_scale for k in x['CV']]"
   ]
  },
  {
   "cell_type": "code",
   "execution_count": null,
   "metadata": {},
   "outputs": [],
   "source": [
    "ncv, ppfx_variations = plotSysVariations('nu_e', 'nu_e', bins, bins[0], bins[-1], selected_query, datasets_bdt, 'weightsPPFX',600, \n",
    "                                         ISRUN3, plot=False, axis_label='True Neutrino Energy [GeV]', pot='$2.0 x 10^{20}$ POT', \n",
    "                                              background_subtraction=False)\n",
    "\n",
    "ppfx_dict = calcCov('nu_e', bins, ncv, ppfx_variations, plot=False, save=False, \n",
    "                    axis_label='True Neutrino Energy [GeV] ', pot='$2.0 x 10^{20}$ POT', isrun3=ISRUN3, title='Hadron Production')"
   ]
  },
  {
   "cell_type": "code",
   "execution_count": null,
   "metadata": {},
   "outputs": [],
   "source": [
    "oscillation_dict['ppfx_cov_frac'] = ppfx_dict['frac_cov']"
   ]
  },
  {
   "cell_type": "code",
   "execution_count": null,
   "metadata": {},
   "outputs": [],
   "source": [
    "ncv, genie_variations = plotSysVariations('nu_e', 'nu_e', bins, bins[0], bins[-1], selected_query, datasets_bdt, 'weightsGenie',600, \n",
    "                                         ISRUN3, plot=True, axis_label='True Neutrino Energy [GeV]', pot='$2.0 x 10^{20}$ POT', \n",
    "                                              background_subtraction=False)\n",
    "\n",
    "genie_dict = calcCov('nu_e', bins, ncv, genie_variations, plot=False, save=False, \n",
    "                    axis_label='True Neutrino Energy [GeV] ', pot='$2.0 x 10^{20}$ POT', isrun3=ISRUN3, title='Hadron Production')"
   ]
  },
  {
   "cell_type": "code",
   "execution_count": null,
   "metadata": {},
   "outputs": [],
   "source": [
    "oscillation_dict['genie_cov_frac'] = genie_dict['frac_cov']"
   ]
  },
  {
   "cell_type": "code",
   "execution_count": null,
   "metadata": {},
   "outputs": [],
   "source": [
    "ncv, geant4_variations = plotSysVariations('nu_e', 'nu_e', bins, bins[0], bins[-1], selected_query, datasets_bdt, 'weightsReint',1000, \n",
    "                                         ISRUN3, plot=True, axis_label='True Neutrino Energy [GeV]', pot='$2.0 x 10^{20}$ POT', \n",
    "                                              background_subtraction=False)\n",
    "\n",
    "\n",
    "geant4_dict = calcCov('nu_e', bins, ncv, geant4_variations, plot=False, save=False, \n",
    "                    axis_label='True Neutrino Energy [GeV] ', pot='$2.0 x 10^{20}$ POT', isrun3=ISRUN3, title='Hadron Production')"
   ]
  },
  {
   "cell_type": "code",
   "execution_count": null,
   "metadata": {},
   "outputs": [],
   "source": [
    "oscillation_dict['reint_cov_frac'] = geant4_dict['frac_cov']"
   ]
  },
  {
   "cell_type": "code",
   "execution_count": null,
   "metadata": {},
   "outputs": [],
   "source": [
    "## detector variations -- make new file \n",
    "recreate_file=True"
   ]
  },
  {
   "cell_type": "code",
   "execution_count": null,
   "metadata": {},
   "outputs": [],
   "source": [
    "if recreate_file: \n",
    "    for v in list(detvar_run1_fhc.keys()): \n",
    "        NuMIDetSysWeights.makehist_detsys(v, ISRUN3, \"NuMI_FHC_BDT_DetectorVariations_OscillationAnalysis_v2.root\", 'nu_e', \n",
    "                                          bins, cut=selected_query, useBDT=True)"
   ]
  },
  {
   "cell_type": "code",
   "execution_count": null,
   "metadata": {},
   "outputs": [],
   "source": [
    "detector_variations = NuMIDetSysWeights.plot_variations('nu_e', bins, \"NuMI_FHC_BDT_DetectorVariations_OscillationAnalysis_v2.root\", \n",
    "                                                        ISRUN3, axis_label='True Neutrino Energy', plot=True, background_subtraction=False)"
   ]
  },
  {
   "cell_type": "code",
   "execution_count": null,
   "metadata": {},
   "outputs": [],
   "source": [
    "# compute covariance (N=1 for each variation)\n",
    "\n",
    "detsys_cov = {}\n",
    "\n",
    "# index in weightsNuMIGeo are offset by -1\n",
    "\n",
    "for variation in detector_variations.keys(): \n",
    "    \n",
    "    if variation=='CV': \n",
    "        continue\n",
    "    \n",
    "    # calc covariance for each unisim \n",
    "    detsys_cov[variation] = calcCov('nu_e', bins, detector_variations['CV'], [detector_variations[variation]], 'Detector', \n",
    "                                    plot=False, save=False, pot='$2.0 x 10^{20}$ POT', isrun3=ISRUN3,\n",
    "                                   title=variation)"
   ]
  },
  {
   "cell_type": "code",
   "execution_count": null,
   "metadata": {},
   "outputs": [],
   "source": [
    "# compute total covariance, correlation, & uncertainty \n",
    "\n",
    "cov = [ [0]*(len(bins)-1) for x in range(len(bins)-1) ]\n",
    "frac_cov = [ [0]*(len(bins)-1) for x in range(len(bins)-1) ]\n",
    "cor = [ [0]*(len(bins)-1) for x in range(len(bins)-1) ]\n",
    "\n",
    "for variation in detsys_cov.keys(): \n",
    "    \n",
    "    for i in range(len(bins)-1): \n",
    "        for j in range(len(bins)-1):\n",
    "            \n",
    "            cov[i][j] = sum([detsys_cov[x]['cov'][i][j] for x in detsys_cov.keys()])\n",
    "            \n",
    "            if detector_variations['CV'][i]*detector_variations['CV'][j] != 0: \n",
    "                frac_cov[i][j] = cov[i][j]/(detector_variations['CV'][i]*detector_variations['CV'][j])\n",
    "\n",
    "            \n",
    "for i in range(len(bins)-1): \n",
    "    for j in range(len(bins)-1):\n",
    "        \n",
    "        if np.sqrt(cov[i][i])*np.sqrt(cov[j][j]) != 0: \n",
    "                cor[i][j] = cov[i][j] / (np.sqrt(cov[i][i])*np.sqrt(cov[j][j]))\n",
    "            \n",
    "detsys_dict = {\n",
    "    'cov' : cov, \n",
    "    'frac_cov' : frac_cov,\n",
    "    'cor' : cor,\n",
    "    'fractional_uncertainty' : np.sqrt(np.diag(frac_cov))\n",
    "} "
   ]
  },
  {
   "cell_type": "code",
   "execution_count": null,
   "metadata": {},
   "outputs": [],
   "source": [
    "oscillation_dict['det_cov_frac'] = detsys_dict['frac_cov']"
   ]
  },
  {
   "cell_type": "code",
   "execution_count": null,
   "metadata": {},
   "outputs": [],
   "source": [
    "tot_frac_cov = [ [0]*(len(bins)-1) for x in range(len(bins)-1) ]\n",
    "\n",
    "for source in list(oscillation_dict.keys())[2:]: \n",
    "    tot_frac_cov = [ [x+y for x,y in zip(a,b)] for a,b in zip(tot_frac_cov, oscillation_dict[source])]"
   ]
  },
  {
   "cell_type": "code",
   "execution_count": null,
   "metadata": {},
   "outputs": [],
   "source": [
    "oscillation_dict['tot_cov_frac'] = tot_frac_cov"
   ]
  },
  {
   "cell_type": "code",
   "execution_count": null,
   "metadata": {},
   "outputs": [],
   "source": [
    "oscillation_dict.keys()\n"
   ]
  },
  {
   "cell_type": "code",
   "execution_count": null,
   "metadata": {},
   "outputs": [],
   "source": [
    "oscillation_dict['bins'] = oscillation_dict['bins'].tolist()"
   ]
  },
  {
   "cell_type": "code",
   "execution_count": null,
   "metadata": {},
   "outputs": [],
   "source": [
    "# save this dictionary \n",
    "\n",
    "with open('mun/FHC_Projected_TrueNeutrinoEnergy_March2022_v2.json', 'w') as f:\n",
    "    json.dump(oscillation_dict, f)"
   ]
  }
 ],
 "metadata": {
  "kernelspec": {
   "display_name": "Python 3 (ipykernel)",
   "language": "python",
   "name": "python3"
  },
  "language_info": {
   "codemirror_mode": {
    "name": "ipython",
    "version": 3
   },
   "file_extension": ".py",
   "mimetype": "text/x-python",
   "name": "python",
   "nbconvert_exporter": "python",
   "pygments_lexer": "ipython3",
   "version": "3.9.13"
  }
 },
 "nbformat": 4,
 "nbformat_minor": 4
}
